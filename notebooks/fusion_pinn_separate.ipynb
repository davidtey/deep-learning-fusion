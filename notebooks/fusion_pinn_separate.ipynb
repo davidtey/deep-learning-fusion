{
 "cells": [
  {
   "cell_type": "markdown",
   "metadata": {},
   "source": [
    "# PINN Implementation of Ashourvan & Diamond Paper"
   ]
  },
  {
   "cell_type": "code",
   "execution_count": 1,
   "metadata": {},
   "outputs": [],
   "source": [
    "import numpy as np\n",
    "import torch\n",
    "import torch.nn as nn\n",
    "from torch.autograd import grad\n",
    "\n",
    "import mlflow\n",
    "import mlflow.pytorch\n",
    "\n",
    "from tqdm.notebook import tqdm\n",
    "\n",
    "import imageio.v2 as imageio\n",
    "import matplotlib.pyplot as plt\n",
    "from mpl_toolkits.mplot3d import Axes3D\n",
    "\n",
    "import os"
   ]
  },
  {
   "cell_type": "markdown",
   "metadata": {},
   "source": [
    "## Define Parameters"
   ]
  },
  {
   "cell_type": "code",
   "execution_count": 2,
   "metadata": {},
   "outputs": [],
   "source": [
    "l_0 = 1.0\n",
    "κ = 1.0\n",
    "α = 6.0\n",
    "D_c = 0.78\n",
    "C_χ = 0.95\n",
    "a_u = 1.0\n",
    "μ_c = 0.78\n",
    "β = 0.1\n",
    "Λ = 4000.0\n",
    "ϵ_c = 6.25"
   ]
  },
  {
   "cell_type": "code",
   "execution_count": 3,
   "metadata": {},
   "outputs": [],
   "source": [
    "g_i = 5.1\n",
    "ϵ_i = 0.002"
   ]
  },
  {
   "cell_type": "code",
   "execution_count": 4,
   "metadata": {},
   "outputs": [],
   "source": [
    "physical_params = {\n",
    "    'l_0': l_0,\n",
    "    'κ': κ,\n",
    "    'α': α,\n",
    "    'D_c': D_c,\n",
    "    'C_χ': C_χ,\n",
    "    'a_u': a_u,\n",
    "    'μ_c': μ_c,\n",
    "    'β': β,\n",
    "    'Λ': Λ,\n",
    "    'ϵ_c': ϵ_c,\n",
    "    'g_i': g_i,\n",
    "    'ϵ_i': ϵ_i\n",
    "}"
   ]
  },
  {
   "cell_type": "markdown",
   "metadata": {},
   "source": [
    "## Define PDEs"
   ]
  },
  {
   "cell_type": "markdown",
   "metadata": {},
   "source": [
    "### Define repeated calculations"
   ]
  },
  {
   "cell_type": "code",
   "execution_count": 5,
   "metadata": {},
   "outputs": [],
   "source": [
    "def compute_l(n_x, u_x, ϵ):\n",
    "    return l_0/(1 + l_0**2 * (n_x - u_x)**2 / ϵ)**(κ/2)"
   ]
  },
  {
   "cell_type": "code",
   "execution_count": 6,
   "metadata": {},
   "outputs": [],
   "source": [
    "def compute_w(C_χ, l, ϵ, α, a_u, u):\n",
    "    return C_χ * l**2 * ϵ / torch.sqrt(α**2 + a_u * u**2)"
   ]
  },
  {
   "cell_type": "markdown",
   "metadata": {},
   "source": [
    "### Dynamic equation for mean density\n"
   ]
  },
  {
   "cell_type": "code",
   "execution_count": 7,
   "metadata": {},
   "outputs": [],
   "source": [
    "def pde_mean_density(x, n_t, n_x, n_xx, ϵ, l, α, D_c):    \n",
    "    intermediate = l**2 * ϵ * n_x / α\n",
    "    intermediate_x = grad(intermediate, x, grad_outputs=torch.ones_like(intermediate), retain_graph=True, create_graph=True)[0]\n",
    "    \n",
    "    return (n_t - intermediate_x - D_c * n_xx)**2"
   ]
  },
  {
   "cell_type": "markdown",
   "metadata": {},
   "source": [
    "### Dynamic equation for mean vorticity"
   ]
  },
  {
   "cell_type": "code",
   "execution_count": 8,
   "metadata": {},
   "outputs": [],
   "source": [
    "def pde_mean_vorticity(x, ϵ, n_x, u_t, u_xx, l, α, μ_c, w):    \n",
    "    intermediate = (l**2 * ϵ / α - w) * n_x\n",
    "    intermediate_x = grad(intermediate, x, grad_outputs=torch.ones_like(intermediate), retain_graph=True, create_graph=True)[0]\n",
    "    \n",
    "    return (u_t - intermediate_x - w * u_xx - μ_c * u_xx)**2"
   ]
  },
  {
   "cell_type": "markdown",
   "metadata": {},
   "source": [
    "### Dynamic equation for turbulent potential entrosphy"
   ]
  },
  {
   "cell_type": "code",
   "execution_count": 9,
   "metadata": {},
   "outputs": [],
   "source": [
    "def pde_tpe(x, ϵ, n_x, u_x, ϵ_t, ϵ_x, l, β, Λ, ϵ_c, w):\n",
    "    intermediate = l**2 * torch.sqrt(ϵ) * ϵ_x\n",
    "    intermediate_x = grad(intermediate, x, grad_outputs=torch.ones_like(intermediate), retain_graph=True, create_graph=True)[0]\n",
    "    \n",
    "    return (ϵ_t - β * intermediate_x - Λ * (w * (n_x - u_x)**2 - ϵ**(3/2) / ϵ_c**0.5 + ϵ))**2"
   ]
  },
  {
   "cell_type": "markdown",
   "metadata": {},
   "source": [
    "## Define Initial Conditions"
   ]
  },
  {
   "cell_type": "code",
   "execution_count": 10,
   "metadata": {},
   "outputs": [],
   "source": [
    "def n_initial_cond(t, x):\n",
    "    return -g_i * x\n",
    "\n",
    "def u_initial_cond(t, x):\n",
    "    return torch.zeros(x.shape, device=x.device.type)\n",
    "\n",
    "def ϵ_initial_cond(t, x):\n",
    "    return torch.full(x.shape, ϵ_i, device=x.device.type)"
   ]
  },
  {
   "cell_type": "markdown",
   "metadata": {},
   "source": [
    "## Define Boundary Conditions"
   ]
  },
  {
   "cell_type": "code",
   "execution_count": 11,
   "metadata": {},
   "outputs": [],
   "source": [
    "def n_boundary_cond(t, x):\n",
    "    out = torch.full(x.shape, -g_i, device=x.device.type)\n",
    "    out = out * x\n",
    "    \n",
    "    return out\n",
    "\n",
    "def u_boundary_cond(t, x):\n",
    "    return torch.zeros(x.shape, device=x.device.type)\n",
    "\n",
    "\n",
    "def ϵ_x_boundary_cond(t, x):\n",
    "    return torch.zeros(x.shape, device=x.device.type)"
   ]
  },
  {
   "cell_type": "markdown",
   "metadata": {},
   "source": [
    "## PINN Implementation"
   ]
  },
  {
   "cell_type": "code",
   "execution_count": 12,
   "metadata": {},
   "outputs": [],
   "source": [
    "class AbsPerturbLayer(nn.Module):\n",
    "    def __init__(self, perturbation=0.01):\n",
    "        super(AbsPerturbLayer, self).__init__()\n",
    "        self.perturbation = perturbation\n",
    "    \n",
    "    def forward(self, x):\n",
    "        # Take the absolute value\n",
    "        abs_x = torch.abs(x)\n",
    "        # Add a small perturbation\n",
    "        perturbed_x = abs_x + self.perturbation\n",
    "        return perturbed_x"
   ]
  },
  {
   "cell_type": "code",
   "execution_count": 13,
   "metadata": {},
   "outputs": [],
   "source": [
    "class PINN(nn.Module):\n",
    "    def __init__(self, pars: dict):\n",
    "        super().__init__()\n",
    "        self.pars = pars\n",
    "        \n",
    "        # model for n\n",
    "        self.modules_n = [nn.BatchNorm1d(2), nn.Linear(2, self.pars['width'])] # nn.LayerNorm(2)\n",
    "        for i in range(self.pars['layers'] - 1):\n",
    "            # self.modules_n.append(nn.LayerNorm(self.pars['width']))\n",
    "            self.modules_n.append(nn.GELU())\n",
    "            self.modules_n.append(nn.Linear(self.pars['width'], self.pars['width']))\n",
    "        \n",
    "        # self.modules_n.append(nn.LayerNorm(self.pars['width']))\n",
    "        self.modules_n.append(nn.Linear(self.pars['width'], 1))\n",
    "        \n",
    "        self.model_n = nn.Sequential(*self.modules_n)\n",
    "        self.model_n.to(self.pars['device'])\n",
    "        \n",
    "        # model for u\n",
    "        self.modules_u = [nn.BatchNorm1d(2), nn.Linear(2, self.pars['width'])] # nn.LayerNorm(2)\n",
    "        for i in range(self.pars['layers'] - 1):\n",
    "            # self.modules_u.append(nn.LayerNorm(self.pars['width']))\n",
    "            self.modules_u.append(nn.GELU())\n",
    "            self.modules_u.append(nn.Linear(self.pars['width'], self.pars['width']))\n",
    "        \n",
    "        # self.modules_u.append(nn.LayerNorm(self.pars['width']))\n",
    "        self.modules_u.append(nn.Linear(self.pars['width'], 1))\n",
    "        \n",
    "        self.model_u = nn.Sequential(*self.modules_u)\n",
    "        self.model_u.to(self.pars['device'])\n",
    "        \n",
    "        # model for ϵ\n",
    "        self.modules_ϵ = [nn.BatchNorm1d(2), nn.Linear(2, self.pars['width'])] # nn.LayerNorm(2)\n",
    "        for i in range(self.pars['layers'] - 1):\n",
    "            # self.modules_ϵ.append(nn.LayerNorm(self.pars['width']))\n",
    "            self.modules_ϵ.append(nn.GELU())\n",
    "            self.modules_ϵ.append(nn.Linear(self.pars['width'], self.pars['width']))\n",
    "        \n",
    "        # self.modules_ϵ.append(nn.LayerNorm(self.pars['width']))\n",
    "        self.modules_ϵ.append(nn.Linear(self.pars['width'], 1))\n",
    "        self.modules_ϵ.append(AbsPerturbLayer(perturbation=1e-2))\n",
    "        \n",
    "        self.model_ϵ = nn.Sequential(*self.modules_ϵ)\n",
    "        self.model_ϵ.to(self.pars['device'])\n",
    "        \n",
    "        self.models = [self.model_n, self.model_u, self.model_ϵ]\n",
    "        \n",
    "        self.optimizer_n = torch.optim.Adam(params=self.model_n.parameters(), lr=self.pars['lr'])\n",
    "        self.optimizer_u = torch.optim.Adam(params=self.model_u.parameters(), lr=self.pars['lr'])\n",
    "        self.optimizer_ϵ = torch.optim.Adam(params=self.model_ϵ.parameters(), lr=self.pars['lr'])\n",
    "        \n",
    "        self.num_params = sum([len(list(params)) for params in [layer for layer in [model.parameters() for model in self.models]]])\n",
    "        \n",
    "        self.epoch = 0\n",
    "        \n",
    "        t = np.linspace(self.pars['t_min'], self.pars['t_max'], 100)\n",
    "        x = np.linspace(self.pars['x_min'], self.pars['x_max'], 100)\n",
    "\n",
    "        self.eval_t, self.eval_x = np.meshgrid(t, x)\n",
    "        self.eval_t = torch.Tensor(self.eval_t).reshape(-1, 1).to(self.pars['device'])\n",
    "        self.eval_x = torch.Tensor(self.eval_x).reshape(-1, 1).to(self.pars['device'])\n",
    "        self.eval_t.requires_grad_()\n",
    "        self.eval_x.requires_grad_()\n",
    "        \n",
    "        eval_t_interior, eval_x_interior = np.meshgrid(t[1:-1], x[1:-1])\n",
    "        eval_t_interior = torch.Tensor(eval_t_interior).reshape(-1, 1).to(self.pars['device'])\n",
    "        eval_x_interior = torch.Tensor(eval_x_interior).reshape(-1, 1).to(self.pars['device'])\n",
    "        \n",
    "        self.eval_X_interior = torch.hstack((eval_t_interior, eval_x_interior))\n",
    "        self.eval_X_interior.requires_grad_()\n",
    "        \n",
    "        eval_t_initial = torch.zeros_like(self.eval_x)\n",
    "        self.eval_X_initial = torch.hstack((eval_t_initial, self.eval_x))\n",
    "        self.eval_X_initial.requires_grad_()\n",
    "        \n",
    "        eval_t_boundary = torch.Tensor(np.vstack([t, t])).reshape(-1, 1).to(self.pars['device'])\n",
    "        eval_x_boundary = torch.Tensor(np.vstack([x[0] * np.ones_like(t), x[-1] * np.ones_like(t)])).reshape(-1, 1).to(self.pars['device'])\n",
    "        \n",
    "        self.eval_X_boundary = torch.hstack((eval_t_boundary, eval_x_boundary))\n",
    "        self.eval_X_boundary.requires_grad_()\n",
    "        \n",
    "        self.plot_t = self.eval_t.view(100, 100).detach().cpu().numpy()\n",
    "        self.plot_x = self.eval_x.view(100, 100).detach().cpu().numpy()\n",
    "        \n",
    "        self.plot_files = {}\n",
    "        \n",
    "        if 'plot_vars_list' in self.pars:\n",
    "            for varname in self.pars['plot_vars_list']:\n",
    "                self.plot_files[varname] = []\n",
    "        \n",
    "    def __call__(self, X):\n",
    "        return self.model_n(X), self.model_u(X), self.model_ϵ(X)\n",
    "        \n",
    "    def sample_interior_points(self):\n",
    "        t = torch.empty((self.pars['interior_batch_size'], 1), device=self.pars['device']).uniform_(self.pars['t_min'], self.pars['t_max'])\n",
    "        x = torch.empty((self.pars['interior_batch_size'], 1), device=self.pars['device']).uniform_(self.pars['x_min'], self.pars['x_max'])\n",
    "        X_interior = torch.cat((t, x), 1)\n",
    "        X_interior.requires_grad_()\n",
    "        \n",
    "        return X_interior\n",
    "    \n",
    "    def sample_initial_points(self):\n",
    "        t = torch.zeros(self.pars['initial_batch_size'], 1, device=self.pars['device'])\n",
    "        x = torch.empty((self.pars['initial_batch_size'], 1), device=self.pars['device']).uniform_(self.pars['x_min'], self.pars['x_max'])\n",
    "        X_initial = torch.cat((t, x), 1)\n",
    "        X_initial.requires_grad_()\n",
    "        \n",
    "        return X_initial\n",
    "    \n",
    "    def sample_boundary_points(self):\n",
    "        options = torch.tensor([self.pars['x_min'], self.pars['x_max']], device=self.pars['device'])\n",
    "        \n",
    "        t = torch.empty((self.pars['boundary_batch_size'], 1), device=self.pars['device']).uniform_(self.pars['t_min'], self.pars['t_max'])\n",
    "        x = options[torch.randint(0, 2, (self.pars['boundary_batch_size'], 1), device=self.pars['device'])]\n",
    "        X_boundary = torch.cat((t, x), 1)\n",
    "        X_boundary.requires_grad_()\n",
    "        \n",
    "        return X_boundary\n",
    "    \n",
    "    def forward(self, X_interior, X_initial, X_boundary):\n",
    "        # X shape: (batch_size, 2), where 2nd dimension is [t, x]\n",
    "        # Y shape: (batch_size, 3), where 2nd dimension is [n, u, ϵ]\n",
    "        \n",
    "        t_interior = X_interior[:, 0].reshape(-1, 1)\n",
    "        x_interior = X_interior[:, 1].reshape(-1, 1)\n",
    "        t_initial = X_initial[:, 0].reshape(-1, 1)\n",
    "        x_initial = X_initial[:, 1].reshape(-1, 1)\n",
    "        t_boundary = X_boundary[:, 0].reshape(-1, 1)\n",
    "        x_boundary = X_boundary[:, 1].reshape(-1, 1)\n",
    "        \n",
    "        # forward pass\n",
    "        n_interior = self.model_n(torch.hstack((t_interior, x_interior)))\n",
    "        u_interior = self.model_u(torch.hstack((t_interior, x_interior)))\n",
    "        ϵ_interior = self.model_ϵ(torch.hstack((t_interior, x_interior)))\n",
    "        \n",
    "        n_initial = self.model_n(torch.hstack((t_initial, x_initial)))\n",
    "        u_initial = self.model_u(torch.hstack((t_initial, x_initial)))\n",
    "        ϵ_initial = self.model_ϵ(torch.hstack((t_initial, x_initial)))\n",
    "        \n",
    "        n_boundary = self.model_n(torch.hstack((t_boundary, x_boundary)))\n",
    "        u_boundary = self.model_u(torch.hstack((t_boundary, x_boundary)))\n",
    "        ϵ_boundary = self.model_ϵ(torch.hstack((t_boundary, x_boundary)))\n",
    "        \n",
    "        n_x_interior = grad(n_interior, x_interior, grad_outputs=torch.ones_like(n_interior), retain_graph=True, create_graph=True)[0]\n",
    "        n_t_interior = grad(n_interior, t_interior, grad_outputs=torch.ones_like(n_interior), retain_graph=True, create_graph=True)[0]\n",
    "        \n",
    "        n_xx_interior = grad(n_x_interior, x_interior, grad_outputs=torch.ones_like(n_x_interior), retain_graph=True, create_graph=True)[0]\n",
    "        \n",
    "        u_x_interior = grad(u_interior, x_interior, grad_outputs=torch.ones_like(u_interior), retain_graph=True, create_graph=True)[0]\n",
    "        u_t_interior = grad(u_interior, t_interior, grad_outputs=torch.ones_like(u_interior), retain_graph=True, create_graph=True)[0]\n",
    "        \n",
    "        u_xx_interior = grad(u_x_interior, x_interior, grad_outputs=torch.ones_like(u_x_interior), retain_graph=True, create_graph=True)[0]\n",
    "        \n",
    "        ϵ_x_interior = grad(ϵ_interior, x_interior, grad_outputs=torch.ones_like(ϵ_interior), retain_graph=True, create_graph=True)[0]\n",
    "        ϵ_t_interior = grad(ϵ_interior, t_interior, grad_outputs=torch.ones_like(ϵ_interior), retain_graph=True, create_graph=True)[0]\n",
    "        \n",
    "        ϵ_x_boundary = grad(ϵ_boundary, x_boundary, grad_outputs=torch.ones_like(ϵ_boundary), retain_graph=True, create_graph=True)[0]\n",
    "        \n",
    "        l = compute_l(n_x_interior, u_x_interior, ϵ_interior)\n",
    "        w = compute_w(C_χ, l, ϵ_interior, α, a_u, u_interior)\n",
    "        \n",
    "        density_loss = pde_mean_density(x_interior, n_t_interior, n_x_interior, n_xx_interior, ϵ_interior, l, α, D_c).mean()\n",
    "        vorticity_loss = pde_mean_vorticity(x_interior, ϵ_interior, n_x_interior, u_t_interior, u_xx_interior, l, α, μ_c, w).mean()\n",
    "        tpe_loss = pde_tpe(x_interior, ϵ_interior, n_x_interior, u_x_interior, ϵ_t_interior, ϵ_x_interior, l, β, Λ, ϵ_c, w).mean()\n",
    "        interior_loss = (density_loss + vorticity_loss + tpe_loss)/3\n",
    "        \n",
    "        mse = nn.MSELoss()\n",
    "        \n",
    "        initial_n_loss = mse(n_initial_cond(t_initial, x_initial), n_initial)\n",
    "        initial_u_loss = mse(u_initial_cond(t_initial, x_initial), u_initial)\n",
    "        initial_ϵ_loss = mse(ϵ_initial_cond(t_initial, x_initial), ϵ_initial)\n",
    "        initial_loss = (initial_n_loss + initial_u_loss + initial_ϵ_loss)/3\n",
    "        \n",
    "        boundary_n_loss = mse(n_boundary_cond(t_boundary, x_boundary), n_boundary)\n",
    "        boundary_u_loss = mse(u_boundary_cond(t_boundary, x_boundary), u_boundary)\n",
    "        boundary_ϵ_loss = mse(ϵ_x_boundary_cond(t_boundary, x_boundary), ϵ_x_boundary)\n",
    "        boundary_loss = (boundary_n_loss + boundary_u_loss + boundary_ϵ_loss)/3\n",
    "        total_loss = interior_loss + initial_loss + boundary_loss\n",
    "        \n",
    "        return total_loss, density_loss, vorticity_loss, tpe_loss, initial_n_loss, initial_u_loss, initial_ϵ_loss, boundary_n_loss, boundary_u_loss, boundary_ϵ_loss\n",
    "    \n",
    "    def train(self):\n",
    "        cwd = os.getcwd()\n",
    "        plot_dirs = os.path.join(cwd, f'plots/{self.pars[\"experiment_name\"]}')\n",
    "\n",
    "        if not os.path.isdir(plot_dirs):\n",
    "            os.makedirs(plot_dirs)\n",
    "        \n",
    "        mlflow.set_experiment(self.pars['experiment_name'])\n",
    "        mlflow.start_run()\n",
    "        \n",
    "        mlflow.log_param(\"physical_params\", physical_params)\n",
    "        mlflow.log_param(\"model_params\", self.pars)\n",
    "        \n",
    "        for epoch in tqdm(range(self.pars['epochs']), position=0, leave=True, desc='Training...'): \n",
    "            self.epoch = epoch\n",
    "            \n",
    "            # eval\n",
    "            if epoch % self.pars['eval_interval'] == 0 or epoch == self.pars['epochs'] - 1:\n",
    "                \n",
    "                loss, density_loss, vorticity_loss, tpe_loss, initial_n_loss, initial_u_loss, initial_ϵ_loss, boundary_n_loss, boundary_u_loss, boundary_ϵ_loss \\\n",
    "                    = self.forward(self.eval_X_interior, self.eval_X_initial, self.eval_X_boundary)\n",
    "                \n",
    "                print()\n",
    "                print(f'Epoch: {self.epoch}, Loss: {loss.item():,.4e}')\n",
    "                print(f\"density_loss: {density_loss.item():.4e}, vorticity_loss: {vorticity_loss.item():.4e}, tpe_loss: {tpe_loss.item():.4e}\")\n",
    "                print(f\"initial_n_loss: {initial_n_loss.item():.4e}, initial_u_loss: {initial_u_loss.item():.4e}, initial_ϵ_loss: {initial_ϵ_loss.item():.4e}\")\n",
    "                print(f\"boundary_n_loss: {boundary_n_loss.item():.4e}, boundary_u_loss: {boundary_u_loss.item():.4e}, boundary_ϵ_loss: {boundary_ϵ_loss.item():.4e}\")\n",
    "                \n",
    "                mlflow.log_metric(\"total_loss\", loss.item(), step=self.epoch)\n",
    "                mlflow.log_metric(\"density_loss\", density_loss.item(), step=self.epoch)\n",
    "                mlflow.log_metric(\"vorticity_loss\", vorticity_loss.item(), step=self.epoch)\n",
    "                mlflow.log_metric(\"tpe_loss\", tpe_loss.item(), step=self.epoch)\n",
    "                mlflow.log_metric(\"initial_n_loss\", initial_n_loss.item(), step=self.epoch)\n",
    "                mlflow.log_metric(\"initial_u_loss\", initial_u_loss.item(), step=self.epoch)\n",
    "                mlflow.log_metric(\"initial_ϵ_loss\", initial_ϵ_loss.item(), step=self.epoch)\n",
    "                mlflow.log_metric(\"boundary_n_loss\", boundary_n_loss.item(), step=self.epoch)\n",
    "                mlflow.log_metric(\"boundary_u_loss\", boundary_u_loss.item(), step=self.epoch)\n",
    "                mlflow.log_metric(\"boundary_ϵ_loss\", boundary_ϵ_loss.item(), step=self.epoch)\n",
    "                \n",
    "                mlflow.pytorch.log_model(self.model_n, f\"{self.pars['experiment_name']}_model_n_epoch_{self.epoch}\")\n",
    "                mlflow.pytorch.log_model(self.model_u, f\"{self.pars['experiment_name']}_model_u_epoch_{self.epoch}\")\n",
    "                mlflow.pytorch.log_model(self.model_ϵ, f\"{self.pars['experiment_name']}_model_ϵ_epoch_{self.epoch}\")\n",
    "                \n",
    "                if self.pars['plot_training_outputs']:\n",
    "                    self.plot_outputs()\n",
    "            \n",
    "            # training step\n",
    "            self.optimizer_n.zero_grad()\n",
    "            self.optimizer_u.zero_grad()\n",
    "            self.optimizer_ϵ.zero_grad()\n",
    "            \n",
    "            X_interior = self.sample_interior_points()\n",
    "            X_initial = self.sample_initial_points()\n",
    "            X_boundary = self.sample_boundary_points()\n",
    "            \n",
    "            loss, density_loss, vorticity_loss, tpe_loss, initial_n_loss, initial_u_loss, initial_ϵ_loss, boundary_n_loss, boundary_u_loss, boundary_ϵ_loss = self.forward(X_interior, X_initial, X_boundary)\n",
    "            \n",
    "            loss.backward()\n",
    "            \n",
    "            self.optimizer_n.step()\n",
    "            self.optimizer_u.step()\n",
    "            self.optimizer_ϵ.step()\n",
    "                \n",
    "            if loss.isnan():\n",
    "                print(f'Epoch: {self.epoch}, Loss: {loss.item():,.4e}')\n",
    "                print(f\"density_loss: {density_loss.item():.4e}, vorticity_loss: {vorticity_loss.item():.4e}, tpe_loss: {tpe_loss.item():.4e}\")\n",
    "                print(f\"initial_n_loss: {initial_n_loss.item():.4e}, initial_u_loss: {initial_u_loss.item():.4e}, initial_ϵ_loss: {initial_ϵ_loss.item():.4e}\")\n",
    "                print(f\"boundary_n_loss: {boundary_n_loss.item():.4e}, boundary_u_loss: {boundary_u_loss.item():.4e}, boundary_ϵ_loss: {boundary_ϵ_loss.item():.4e}\")\n",
    "                print(\"loss is NaN, stopping training...\")\n",
    "                break\n",
    "            \n",
    "        mlflow.pytorch.log_model(self.model_n, f\"{self.pars['experiment_name']}_model_n_final\")\n",
    "        mlflow.pytorch.log_model(self.model_u, f\"{self.pars['experiment_name']}_model_u_final\")\n",
    "        mlflow.pytorch.log_model(self.model_ϵ, f\"{self.pars['experiment_name']}_model_ϵ_final\")\n",
    "        \n",
    "        self.save_gif()\n",
    "        \n",
    "        mlflow.end_run()\n",
    "    \n",
    "    def plot_outputs(self):\n",
    "        n = self.model_n(torch.hstack((self.eval_t, self.eval_x)))\n",
    "        u = self.model_u(torch.hstack((self.eval_t, self.eval_x)))\n",
    "        ϵ = self.model_ε(torch.hstack((self.eval_t, self.eval_x)))\n",
    "        \n",
    "        n_x = grad(n, self.eval_x, grad_outputs=torch.ones_like(n), retain_graph=True, create_graph=True)[0]\n",
    "        n_t = grad(n, self.eval_t, grad_outputs=torch.ones_like(n), retain_graph=True)[0]\n",
    "        \n",
    "        n_xx = grad(n_x, self.eval_x, grad_outputs=torch.ones_like(n_x), retain_graph=True)[0]\n",
    "        \n",
    "        u_x = grad(u, self.eval_x, grad_outputs=torch.ones_like(u), retain_graph=True, create_graph=True)[0]\n",
    "        u_t = grad(u, self.eval_t, grad_outputs=torch.ones_like(u), retain_graph=True)[0]\n",
    "        \n",
    "        u_xx = grad(u_x, self.eval_x, grad_outputs=torch.ones_like(u_x), retain_graph=True)[0]\n",
    "        \n",
    "        ϵ_x = grad(ϵ, self.eval_x, grad_outputs=torch.ones_like(ϵ), retain_graph=True)[0]\n",
    "        ϵ_t = grad(ϵ, self.eval_t, grad_outputs=torch.ones_like(ϵ), retain_graph=True)[0]\n",
    "        \n",
    "        n = n.view(100, 100).detach().cpu().numpy()\n",
    "        n_x = n_x.view(100, 100).detach().cpu().numpy()\n",
    "        n_t = n_t.view(100, 100).detach().cpu().numpy()\n",
    "        n_xx = n_xx.view(100, 100).detach().cpu().numpy()\n",
    "        \n",
    "        u = u.view(100, 100).detach().cpu().numpy()\n",
    "        u_x = u_x.view(100, 100).detach().cpu().numpy()\n",
    "        u_t = u_t.view(100, 100).detach().cpu().numpy()\n",
    "        u_xx = u_xx.view(100, 100).detach().cpu().numpy()\n",
    "        \n",
    "        ϵ = ϵ.view(100, 100).detach().cpu().numpy()\n",
    "        ϵ_x = ϵ_x.view(100, 100).detach().cpu().numpy()\n",
    "        ϵ_t = ϵ_t.view(100, 100).detach().cpu().numpy()\n",
    "        \n",
    "        if 'n' in self.pars['plot_vars_list']:\n",
    "            self.plot_var(n, 'n')\n",
    "        \n",
    "        if 'n_x' in self.pars['plot_vars_list']:\n",
    "            self.plot_var(n_x, 'n_x')\n",
    "        \n",
    "        if 'n_t' in self.pars['plot_vars_list']:\n",
    "            self.plot_var(n_t, 'n_t')\n",
    "        \n",
    "        if 'n_xx' in self.pars['plot_vars_list']:\n",
    "            self.plot_var(n_xx, 'n_xx')\n",
    "        \n",
    "        if 'u' in self.pars['plot_vars_list']:\n",
    "            self.plot_var(u, 'u')\n",
    "        \n",
    "        if 'u_x' in self.pars['plot_vars_list']:\n",
    "            self.plot_var(u_x, 'u_x')\n",
    "        \n",
    "        if 'u_t' in self.pars['plot_vars_list']:\n",
    "            self.plot_var(u_t, 'u_t')\n",
    "        \n",
    "        if 'u_xx' in self.pars['plot_vars_list']:\n",
    "            self.plot_var(u_xx, 'u_xx')\n",
    "        \n",
    "        if 'ϵ' in self.pars['plot_vars_list']:\n",
    "            self.plot_var(ϵ, 'ϵ')\n",
    "        \n",
    "        if 'ϵ_x' in self.pars['plot_vars_list']:\n",
    "            self.plot_var(ϵ_x, 'ϵ_x')\n",
    "        \n",
    "        if 'ϵ_t' in self.pars['plot_vars_list']:\n",
    "            self.plot_var(ϵ_t, 'ϵ_t')\n",
    "        \n",
    "    def plot_var(self, var, varname):\n",
    "        fig = plt.figure()\n",
    "        ax = fig.add_subplot(111, projection='3d')\n",
    "        ax.plot_surface(self.plot_t, self.plot_x, var, cmap='viridis')\n",
    "        ax.set_xlabel('t')\n",
    "        ax.set_ylabel('x')\n",
    "        ax.set_zlabel(varname)\n",
    "        plt.title(f'Model output {varname}, epoch {self.epoch}')\n",
    "        filename = f\"plots/{self.pars['experiment_name']}/plot_{varname}_epoch_{self.epoch}.png\"\n",
    "        self.plot_files[varname].append(filename)\n",
    "        fig.savefig(filename)\n",
    "        mlflow.log_artifact(filename)\n",
    "        plt.close()\n",
    "        \n",
    "    def save_gif(self):\n",
    "        for varname in self.pars['plot_vars_list']:\n",
    "            gif_filename = f\"plots/{self.pars['experiment_name']}/plot_{varname}.gif\"\n",
    "            with imageio.get_writer(gif_filename, mode='I') as writer:\n",
    "                for filename in self.plot_files[varname]:\n",
    "                    image = imageio.imread(filename)\n",
    "                    writer.append_data(image)\n",
    "                \n",
    "            mlflow.log_artifact(gif_filename)\n",
    "        "
   ]
  },
  {
   "cell_type": "markdown",
   "metadata": {},
   "source": [
    "## Experiments"
   ]
  },
  {
   "cell_type": "code",
   "execution_count": 14,
   "metadata": {},
   "outputs": [],
   "source": [
    "pars = {\n",
    "    'experiment_name': 'separated_pinn_v1',\n",
    "    'layers': 4,\n",
    "    'width': 32,\n",
    "    'lr': 1e-5,\n",
    "    'epochs': 100000,\n",
    "    'eval_interval': 2500,\n",
    "    'interior_batch_size': 2048,\n",
    "    'initial_batch_size': 2048,\n",
    "    'boundary_batch_size': 2048,\n",
    "    'x_min': 0.0,\n",
    "    'x_max': 1.0,\n",
    "    't_min': 0.0,\n",
    "    't_max': 10000,\n",
    "    'device': 'cuda',\n",
    "    'plot_training_outputs': True,\n",
    "    'plot_vars_list': ['n', 'n_t', 'n_x', 'n_xx', 'u', 'u_t', 'u_x', 'u_xx', 'ϵ', 'ϵ_t', 'ϵ_x']\n",
    "}\n",
    "pinn = PINN(pars)\n"
   ]
  },
  {
   "cell_type": "code",
   "execution_count": 15,
   "metadata": {},
   "outputs": [
    {
     "data": {
      "application/vnd.jupyter.widget-view+json": {
       "model_id": "77cefe361baf408ab7cbc9b9fd6e75c0",
       "version_major": 2,
       "version_minor": 0
      },
      "text/plain": [
       "Training...:   0%|          | 0/100000 [00:00<?, ?it/s]"
      ]
     },
     "metadata": {},
     "output_type": "display_data"
    },
    {
     "name": "stdout",
     "output_type": "stream",
     "text": [
      "\n",
      "Epoch: 0, Loss: 6.8099e+09\n",
      "density_loss: 1.7440e-05, vorticity_loss: 1.9969e-04, tpe_loss: 2.0430e+10\n",
      "initial_n_loss: 8.1772e+00, initial_u_loss: 2.4430e-04, initial_ϵ_loss: 3.2737e-03\n",
      "boundary_n_loss: 7.0012e+02, boundary_u_loss: 6.6804e+03, boundary_ϵ_loss: 1.0168e-04\n"
     ]
    },
    {
     "name": "stderr",
     "output_type": "stream",
     "text": [
      "2024/08/28 15:16:37 WARNING mlflow.models.model: Input example should be provided to infer model signature if the model signature is not provided when logging the model.\n",
      "2024/08/28 15:16:39 WARNING mlflow.models.model: Input example should be provided to infer model signature if the model signature is not provided when logging the model.\n",
      "2024/08/28 15:16:41 WARNING mlflow.models.model: Input example should be provided to infer model signature if the model signature is not provided when logging the model.\n"
     ]
    },
    {
     "name": "stdout",
     "output_type": "stream",
     "text": [
      "\n",
      "Epoch: 2500, Loss: 2.1272e+06\n",
      "density_loss: 1.4701e-07, vorticity_loss: 6.6957e-09, tpe_loss: 6.3815e+06\n",
      "initial_n_loss: 6.9318e+00, initial_u_loss: 6.8072e-05, initial_ϵ_loss: 2.6717e-03\n",
      "boundary_n_loss: 7.9419e+00, boundary_u_loss: 3.5633e-05, boundary_ϵ_loss: 1.0298e-04\n"
     ]
    },
    {
     "name": "stderr",
     "output_type": "stream",
     "text": [
      "2024/08/28 15:18:50 WARNING mlflow.models.model: Input example should be provided to infer model signature if the model signature is not provided when logging the model.\n",
      "2024/08/28 15:18:52 WARNING mlflow.models.model: Input example should be provided to infer model signature if the model signature is not provided when logging the model.\n",
      "2024/08/28 15:18:54 WARNING mlflow.models.model: Input example should be provided to infer model signature if the model signature is not provided when logging the model.\n"
     ]
    },
    {
     "name": "stdout",
     "output_type": "stream",
     "text": [
      "\n",
      "Epoch: 5000, Loss: 2.0133e+06\n",
      "density_loss: 3.2538e-07, vorticity_loss: 4.6572e-08, tpe_loss: 6.0398e+06\n",
      "initial_n_loss: 3.4816e+00, initial_u_loss: 8.8063e-04, initial_ϵ_loss: 5.8867e-04\n",
      "boundary_n_loss: 7.8050e+00, boundary_u_loss: 6.7954e-05, boundary_ϵ_loss: 1.3291e-04\n"
     ]
    },
    {
     "name": "stderr",
     "output_type": "stream",
     "text": [
      "2024/08/28 15:21:01 WARNING mlflow.models.model: Input example should be provided to infer model signature if the model signature is not provided when logging the model.\n",
      "2024/08/28 15:21:03 WARNING mlflow.models.model: Input example should be provided to infer model signature if the model signature is not provided when logging the model.\n",
      "2024/08/28 15:21:06 WARNING mlflow.models.model: Input example should be provided to infer model signature if the model signature is not provided when logging the model.\n"
     ]
    },
    {
     "name": "stdout",
     "output_type": "stream",
     "text": [
      "\n",
      "Epoch: 7500, Loss: 1.9260e+06\n",
      "density_loss: 7.3887e-07, vorticity_loss: 1.0275e-06, tpe_loss: 5.7780e+06\n",
      "initial_n_loss: 1.3484e+00, initial_u_loss: 1.9763e-03, initial_ϵ_loss: 3.8553e-04\n",
      "boundary_n_loss: 7.5881e+00, boundary_u_loss: 1.4612e-04, boundary_ϵ_loss: 1.3415e-04\n"
     ]
    },
    {
     "name": "stderr",
     "output_type": "stream",
     "text": [
      "2024/08/28 15:23:10 WARNING mlflow.models.model: Input example should be provided to infer model signature if the model signature is not provided when logging the model.\n",
      "2024/08/28 15:23:12 WARNING mlflow.models.model: Input example should be provided to infer model signature if the model signature is not provided when logging the model.\n",
      "2024/08/28 15:23:15 WARNING mlflow.models.model: Input example should be provided to infer model signature if the model signature is not provided when logging the model.\n"
     ]
    },
    {
     "name": "stdout",
     "output_type": "stream",
     "text": [
      "\n",
      "Epoch: 10000, Loss: 1.8341e+06\n",
      "density_loss: 2.2572e-04, vorticity_loss: 1.5901e-05, tpe_loss: 5.5022e+06\n",
      "initial_n_loss: 1.0149e+00, initial_u_loss: 1.3239e-03, initial_ϵ_loss: 5.8347e-04\n",
      "boundary_n_loss: 7.0649e+00, boundary_u_loss: 1.3733e-03, boundary_ϵ_loss: 1.3161e-04\n"
     ]
    },
    {
     "name": "stderr",
     "output_type": "stream",
     "text": [
      "2024/08/28 15:25:20 WARNING mlflow.models.model: Input example should be provided to infer model signature if the model signature is not provided when logging the model.\n",
      "2024/08/28 15:25:22 WARNING mlflow.models.model: Input example should be provided to infer model signature if the model signature is not provided when logging the model.\n",
      "2024/08/28 15:25:24 WARNING mlflow.models.model: Input example should be provided to infer model signature if the model signature is not provided when logging the model.\n"
     ]
    },
    {
     "name": "stdout",
     "output_type": "stream",
     "text": [
      "\n",
      "Epoch: 12500, Loss: 1.7364e+06\n",
      "density_loss: 1.6677e-03, vorticity_loss: 8.4319e-05, tpe_loss: 5.2093e+06\n",
      "initial_n_loss: 6.9655e-01, initial_u_loss: 4.9721e-04, initial_ϵ_loss: 8.7382e-04\n",
      "boundary_n_loss: 6.5550e+00, boundary_u_loss: 5.9747e-03, boundary_ϵ_loss: 1.2796e-04\n"
     ]
    },
    {
     "name": "stderr",
     "output_type": "stream",
     "text": [
      "2024/08/28 15:27:26 WARNING mlflow.models.model: Input example should be provided to infer model signature if the model signature is not provided when logging the model.\n",
      "2024/08/28 15:27:29 WARNING mlflow.models.model: Input example should be provided to infer model signature if the model signature is not provided when logging the model.\n",
      "2024/08/28 15:27:31 WARNING mlflow.models.model: Input example should be provided to infer model signature if the model signature is not provided when logging the model.\n"
     ]
    },
    {
     "name": "stdout",
     "output_type": "stream",
     "text": [
      "\n",
      "Epoch: 15000, Loss: 1.6294e+06\n",
      "density_loss: 7.9230e-03, vorticity_loss: 2.4529e-04, tpe_loss: 4.8882e+06\n",
      "initial_n_loss: 2.2602e-01, initial_u_loss: 1.0185e-04, initial_ϵ_loss: 2.8147e-03\n",
      "boundary_n_loss: 6.2431e+00, boundary_u_loss: 1.6415e-02, boundary_ϵ_loss: 1.3310e-04\n"
     ]
    },
    {
     "name": "stderr",
     "output_type": "stream",
     "text": [
      "2024/08/28 15:29:35 WARNING mlflow.models.model: Input example should be provided to infer model signature if the model signature is not provided when logging the model.\n",
      "2024/08/28 15:29:38 WARNING mlflow.models.model: Input example should be provided to infer model signature if the model signature is not provided when logging the model.\n",
      "2024/08/28 15:29:40 WARNING mlflow.models.model: Input example should be provided to infer model signature if the model signature is not provided when logging the model.\n"
     ]
    },
    {
     "name": "stdout",
     "output_type": "stream",
     "text": [
      "\n",
      "Epoch: 17500, Loss: 1.5091e+06\n",
      "density_loss: 3.6273e-02, vorticity_loss: 8.0312e-04, tpe_loss: 4.5274e+06\n",
      "initial_n_loss: 4.0063e-02, initial_u_loss: 8.8858e-05, initial_ϵ_loss: 2.5981e-03\n",
      "boundary_n_loss: 6.0347e+00, boundary_u_loss: 5.9331e-02, boundary_ϵ_loss: 3.0355e-04\n"
     ]
    },
    {
     "name": "stderr",
     "output_type": "stream",
     "text": [
      "2024/08/28 15:31:43 WARNING mlflow.models.model: Input example should be provided to infer model signature if the model signature is not provided when logging the model.\n",
      "2024/08/28 15:31:45 WARNING mlflow.models.model: Input example should be provided to infer model signature if the model signature is not provided when logging the model.\n",
      "2024/08/28 15:31:48 WARNING mlflow.models.model: Input example should be provided to infer model signature if the model signature is not provided when logging the model.\n"
     ]
    },
    {
     "name": "stdout",
     "output_type": "stream",
     "text": [
      "\n",
      "Epoch: 20000, Loss: 1.3410e+06\n",
      "density_loss: 1.0570e-01, vorticity_loss: 2.3979e-03, tpe_loss: 4.0230e+06\n",
      "initial_n_loss: 3.0660e-02, initial_u_loss: 1.2332e-04, initial_ϵ_loss: 1.3485e-03\n",
      "boundary_n_loss: 6.0607e+00, boundary_u_loss: 1.1237e-01, boundary_ϵ_loss: 3.2321e-04\n"
     ]
    },
    {
     "name": "stderr",
     "output_type": "stream",
     "text": [
      "2024/08/28 15:33:54 WARNING mlflow.models.model: Input example should be provided to infer model signature if the model signature is not provided when logging the model.\n",
      "2024/08/28 15:33:56 WARNING mlflow.models.model: Input example should be provided to infer model signature if the model signature is not provided when logging the model.\n",
      "2024/08/28 15:33:59 WARNING mlflow.models.model: Input example should be provided to infer model signature if the model signature is not provided when logging the model.\n"
     ]
    },
    {
     "name": "stdout",
     "output_type": "stream",
     "text": [
      "\n",
      "Epoch: 22500, Loss: 1.0695e+06\n",
      "density_loss: 2.5025e-01, vorticity_loss: 4.7294e-03, tpe_loss: 3.2086e+06\n",
      "initial_n_loss: 1.8533e-02, initial_u_loss: 1.2960e-04, initial_ϵ_loss: 1.5946e-03\n",
      "boundary_n_loss: 6.2153e+00, boundary_u_loss: 1.7626e-01, boundary_ϵ_loss: 3.5181e-04\n"
     ]
    },
    {
     "name": "stderr",
     "output_type": "stream",
     "text": [
      "2024/08/28 15:36:02 WARNING mlflow.models.model: Input example should be provided to infer model signature if the model signature is not provided when logging the model.\n",
      "2024/08/28 15:36:04 WARNING mlflow.models.model: Input example should be provided to infer model signature if the model signature is not provided when logging the model.\n",
      "2024/08/28 15:36:06 WARNING mlflow.models.model: Input example should be provided to infer model signature if the model signature is not provided when logging the model.\n"
     ]
    },
    {
     "name": "stdout",
     "output_type": "stream",
     "text": [
      "\n",
      "Epoch: 25000, Loss: 8.5374e+05\n",
      "density_loss: 2.2777e-01, vorticity_loss: 7.1898e-03, tpe_loss: 2.5612e+06\n",
      "initial_n_loss: 1.0808e-02, initial_u_loss: 1.6194e-04, initial_ϵ_loss: 1.6301e-03\n",
      "boundary_n_loss: 6.6395e+00, boundary_u_loss: 2.3524e-01, boundary_ϵ_loss: 4.1642e-04\n"
     ]
    },
    {
     "name": "stderr",
     "output_type": "stream",
     "text": [
      "2024/08/28 15:38:08 WARNING mlflow.models.model: Input example should be provided to infer model signature if the model signature is not provided when logging the model.\n",
      "2024/08/28 15:38:10 WARNING mlflow.models.model: Input example should be provided to infer model signature if the model signature is not provided when logging the model.\n",
      "2024/08/28 15:38:13 WARNING mlflow.models.model: Input example should be provided to infer model signature if the model signature is not provided when logging the model.\n"
     ]
    },
    {
     "name": "stdout",
     "output_type": "stream",
     "text": [
      "\n",
      "Epoch: 27500, Loss: 8.0513e+05\n",
      "density_loss: 2.3873e-01, vorticity_loss: 9.1617e-03, tpe_loss: 2.4154e+06\n",
      "initial_n_loss: 7.6398e-03, initial_u_loss: 4.6145e-04, initial_ϵ_loss: 2.4600e-03\n",
      "boundary_n_loss: 6.8740e+00, boundary_u_loss: 2.6476e-01, boundary_ϵ_loss: 6.2196e-04\n"
     ]
    },
    {
     "name": "stderr",
     "output_type": "stream",
     "text": [
      "2024/08/28 15:40:14 WARNING mlflow.models.model: Input example should be provided to infer model signature if the model signature is not provided when logging the model.\n",
      "2024/08/28 15:40:16 WARNING mlflow.models.model: Input example should be provided to infer model signature if the model signature is not provided when logging the model.\n",
      "2024/08/28 15:40:18 WARNING mlflow.models.model: Input example should be provided to infer model signature if the model signature is not provided when logging the model.\n"
     ]
    },
    {
     "name": "stdout",
     "output_type": "stream",
     "text": [
      "\n",
      "Epoch: 30000, Loss: 6.7697e+05\n",
      "density_loss: 2.3084e-01, vorticity_loss: 1.1910e-02, tpe_loss: 2.0309e+06\n",
      "initial_n_loss: 6.5016e-03, initial_u_loss: 7.9734e-04, initial_ϵ_loss: 4.2213e-03\n",
      "boundary_n_loss: 5.4435e+00, boundary_u_loss: 4.0299e-01, boundary_ϵ_loss: 9.9150e-04\n"
     ]
    },
    {
     "name": "stderr",
     "output_type": "stream",
     "text": [
      "2024/08/28 15:42:20 WARNING mlflow.models.model: Input example should be provided to infer model signature if the model signature is not provided when logging the model.\n",
      "2024/08/28 15:42:22 WARNING mlflow.models.model: Input example should be provided to infer model signature if the model signature is not provided when logging the model.\n",
      "2024/08/28 15:42:24 WARNING mlflow.models.model: Input example should be provided to infer model signature if the model signature is not provided when logging the model.\n"
     ]
    },
    {
     "name": "stdout",
     "output_type": "stream",
     "text": [
      "\n",
      "Epoch: 32500, Loss: 5.9128e+05\n",
      "density_loss: 2.5655e-01, vorticity_loss: 1.5247e-02, tpe_loss: 1.7738e+06\n",
      "initial_n_loss: 1.0149e-02, initial_u_loss: 1.3963e-03, initial_ϵ_loss: 5.1496e-03\n",
      "boundary_n_loss: 5.1739e+00, boundary_u_loss: 3.7244e-01, boundary_ϵ_loss: 1.6062e-03\n"
     ]
    },
    {
     "name": "stderr",
     "output_type": "stream",
     "text": [
      "2024/08/28 15:44:25 WARNING mlflow.models.model: Input example should be provided to infer model signature if the model signature is not provided when logging the model.\n",
      "2024/08/28 15:44:27 WARNING mlflow.models.model: Input example should be provided to infer model signature if the model signature is not provided when logging the model.\n",
      "2024/08/28 15:44:30 WARNING mlflow.models.model: Input example should be provided to infer model signature if the model signature is not provided when logging the model.\n"
     ]
    },
    {
     "name": "stdout",
     "output_type": "stream",
     "text": [
      "\n",
      "Epoch: 35000, Loss: 1.2200e+06\n",
      "density_loss: 1.8986e-01, vorticity_loss: 3.7319e-02, tpe_loss: 3.6581e+06\n",
      "initial_n_loss: 1.2279e-02, initial_u_loss: 3.1262e-03, initial_ϵ_loss: 4.6365e-03\n",
      "boundary_n_loss: 1.2159e+01, boundary_u_loss: 1.9847e+03, boundary_ϵ_loss: 3.2616e-03\n"
     ]
    },
    {
     "name": "stderr",
     "output_type": "stream",
     "text": [
      "2024/08/28 15:46:29 WARNING mlflow.models.model: Input example should be provided to infer model signature if the model signature is not provided when logging the model.\n",
      "2024/08/28 15:46:32 WARNING mlflow.models.model: Input example should be provided to infer model signature if the model signature is not provided when logging the model.\n",
      "2024/08/28 15:46:34 WARNING mlflow.models.model: Input example should be provided to infer model signature if the model signature is not provided when logging the model.\n"
     ]
    },
    {
     "name": "stdout",
     "output_type": "stream",
     "text": [
      "\n",
      "Epoch: 37500, Loss: 1.1156e+06\n",
      "density_loss: 2.4079e-01, vorticity_loss: 3.8844e-02, tpe_loss: 3.3426e+06\n",
      "initial_n_loss: 5.6987e-03, initial_u_loss: 4.1995e-03, initial_ϵ_loss: 1.1919e-02\n",
      "boundary_n_loss: 6.1647e+00, boundary_u_loss: 4.0211e+03, boundary_ϵ_loss: 5.0528e-03\n"
     ]
    },
    {
     "name": "stderr",
     "output_type": "stream",
     "text": [
      "2024/08/28 15:48:35 WARNING mlflow.models.model: Input example should be provided to infer model signature if the model signature is not provided when logging the model.\n",
      "2024/08/28 15:48:37 WARNING mlflow.models.model: Input example should be provided to infer model signature if the model signature is not provided when logging the model.\n",
      "2024/08/28 15:48:39 WARNING mlflow.models.model: Input example should be provided to infer model signature if the model signature is not provided when logging the model.\n"
     ]
    },
    {
     "name": "stdout",
     "output_type": "stream",
     "text": [
      "\n",
      "Epoch: 40000, Loss: 1.0617e+06\n",
      "density_loss: 2.7470e-01, vorticity_loss: 4.2239e-02, tpe_loss: 3.1816e+06\n",
      "initial_n_loss: 2.9107e-03, initial_u_loss: 5.9693e-03, initial_ϵ_loss: 1.6183e-02\n",
      "boundary_n_loss: 6.0776e+00, boundary_u_loss: 3.5980e+03, boundary_ϵ_loss: 7.2026e-03\n"
     ]
    },
    {
     "name": "stderr",
     "output_type": "stream",
     "text": [
      "2024/08/28 15:50:40 WARNING mlflow.models.model: Input example should be provided to infer model signature if the model signature is not provided when logging the model.\n",
      "2024/08/28 15:50:42 WARNING mlflow.models.model: Input example should be provided to infer model signature if the model signature is not provided when logging the model.\n",
      "2024/08/28 15:50:44 WARNING mlflow.models.model: Input example should be provided to infer model signature if the model signature is not provided when logging the model.\n"
     ]
    },
    {
     "name": "stdout",
     "output_type": "stream",
     "text": [
      "\n",
      "Epoch: 42500, Loss: 8.5037e+05\n",
      "density_loss: 2.4239e-01, vorticity_loss: 4.4889e-02, tpe_loss: 2.5511e+06\n",
      "initial_n_loss: 5.6935e-03, initial_u_loss: 7.6947e-03, initial_ϵ_loss: 2.9341e-02\n",
      "boundary_n_loss: 5.0228e+01, boundary_u_loss: 2.3849e-01, boundary_ϵ_loss: 8.6198e-03\n"
     ]
    },
    {
     "name": "stderr",
     "output_type": "stream",
     "text": [
      "2024/08/28 15:52:48 WARNING mlflow.models.model: Input example should be provided to infer model signature if the model signature is not provided when logging the model.\n",
      "2024/08/28 15:52:50 WARNING mlflow.models.model: Input example should be provided to infer model signature if the model signature is not provided when logging the model.\n",
      "2024/08/28 15:52:52 WARNING mlflow.models.model: Input example should be provided to infer model signature if the model signature is not provided when logging the model.\n"
     ]
    },
    {
     "name": "stdout",
     "output_type": "stream",
     "text": [
      "\n",
      "Epoch: 45000, Loss: 5.8295e+05\n",
      "density_loss: 1.4010e-01, vorticity_loss: 7.2456e-02, tpe_loss: 1.7488e+06\n",
      "initial_n_loss: 4.3608e-03, initial_u_loss: 8.3080e-03, initial_ϵ_loss: 2.4441e-02\n",
      "boundary_n_loss: 6.6540e+00, boundary_u_loss: 3.7599e-01, boundary_ϵ_loss: 9.6235e-03\n"
     ]
    },
    {
     "name": "stderr",
     "output_type": "stream",
     "text": [
      "2024/08/28 15:54:54 WARNING mlflow.models.model: Input example should be provided to infer model signature if the model signature is not provided when logging the model.\n",
      "2024/08/28 15:54:56 WARNING mlflow.models.model: Input example should be provided to infer model signature if the model signature is not provided when logging the model.\n",
      "2024/08/28 15:54:58 WARNING mlflow.models.model: Input example should be provided to infer model signature if the model signature is not provided when logging the model.\n"
     ]
    },
    {
     "name": "stdout",
     "output_type": "stream",
     "text": [
      "\n",
      "Epoch: 47500, Loss: 2.9367e+06\n",
      "density_loss: 4.8943e-01, vorticity_loss: 1.2227e-01, tpe_loss: 8.8091e+06\n",
      "initial_n_loss: 5.7010e-03, initial_u_loss: 9.8308e-03, initial_ϵ_loss: 1.6353e-02\n",
      "boundary_n_loss: 3.4940e+02, boundary_u_loss: 5.4940e+02, boundary_ϵ_loss: 1.5443e-02\n"
     ]
    },
    {
     "name": "stderr",
     "output_type": "stream",
     "text": [
      "2024/08/28 15:57:09 WARNING mlflow.models.model: Input example should be provided to infer model signature if the model signature is not provided when logging the model.\n",
      "2024/08/28 15:57:11 WARNING mlflow.models.model: Input example should be provided to infer model signature if the model signature is not provided when logging the model.\n",
      "2024/08/28 15:57:13 WARNING mlflow.models.model: Input example should be provided to infer model signature if the model signature is not provided when logging the model.\n"
     ]
    },
    {
     "name": "stdout",
     "output_type": "stream",
     "text": [
      "\n",
      "Epoch: 50000, Loss: 1.3466e+06\n",
      "density_loss: 7.1619e-01, vorticity_loss: 1.7264e-01, tpe_loss: 4.0386e+06\n",
      "initial_n_loss: 1.5941e-04, initial_u_loss: 1.1099e-02, initial_ϵ_loss: 1.2917e-02\n",
      "boundary_n_loss: 5.4539e+00, boundary_u_loss: 1.0502e+03, boundary_ϵ_loss: 2.3342e-02\n"
     ]
    },
    {
     "name": "stderr",
     "output_type": "stream",
     "text": [
      "2024/08/28 15:59:22 WARNING mlflow.models.model: Input example should be provided to infer model signature if the model signature is not provided when logging the model.\n",
      "2024/08/28 15:59:24 WARNING mlflow.models.model: Input example should be provided to infer model signature if the model signature is not provided when logging the model.\n",
      "2024/08/28 15:59:26 WARNING mlflow.models.model: Input example should be provided to infer model signature if the model signature is not provided when logging the model.\n"
     ]
    },
    {
     "name": "stdout",
     "output_type": "stream",
     "text": [
      "\n",
      "Epoch: 52500, Loss: 6.4309e+05\n",
      "density_loss: 7.2317e-01, vorticity_loss: 3.4221e-02, tpe_loss: 1.9293e+06\n",
      "initial_n_loss: 2.4206e-01, initial_u_loss: 1.1797e-01, initial_ϵ_loss: 4.1237e-01\n",
      "boundary_n_loss: 7.0472e+00, boundary_u_loss: 2.3260e-01, boundary_ϵ_loss: 3.7047e-02\n"
     ]
    },
    {
     "name": "stderr",
     "output_type": "stream",
     "text": [
      "2024/08/28 16:01:39 WARNING mlflow.models.model: Input example should be provided to infer model signature if the model signature is not provided when logging the model.\n",
      "2024/08/28 16:01:41 WARNING mlflow.models.model: Input example should be provided to infer model signature if the model signature is not provided when logging the model.\n",
      "2024/08/28 16:01:44 WARNING mlflow.models.model: Input example should be provided to infer model signature if the model signature is not provided when logging the model.\n"
     ]
    },
    {
     "name": "stdout",
     "output_type": "stream",
     "text": [
      "\n",
      "Epoch: 55000, Loss: 5.1448e+04\n",
      "density_loss: 6.9512e-01, vorticity_loss: 2.9484e-01, tpe_loss: 1.4964e+05\n",
      "initial_n_loss: 1.2207e+00, initial_u_loss: 2.3971e-01, initial_ϵ_loss: 9.9561e-02\n",
      "boundary_n_loss: 2.5582e+00, boundary_u_loss: 4.7028e+03, boundary_ϵ_loss: 7.4917e-02\n"
     ]
    },
    {
     "name": "stderr",
     "output_type": "stream",
     "text": [
      "2024/08/28 16:03:53 WARNING mlflow.models.model: Input example should be provided to infer model signature if the model signature is not provided when logging the model.\n",
      "2024/08/28 16:03:56 WARNING mlflow.models.model: Input example should be provided to infer model signature if the model signature is not provided when logging the model.\n",
      "2024/08/28 16:03:58 WARNING mlflow.models.model: Input example should be provided to infer model signature if the model signature is not provided when logging the model.\n"
     ]
    },
    {
     "name": "stdout",
     "output_type": "stream",
     "text": [
      "\n",
      "Epoch: 57500, Loss: 2.1747e+04\n",
      "density_loss: 8.5960e-02, vorticity_loss: 7.8412e-02, tpe_loss: 6.5231e+04\n",
      "initial_n_loss: 3.3426e-01, initial_u_loss: 1.7556e-01, initial_ϵ_loss: 3.9249e-02\n",
      "boundary_n_loss: 6.3517e+00, boundary_u_loss: 3.5589e+00, boundary_ϵ_loss: 5.9764e-02\n"
     ]
    },
    {
     "name": "stderr",
     "output_type": "stream",
     "text": [
      "2024/08/28 16:06:00 WARNING mlflow.models.model: Input example should be provided to infer model signature if the model signature is not provided when logging the model.\n",
      "2024/08/28 16:06:03 WARNING mlflow.models.model: Input example should be provided to infer model signature if the model signature is not provided when logging the model.\n",
      "2024/08/28 16:06:05 WARNING mlflow.models.model: Input example should be provided to infer model signature if the model signature is not provided when logging the model.\n"
     ]
    },
    {
     "name": "stdout",
     "output_type": "stream",
     "text": [
      "\n",
      "Epoch: 60000, Loss: 3.4525e+04\n",
      "density_loss: 7.9940e-02, vorticity_loss: 8.3423e-02, tpe_loss: 1.0357e+05\n",
      "initial_n_loss: 3.8015e-01, initial_u_loss: 1.2459e-01, initial_ϵ_loss: 3.6895e-02\n",
      "boundary_n_loss: 4.9830e+00, boundary_u_loss: 3.5889e+00, boundary_ϵ_loss: 4.8960e-02\n"
     ]
    },
    {
     "name": "stderr",
     "output_type": "stream",
     "text": [
      "2024/08/28 16:08:06 WARNING mlflow.models.model: Input example should be provided to infer model signature if the model signature is not provided when logging the model.\n",
      "2024/08/28 16:08:09 WARNING mlflow.models.model: Input example should be provided to infer model signature if the model signature is not provided when logging the model.\n",
      "2024/08/28 16:08:11 WARNING mlflow.models.model: Input example should be provided to infer model signature if the model signature is not provided when logging the model.\n"
     ]
    },
    {
     "name": "stdout",
     "output_type": "stream",
     "text": [
      "\n",
      "Epoch: 62500, Loss: 2.1599e+04\n",
      "density_loss: 8.7122e-02, vorticity_loss: 9.1056e-02, tpe_loss: 6.4788e+04\n",
      "initial_n_loss: 5.0159e-01, initial_u_loss: 1.3325e-01, initial_ϵ_loss: 4.0357e-02\n",
      "boundary_n_loss: 3.5472e+00, boundary_u_loss: 3.6001e+00, boundary_ϵ_loss: 4.0468e-02\n"
     ]
    },
    {
     "name": "stderr",
     "output_type": "stream",
     "text": [
      "2024/08/28 16:10:20 WARNING mlflow.models.model: Input example should be provided to infer model signature if the model signature is not provided when logging the model.\n",
      "2024/08/28 16:10:23 WARNING mlflow.models.model: Input example should be provided to infer model signature if the model signature is not provided when logging the model.\n",
      "2024/08/28 16:10:25 WARNING mlflow.models.model: Input example should be provided to infer model signature if the model signature is not provided when logging the model.\n"
     ]
    },
    {
     "name": "stdout",
     "output_type": "stream",
     "text": [
      "\n",
      "Epoch: 65000, Loss: 2.2476e+04\n",
      "density_loss: 7.8669e-02, vorticity_loss: 8.1281e-02, tpe_loss: 6.7422e+04\n",
      "initial_n_loss: 6.1829e-01, initial_u_loss: 1.4549e-01, initial_ϵ_loss: 2.5448e-02\n",
      "boundary_n_loss: 2.4448e+00, boundary_u_loss: 3.6209e+00, boundary_ϵ_loss: 3.0453e-02\n"
     ]
    },
    {
     "name": "stderr",
     "output_type": "stream",
     "text": [
      "2024/08/28 16:12:30 WARNING mlflow.models.model: Input example should be provided to infer model signature if the model signature is not provided when logging the model.\n",
      "2024/08/28 16:12:32 WARNING mlflow.models.model: Input example should be provided to infer model signature if the model signature is not provided when logging the model.\n",
      "2024/08/28 16:12:34 WARNING mlflow.models.model: Input example should be provided to infer model signature if the model signature is not provided when logging the model.\n"
     ]
    },
    {
     "name": "stdout",
     "output_type": "stream",
     "text": [
      "\n",
      "Epoch: 67500, Loss: 2.2082e+04\n",
      "density_loss: 4.6712e-02, vorticity_loss: 6.8806e-02, tpe_loss: 6.6241e+04\n",
      "initial_n_loss: 5.6843e-01, initial_u_loss: 1.3550e-01, initial_ϵ_loss: 2.1171e-02\n",
      "boundary_n_loss: 1.8496e+00, boundary_u_loss: 3.5967e+00, boundary_ϵ_loss: 9.9783e-03\n"
     ]
    },
    {
     "name": "stderr",
     "output_type": "stream",
     "text": [
      "2024/08/28 16:14:45 WARNING mlflow.models.model: Input example should be provided to infer model signature if the model signature is not provided when logging the model.\n",
      "2024/08/28 16:14:47 WARNING mlflow.models.model: Input example should be provided to infer model signature if the model signature is not provided when logging the model.\n",
      "2024/08/28 16:14:49 WARNING mlflow.models.model: Input example should be provided to infer model signature if the model signature is not provided when logging the model.\n"
     ]
    },
    {
     "name": "stdout",
     "output_type": "stream",
     "text": [
      "\n",
      "Epoch: 70000, Loss: 8.5752e+03\n",
      "density_loss: 4.2367e-02, vorticity_loss: 6.2197e-02, tpe_loss: 2.5720e+04\n",
      "initial_n_loss: 3.2189e-01, initial_u_loss: 1.0735e-01, initial_ϵ_loss: 1.3531e-02\n",
      "boundary_n_loss: 1.3269e+00, boundary_u_loss: 3.3809e+00, boundary_ϵ_loss: 7.8494e-03\n"
     ]
    },
    {
     "name": "stderr",
     "output_type": "stream",
     "text": [
      "2024/08/28 16:17:01 WARNING mlflow.models.model: Input example should be provided to infer model signature if the model signature is not provided when logging the model.\n",
      "2024/08/28 16:17:04 WARNING mlflow.models.model: Input example should be provided to infer model signature if the model signature is not provided when logging the model.\n",
      "2024/08/28 16:17:06 WARNING mlflow.models.model: Input example should be provided to infer model signature if the model signature is not provided when logging the model.\n"
     ]
    },
    {
     "name": "stdout",
     "output_type": "stream",
     "text": [
      "\n",
      "Epoch: 72500, Loss: 1.7238e+04\n",
      "density_loss: 3.6547e-02, vorticity_loss: 4.9971e-02, tpe_loss: 5.1709e+04\n",
      "initial_n_loss: 6.4648e-02, initial_u_loss: 5.6718e-02, initial_ϵ_loss: 9.1332e-03\n",
      "boundary_n_loss: 1.0325e+00, boundary_u_loss: 3.3454e+00, boundary_ϵ_loss: 6.6375e-03\n"
     ]
    },
    {
     "name": "stderr",
     "output_type": "stream",
     "text": [
      "2024/08/28 16:19:23 WARNING mlflow.models.model: Input example should be provided to infer model signature if the model signature is not provided when logging the model.\n",
      "2024/08/28 16:19:26 WARNING mlflow.models.model: Input example should be provided to infer model signature if the model signature is not provided when logging the model.\n",
      "2024/08/28 16:19:30 WARNING mlflow.models.model: Input example should be provided to infer model signature if the model signature is not provided when logging the model.\n"
     ]
    },
    {
     "name": "stdout",
     "output_type": "stream",
     "text": [
      "\n",
      "Epoch: 75000, Loss: 1.6440e+04\n",
      "density_loss: 2.1005e-02, vorticity_loss: 3.1038e-02, tpe_loss: 4.9314e+04\n",
      "initial_n_loss: 8.5834e-03, initial_u_loss: 1.5832e-02, initial_ϵ_loss: 7.2678e-03\n",
      "boundary_n_loss: 1.2118e+00, boundary_u_loss: 3.2084e+00, boundary_ϵ_loss: 5.9269e-03\n"
     ]
    },
    {
     "name": "stderr",
     "output_type": "stream",
     "text": [
      "2024/08/28 16:21:58 WARNING mlflow.models.model: Input example should be provided to infer model signature if the model signature is not provided when logging the model.\n",
      "2024/08/28 16:22:01 WARNING mlflow.models.model: Input example should be provided to infer model signature if the model signature is not provided when logging the model.\n",
      "2024/08/28 16:22:03 WARNING mlflow.models.model: Input example should be provided to infer model signature if the model signature is not provided when logging the model.\n"
     ]
    },
    {
     "name": "stdout",
     "output_type": "stream",
     "text": [
      "\n",
      "Epoch: 77500, Loss: 1.0583e+04\n",
      "density_loss: 2.2684e-02, vorticity_loss: 2.8267e-02, tpe_loss: 3.1745e+04\n",
      "initial_n_loss: 1.6074e-03, initial_u_loss: 2.9680e-03, initial_ϵ_loss: 6.1200e-03\n",
      "boundary_n_loss: 8.5266e-01, boundary_u_loss: 3.1132e+00, boundary_ϵ_loss: 5.3862e-03\n"
     ]
    },
    {
     "name": "stderr",
     "output_type": "stream",
     "text": [
      "2024/08/28 16:24:06 WARNING mlflow.models.model: Input example should be provided to infer model signature if the model signature is not provided when logging the model.\n",
      "2024/08/28 16:24:08 WARNING mlflow.models.model: Input example should be provided to infer model signature if the model signature is not provided when logging the model.\n",
      "2024/08/28 16:24:11 WARNING mlflow.models.model: Input example should be provided to infer model signature if the model signature is not provided when logging the model.\n"
     ]
    },
    {
     "name": "stdout",
     "output_type": "stream",
     "text": [
      "\n",
      "Epoch: 80000, Loss: 9.5565e+03\n",
      "density_loss: 1.8801e-02, vorticity_loss: 2.2507e-02, tpe_loss: 2.8666e+04\n",
      "initial_n_loss: 7.9562e-04, initial_u_loss: 1.4449e-03, initial_ϵ_loss: 5.2851e-03\n",
      "boundary_n_loss: 7.9863e-01, boundary_u_loss: 3.1812e+00, boundary_ϵ_loss: 4.9417e-03\n"
     ]
    },
    {
     "name": "stderr",
     "output_type": "stream",
     "text": [
      "2024/08/28 16:26:18 WARNING mlflow.models.model: Input example should be provided to infer model signature if the model signature is not provided when logging the model.\n",
      "2024/08/28 16:26:21 WARNING mlflow.models.model: Input example should be provided to infer model signature if the model signature is not provided when logging the model.\n",
      "2024/08/28 16:26:23 WARNING mlflow.models.model: Input example should be provided to infer model signature if the model signature is not provided when logging the model.\n"
     ]
    },
    {
     "name": "stdout",
     "output_type": "stream",
     "text": [
      "\n",
      "Epoch: 82500, Loss: 1.4132e+04\n",
      "density_loss: 2.0139e-02, vorticity_loss: 2.2335e-02, tpe_loss: 4.2392e+04\n",
      "initial_n_loss: 6.5185e-04, initial_u_loss: 1.2392e-03, initial_ϵ_loss: 4.5116e-03\n",
      "boundary_n_loss: 8.9078e-01, boundary_u_loss: 3.0127e+00, boundary_ϵ_loss: 4.5242e-03\n"
     ]
    },
    {
     "name": "stderr",
     "output_type": "stream",
     "text": [
      "2024/08/28 16:28:54 WARNING mlflow.models.model: Input example should be provided to infer model signature if the model signature is not provided when logging the model.\n",
      "2024/08/28 16:28:56 WARNING mlflow.models.model: Input example should be provided to infer model signature if the model signature is not provided when logging the model.\n",
      "2024/08/28 16:28:59 WARNING mlflow.models.model: Input example should be provided to infer model signature if the model signature is not provided when logging the model.\n"
     ]
    },
    {
     "name": "stdout",
     "output_type": "stream",
     "text": [
      "\n",
      "Epoch: 85000, Loss: 1.6242e+04\n",
      "density_loss: 1.9150e-02, vorticity_loss: 2.0278e-02, tpe_loss: 4.8722e+04\n",
      "initial_n_loss: 3.9556e-04, initial_u_loss: 1.1029e-03, initial_ϵ_loss: 4.1579e-03\n",
      "boundary_n_loss: 7.8485e-01, boundary_u_loss: 2.9049e+00, boundary_ϵ_loss: 4.1722e-03\n"
     ]
    },
    {
     "name": "stderr",
     "output_type": "stream",
     "text": [
      "2024/08/28 16:31:29 WARNING mlflow.models.model: Input example should be provided to infer model signature if the model signature is not provided when logging the model.\n",
      "2024/08/28 16:31:31 WARNING mlflow.models.model: Input example should be provided to infer model signature if the model signature is not provided when logging the model.\n",
      "2024/08/28 16:31:33 WARNING mlflow.models.model: Input example should be provided to infer model signature if the model signature is not provided when logging the model.\n"
     ]
    },
    {
     "name": "stdout",
     "output_type": "stream",
     "text": [
      "\n",
      "Epoch: 87500, Loss: 1.6145e+04\n",
      "density_loss: 1.9066e-02, vorticity_loss: 1.9544e-02, tpe_loss: 4.8432e+04\n",
      "initial_n_loss: 2.0825e-04, initial_u_loss: 9.8471e-04, initial_ϵ_loss: 4.1429e-03\n",
      "boundary_n_loss: 8.2927e-01, boundary_u_loss: 2.9087e+00, boundary_ϵ_loss: 3.8842e-03\n"
     ]
    },
    {
     "name": "stderr",
     "output_type": "stream",
     "text": [
      "2024/08/28 16:33:43 WARNING mlflow.models.model: Input example should be provided to infer model signature if the model signature is not provided when logging the model.\n",
      "2024/08/28 16:33:45 WARNING mlflow.models.model: Input example should be provided to infer model signature if the model signature is not provided when logging the model.\n",
      "2024/08/28 16:33:47 WARNING mlflow.models.model: Input example should be provided to infer model signature if the model signature is not provided when logging the model.\n"
     ]
    },
    {
     "name": "stdout",
     "output_type": "stream",
     "text": [
      "\n",
      "Epoch: 90000, Loss: 1.5319e+04\n",
      "density_loss: 3.2854e-02, vorticity_loss: 5.7000e-03, tpe_loss: 4.5954e+04\n",
      "initial_n_loss: 2.0146e-04, initial_u_loss: 8.7295e-04, initial_ϵ_loss: 3.8568e-03\n",
      "boundary_n_loss: 9.2433e-01, boundary_u_loss: 2.8946e+00, boundary_ϵ_loss: 3.6185e-03\n"
     ]
    },
    {
     "name": "stderr",
     "output_type": "stream",
     "text": [
      "2024/08/28 16:36:17 WARNING mlflow.models.model: Input example should be provided to infer model signature if the model signature is not provided when logging the model.\n",
      "2024/08/28 16:36:19 WARNING mlflow.models.model: Input example should be provided to infer model signature if the model signature is not provided when logging the model.\n",
      "2024/08/28 16:36:22 WARNING mlflow.models.model: Input example should be provided to infer model signature if the model signature is not provided when logging the model.\n"
     ]
    },
    {
     "name": "stdout",
     "output_type": "stream",
     "text": [
      "\n",
      "Epoch: 92500, Loss: 1.4940e+04\n",
      "density_loss: 4.0476e-03, vorticity_loss: 4.1266e-03, tpe_loss: 4.4815e+04\n",
      "initial_n_loss: 3.4487e-05, initial_u_loss: 7.5409e-04, initial_ϵ_loss: 3.3688e-03\n",
      "boundary_n_loss: 8.8416e-01, boundary_u_loss: 2.9728e+00, boundary_ϵ_loss: 3.3756e-03\n"
     ]
    },
    {
     "name": "stderr",
     "output_type": "stream",
     "text": [
      "2024/08/28 16:38:36 WARNING mlflow.models.model: Input example should be provided to infer model signature if the model signature is not provided when logging the model.\n",
      "2024/08/28 16:38:38 WARNING mlflow.models.model: Input example should be provided to infer model signature if the model signature is not provided when logging the model.\n",
      "2024/08/28 16:38:40 WARNING mlflow.models.model: Input example should be provided to infer model signature if the model signature is not provided when logging the model.\n"
     ]
    },
    {
     "name": "stdout",
     "output_type": "stream",
     "text": [
      "\n",
      "Epoch: 95000, Loss: 2.1853e+04\n",
      "density_loss: 5.4779e-03, vorticity_loss: 4.4984e-03, tpe_loss: 6.5556e+04\n",
      "initial_n_loss: 9.7471e-05, initial_u_loss: 7.0686e-04, initial_ϵ_loss: 3.3211e-03\n",
      "boundary_n_loss: 8.5081e-01, boundary_u_loss: 2.8066e+00, boundary_ϵ_loss: 3.1865e-03\n"
     ]
    },
    {
     "name": "stderr",
     "output_type": "stream",
     "text": [
      "2024/08/28 16:41:11 WARNING mlflow.models.model: Input example should be provided to infer model signature if the model signature is not provided when logging the model.\n",
      "2024/08/28 16:41:13 WARNING mlflow.models.model: Input example should be provided to infer model signature if the model signature is not provided when logging the model.\n",
      "2024/08/28 16:41:15 WARNING mlflow.models.model: Input example should be provided to infer model signature if the model signature is not provided when logging the model.\n"
     ]
    },
    {
     "name": "stdout",
     "output_type": "stream",
     "text": [
      "\n",
      "Epoch: 97500, Loss: 1.1538e+04\n",
      "density_loss: 5.5832e-03, vorticity_loss: 5.4276e-03, tpe_loss: 3.4610e+04\n",
      "initial_n_loss: 1.3310e-04, initial_u_loss: 6.3815e-04, initial_ϵ_loss: 3.1215e-03\n",
      "boundary_n_loss: 1.3923e+00, boundary_u_loss: 2.6482e+00, boundary_ϵ_loss: 3.0186e-03\n"
     ]
    },
    {
     "name": "stderr",
     "output_type": "stream",
     "text": [
      "2024/08/28 16:43:17 WARNING mlflow.models.model: Input example should be provided to infer model signature if the model signature is not provided when logging the model.\n",
      "2024/08/28 16:43:19 WARNING mlflow.models.model: Input example should be provided to infer model signature if the model signature is not provided when logging the model.\n",
      "2024/08/28 16:43:21 WARNING mlflow.models.model: Input example should be provided to infer model signature if the model signature is not provided when logging the model.\n"
     ]
    },
    {
     "name": "stdout",
     "output_type": "stream",
     "text": [
      "\n",
      "Epoch: 99999, Loss: 1.4862e+04\n",
      "density_loss: 5.5643e-03, vorticity_loss: 5.7670e-03, tpe_loss: 4.4583e+04\n",
      "initial_n_loss: 5.8891e-05, initial_u_loss: 5.4841e-04, initial_ϵ_loss: 2.7859e-03\n",
      "boundary_n_loss: 9.1416e-01, boundary_u_loss: 2.5776e+00, boundary_ϵ_loss: 2.8438e-03\n"
     ]
    },
    {
     "name": "stderr",
     "output_type": "stream",
     "text": [
      "2024/08/28 16:45:23 WARNING mlflow.models.model: Input example should be provided to infer model signature if the model signature is not provided when logging the model.\n",
      "2024/08/28 16:45:25 WARNING mlflow.models.model: Input example should be provided to infer model signature if the model signature is not provided when logging the model.\n",
      "2024/08/28 16:45:28 WARNING mlflow.models.model: Input example should be provided to infer model signature if the model signature is not provided when logging the model.\n",
      "2024/08/28 16:45:31 WARNING mlflow.models.model: Input example should be provided to infer model signature if the model signature is not provided when logging the model.\n",
      "2024/08/28 16:45:34 WARNING mlflow.models.model: Input example should be provided to infer model signature if the model signature is not provided when logging the model.\n",
      "2024/08/28 16:45:36 WARNING mlflow.models.model: Input example should be provided to infer model signature if the model signature is not provided when logging the model.\n"
     ]
    }
   ],
   "source": [
    "pinn.train()"
   ]
  },
  {
   "cell_type": "code",
   "execution_count": null,
   "metadata": {},
   "outputs": [],
   "source": []
  },
  {
   "cell_type": "markdown",
   "metadata": {},
   "source": [
    "## Debug"
   ]
  }
 ],
 "metadata": {
  "kernelspec": {
   "display_name": "pdenn",
   "language": "python",
   "name": "python3"
  },
  "language_info": {
   "codemirror_mode": {
    "name": "ipython",
    "version": 3
   },
   "file_extension": ".py",
   "mimetype": "text/x-python",
   "name": "python",
   "nbconvert_exporter": "python",
   "pygments_lexer": "ipython3",
   "version": "3.12.5"
  }
 },
 "nbformat": 4,
 "nbformat_minor": 2
}
