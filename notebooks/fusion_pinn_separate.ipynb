{
 "cells": [
  {
   "cell_type": "markdown",
   "metadata": {},
   "source": [
    "# PINN Implementation of Ashourvan & Diamond Paper"
   ]
  },
  {
   "cell_type": "code",
   "execution_count": 1,
   "metadata": {},
   "outputs": [],
   "source": [
    "import numpy as np\n",
    "import torch\n",
    "import torch.nn as nn\n",
    "from torch.autograd import grad\n",
    "\n",
    "import mlflow\n",
    "import mlflow.pytorch\n",
    "\n",
    "from tqdm.notebook import tqdm\n",
    "\n",
    "import imageio.v2 as imageio\n",
    "import matplotlib.pyplot as plt\n",
    "from mpl_toolkits.mplot3d import Axes3D\n",
    "\n",
    "import os"
   ]
  },
  {
   "cell_type": "markdown",
   "metadata": {},
   "source": [
    "## Define Parameters"
   ]
  },
  {
   "cell_type": "code",
   "execution_count": 2,
   "metadata": {},
   "outputs": [],
   "source": [
    "l = 1.0     # not provided by paper, need to check relation with Λ \n",
    "α = 6.0\n",
    "D_c = 0.78\n",
    "C_χ = 0.95\n",
    "a_u = 1.0\n",
    "μ_c = 0.78\n",
    "β = 0.1\n",
    "Λ = 4000.0\n",
    "ϵ_c = 6.25"
   ]
  },
  {
   "cell_type": "code",
   "execution_count": 3,
   "metadata": {},
   "outputs": [],
   "source": [
    "g_i = 5.1\n",
    "ϵ_i = 0.002"
   ]
  },
  {
   "cell_type": "code",
   "execution_count": 4,
   "metadata": {},
   "outputs": [],
   "source": [
    "physical_params = {\n",
    "    'l': l,\n",
    "    'α': α,\n",
    "    'D_c': D_c,\n",
    "    'C_χ': C_χ,\n",
    "    'a_u': a_u,\n",
    "    'μ_c': μ_c,\n",
    "    'β': β,\n",
    "    'Λ': Λ,\n",
    "    'ϵ_c': ϵ_c,\n",
    "    'g_i': g_i,\n",
    "    'ϵ_i': ϵ_i\n",
    "}"
   ]
  },
  {
   "cell_type": "markdown",
   "metadata": {},
   "source": [
    "## Define PDEs"
   ]
  },
  {
   "cell_type": "markdown",
   "metadata": {},
   "source": [
    "### Define repeated calculations"
   ]
  },
  {
   "cell_type": "code",
   "execution_count": 5,
   "metadata": {},
   "outputs": [],
   "source": [
    "def compute_w(C_χ, l, ϵ, α, a_u, u):\n",
    "    return C_χ * l**2 * ϵ / torch.sqrt(α**2 + a_u * u**2)"
   ]
  },
  {
   "cell_type": "markdown",
   "metadata": {},
   "source": [
    "### Dynamic equation for mean density\n"
   ]
  },
  {
   "cell_type": "code",
   "execution_count": 6,
   "metadata": {},
   "outputs": [],
   "source": [
    "def pde_mean_density(x, n_t, n_x, n_xx, ϵ, l, α, D_c):    \n",
    "    intermediate = l**2 * ϵ * n_x / α\n",
    "    intermediate_x = grad(intermediate, x, grad_outputs=torch.ones_like(intermediate), retain_graph=True, create_graph=True)[0]\n",
    "    \n",
    "    return (n_t - intermediate_x - D_c * n_xx)**2"
   ]
  },
  {
   "cell_type": "markdown",
   "metadata": {},
   "source": [
    "### Dynamic equation for mean vorticity"
   ]
  },
  {
   "cell_type": "code",
   "execution_count": 7,
   "metadata": {},
   "outputs": [],
   "source": [
    "def pde_mean_vorticity(x, ϵ, n_x, u_t, u_xx, l, α, μ_c, w):    \n",
    "    intermediate = (l**2 * ϵ / α - w) * n_x\n",
    "    intermediate_x = grad(intermediate, x, grad_outputs=torch.ones_like(intermediate), retain_graph=True, create_graph=True)[0]\n",
    "    \n",
    "    return (u_t - intermediate_x - w * u_xx - μ_c * u_xx)**2"
   ]
  },
  {
   "cell_type": "markdown",
   "metadata": {},
   "source": [
    "### Dynamic equation for turbulent potential entrosphy"
   ]
  },
  {
   "cell_type": "code",
   "execution_count": 8,
   "metadata": {},
   "outputs": [],
   "source": [
    "def pde_tpe(x, ϵ, n_x, u_x, ϵ_t, ϵ_x, l, β, Λ, ϵ_c, w):\n",
    "    intermediate = l**2 * torch.sqrt(ϵ) * ϵ_x\n",
    "    intermediate_x = grad(intermediate, x, grad_outputs=torch.ones_like(intermediate), retain_graph=True, create_graph=True)[0]\n",
    "    \n",
    "    return (ϵ_t - β * intermediate_x - Λ * (w * (n_x - u_x)**2 - ϵ**(3/2) / ϵ_c**0.5 + ϵ))**2"
   ]
  },
  {
   "cell_type": "markdown",
   "metadata": {},
   "source": [
    "## Define Initial Conditions"
   ]
  },
  {
   "cell_type": "code",
   "execution_count": 9,
   "metadata": {},
   "outputs": [],
   "source": [
    "def n_initial_cond(t, x):\n",
    "    return -g_i * x\n",
    "\n",
    "def u_initial_cond(t, x):\n",
    "    return torch.zeros(x.shape, device=x.device.type)\n",
    "\n",
    "def ϵ_initial_cond(t, x):\n",
    "    return torch.full(x.shape, ϵ_i, device=x.device.type)"
   ]
  },
  {
   "cell_type": "markdown",
   "metadata": {},
   "source": [
    "## Define Boundary Conditions"
   ]
  },
  {
   "cell_type": "code",
   "execution_count": 10,
   "metadata": {},
   "outputs": [],
   "source": [
    "def n_boundary_cond(t, x):\n",
    "    out = torch.full(x.shape, -g_i, device=x.device.type)\n",
    "    out = out * x\n",
    "    \n",
    "    return out\n",
    "\n",
    "def u_boundary_cond(t, x):\n",
    "    return torch.zeros(x.shape, device=x.device.type)\n",
    "\n",
    "\n",
    "def ϵ_x_boundary_cond(t, x):\n",
    "    return torch.zeros(x.shape, device=x.device.type)"
   ]
  },
  {
   "cell_type": "markdown",
   "metadata": {},
   "source": [
    "## PINN Implementation"
   ]
  },
  {
   "cell_type": "code",
   "execution_count": 11,
   "metadata": {},
   "outputs": [],
   "source": [
    "class AbsPerturbLayer(nn.Module):\n",
    "    def __init__(self, perturbation=0.01):\n",
    "        super(AbsPerturbLayer, self).__init__()\n",
    "        self.perturbation = perturbation\n",
    "    \n",
    "    def forward(self, x):\n",
    "        # Take the absolute value\n",
    "        abs_x = torch.abs(x)\n",
    "        # Add a small perturbation\n",
    "        perturbed_x = abs_x + self.perturbation\n",
    "        return perturbed_x"
   ]
  },
  {
   "cell_type": "code",
   "execution_count": 12,
   "metadata": {},
   "outputs": [],
   "source": [
    "class PINN(nn.Module):\n",
    "    def __init__(self, pars: dict):\n",
    "        super().__init__()\n",
    "        self.pars = pars\n",
    "        \n",
    "        # model for n\n",
    "        self.modules_n = [nn.Linear(2, self.pars['width'])] # nn.LayerNorm(2)\n",
    "        for i in range(self.pars['layers'] - 1):\n",
    "            # self.modules_n.append(nn.LayerNorm(self.pars['width']))\n",
    "            self.modules_n.append(nn.GELU())\n",
    "            self.modules_n.append(nn.Linear(self.pars['width'], self.pars['width']))\n",
    "        \n",
    "        # self.modules_n.append(nn.LayerNorm(self.pars['width']))\n",
    "        self.modules_n.append(nn.Linear(self.pars['width'], 1))\n",
    "        \n",
    "        self.model_n = nn.Sequential(*self.modules_n)\n",
    "        self.model_n.to(self.pars['device'])\n",
    "        \n",
    "        # model for u\n",
    "        self.modules_u = [nn.Linear(2, self.pars['width'])] # nn.LayerNorm(2)\n",
    "        for i in range(self.pars['layers'] - 1):\n",
    "            # self.modules_u.append(nn.LayerNorm(self.pars['width']))\n",
    "            self.modules_u.append(nn.GELU())\n",
    "            self.modules_u.append(nn.Linear(self.pars['width'], self.pars['width']))\n",
    "        \n",
    "        # self.modules_u.append(nn.LayerNorm(self.pars['width']))\n",
    "        self.modules_u.append(nn.Linear(self.pars['width'], 1))\n",
    "        \n",
    "        self.model_u = nn.Sequential(*self.modules_u)\n",
    "        self.model_u.to(self.pars['device'])\n",
    "        \n",
    "        # model for ϵ\n",
    "        self.modules_ϵ = [nn.Linear(2, self.pars['width'])] # nn.LayerNorm(2)\n",
    "        for i in range(self.pars['layers'] - 1):\n",
    "            # self.modules_ϵ.append(nn.LayerNorm(self.pars['width']))\n",
    "            self.modules_ϵ.append(nn.GELU())\n",
    "            self.modules_ϵ.append(nn.Linear(self.pars['width'], self.pars['width']))\n",
    "        \n",
    "        # self.modules_ϵ.append(nn.LayerNorm(self.pars['width']))\n",
    "        self.modules_ϵ.append(nn.Linear(self.pars['width'], 1))\n",
    "        self.modules_ϵ.append(AbsPerturbLayer(perturbation=1e-2))\n",
    "        \n",
    "        self.model_ϵ = nn.Sequential(*self.modules_ϵ)\n",
    "        self.model_ϵ.to(self.pars['device'])\n",
    "        \n",
    "        self.models = [self.model_n, self.model_u, self.model_ϵ]\n",
    "        \n",
    "        self.optimizer_n = torch.optim.Adam(params=self.model_n.parameters(), lr=self.pars['lr'])\n",
    "        self.optimizer_u = torch.optim.Adam(params=self.model_u.parameters(), lr=self.pars['lr'])\n",
    "        self.optimizer_ϵ = torch.optim.Adam(params=self.model_ϵ.parameters(), lr=self.pars['lr'])\n",
    "        \n",
    "        self.num_params = sum([len(list(params)) for params in [layer for layer in [model.parameters() for model in self.models]]])\n",
    "        \n",
    "        self.epoch = 0\n",
    "        \n",
    "        t = np.linspace(self.pars['t_min'], self.pars['t_max'], 100)\n",
    "        x = np.linspace(self.pars['x_min'], self.pars['x_max'], 100)\n",
    "\n",
    "        self.eval_t, self.eval_x = np.meshgrid(t, x)\n",
    "        self.eval_t = torch.Tensor(self.eval_t).reshape(-1, 1).to(self.pars['device'])\n",
    "        self.eval_x = torch.Tensor(self.eval_x).reshape(-1, 1).to(self.pars['device'])\n",
    "        self.eval_t.requires_grad_()\n",
    "        self.eval_x.requires_grad_()\n",
    "        \n",
    "        eval_t_interior, eval_x_interior = np.meshgrid(t[1:-1], x[1:-1])\n",
    "        eval_t_interior = torch.Tensor(eval_t_interior).reshape(-1, 1).to(self.pars['device'])\n",
    "        eval_x_interior = torch.Tensor(eval_x_interior).reshape(-1, 1).to(self.pars['device'])\n",
    "        \n",
    "        self.eval_X_interior = torch.hstack((eval_t_interior, eval_x_interior))\n",
    "        self.eval_X_interior.requires_grad_()\n",
    "        \n",
    "        eval_t_initial = torch.zeros_like(self.eval_x)\n",
    "        self.eval_X_initial = torch.hstack((eval_t_initial, self.eval_x))\n",
    "        self.eval_X_initial.requires_grad_()\n",
    "        \n",
    "        eval_t_boundary = torch.Tensor(np.vstack([t, t])).reshape(-1, 1).to(self.pars['device'])\n",
    "        eval_x_boundary = torch.Tensor(np.vstack([x[0] * np.ones_like(t), x[-1] * np.ones_like(t)])).reshape(-1, 1).to(self.pars['device'])\n",
    "        \n",
    "        self.eval_X_boundary = torch.hstack((eval_t_boundary, eval_x_boundary))\n",
    "        self.eval_X_boundary.requires_grad_()\n",
    "        \n",
    "        self.plot_t = self.eval_t.view(100, 100).detach().cpu().numpy()\n",
    "        self.plot_x = self.eval_x.view(100, 100).detach().cpu().numpy()\n",
    "        \n",
    "        self.plot_files = {}\n",
    "        \n",
    "        if 'plot_vars_list' in self.pars:\n",
    "            for varname in self.pars['plot_vars_list']:\n",
    "                self.plot_files[varname] = []\n",
    "        \n",
    "    def __call__(self, X):\n",
    "        return self.model_n(X), self.model_u(X), self.model_ϵ(X)\n",
    "        \n",
    "    def sample_interior_points(self):\n",
    "        t = torch.empty((self.pars['interior_batch_size'], 1), device=self.pars['device']).uniform_(self.pars['t_min'], self.pars['t_max'])\n",
    "        x = torch.empty((self.pars['interior_batch_size'], 1), device=self.pars['device']).uniform_(self.pars['x_min'], self.pars['x_max'])\n",
    "        X_interior = torch.cat((t, x), 1)\n",
    "        X_interior.requires_grad_()\n",
    "        \n",
    "        return X_interior\n",
    "    \n",
    "    def sample_initial_points(self):\n",
    "        t = torch.zeros(self.pars['initial_batch_size'], 1, device=self.pars['device'])\n",
    "        x = torch.empty((self.pars['initial_batch_size'], 1), device=self.pars['device']).uniform_(self.pars['x_min'], self.pars['x_max'])\n",
    "        X_initial = torch.cat((t, x), 1)\n",
    "        X_initial.requires_grad_()\n",
    "        \n",
    "        return X_initial\n",
    "    \n",
    "    def sample_boundary_points(self):\n",
    "        options = torch.tensor([self.pars['x_min'], self.pars['x_max']], device=self.pars['device'])\n",
    "        \n",
    "        t = torch.empty((self.pars['boundary_batch_size'], 1), device=self.pars['device']).uniform_(self.pars['t_min'], self.pars['t_max'])\n",
    "        x = options[torch.randint(0, 2, (self.pars['boundary_batch_size'], 1), device=self.pars['device'])]\n",
    "        X_boundary = torch.cat((t, x), 1)\n",
    "        X_boundary.requires_grad_()\n",
    "        \n",
    "        return X_boundary\n",
    "    \n",
    "    def forward(self, X_interior, X_initial, X_boundary):\n",
    "        # X shape: (batch_size, 2), where 2nd dimension is [t, x]\n",
    "        # Y shape: (batch_size, 3), where 2nd dimension is [n, u, ϵ]\n",
    "        \n",
    "        t_interior = X_interior[:, 0].reshape(-1, 1)\n",
    "        x_interior = X_interior[:, 1].reshape(-1, 1)\n",
    "        t_initial = X_initial[:, 0].reshape(-1, 1)\n",
    "        x_initial = X_initial[:, 1].reshape(-1, 1)\n",
    "        t_boundary = X_boundary[:, 0].reshape(-1, 1)\n",
    "        x_boundary = X_boundary[:, 1].reshape(-1, 1)\n",
    "        \n",
    "        # forward pass\n",
    "        n_interior = self.model_n(torch.hstack((t_interior, x_interior)))\n",
    "        u_interior = self.model_u(torch.hstack((t_interior, x_interior)))\n",
    "        ϵ_interior = self.model_ϵ(torch.hstack((t_interior, x_interior)))\n",
    "        \n",
    "        n_initial = self.model_n(torch.hstack((t_initial, x_initial)))\n",
    "        u_initial = self.model_u(torch.hstack((t_initial, x_initial)))\n",
    "        ϵ_initial = self.model_ϵ(torch.hstack((t_initial, x_initial)))\n",
    "        \n",
    "        n_boundary = self.model_n(torch.hstack((t_boundary, x_boundary)))\n",
    "        u_boundary = self.model_u(torch.hstack((t_boundary, x_boundary)))\n",
    "        ϵ_boundary = self.model_ϵ(torch.hstack((t_boundary, x_boundary)))\n",
    "        \n",
    "        n_x_interior = grad(n_interior, x_interior, grad_outputs=torch.ones_like(n_interior), retain_graph=True, create_graph=True)[0]\n",
    "        n_t_interior = grad(n_interior, t_interior, grad_outputs=torch.ones_like(n_interior), retain_graph=True, create_graph=True)[0]\n",
    "        \n",
    "        n_xx_interior = grad(n_x_interior, x_interior, grad_outputs=torch.ones_like(n_x_interior), retain_graph=True, create_graph=True)[0]\n",
    "        \n",
    "        u_x_interior = grad(u_interior, x_interior, grad_outputs=torch.ones_like(u_interior), retain_graph=True, create_graph=True)[0]\n",
    "        u_t_interior = grad(u_interior, t_interior, grad_outputs=torch.ones_like(u_interior), retain_graph=True, create_graph=True)[0]\n",
    "        \n",
    "        u_xx_interior = grad(u_x_interior, x_interior, grad_outputs=torch.ones_like(u_x_interior), retain_graph=True, create_graph=True)[0]\n",
    "        \n",
    "        ϵ_x_interior = grad(ϵ_interior, x_interior, grad_outputs=torch.ones_like(ϵ_interior), retain_graph=True, create_graph=True)[0]\n",
    "        ϵ_t_interior = grad(ϵ_interior, t_interior, grad_outputs=torch.ones_like(ϵ_interior), retain_graph=True, create_graph=True)[0]\n",
    "        \n",
    "        ϵ_x_boundary = grad(ϵ_boundary, x_boundary, grad_outputs=torch.ones_like(ϵ_boundary), retain_graph=True, create_graph=True)[0]\n",
    "        \n",
    "        w = compute_w(C_χ, l, ϵ_interior, α, a_u, u_interior)\n",
    "        \n",
    "        density_loss = pde_mean_density(x_interior, n_t_interior, n_x_interior, n_xx_interior, ϵ_interior, l, α, D_c).mean()\n",
    "        vorticity_loss = pde_mean_vorticity(x_interior, ϵ_interior, n_x_interior, u_t_interior, u_xx_interior, l, α, μ_c, w).mean()\n",
    "        tpe_loss = pde_tpe(x_interior, ϵ_interior, n_x_interior, u_x_interior, ϵ_t_interior, ϵ_x_interior, l, β, Λ, ϵ_c, w).mean()\n",
    "        interior_loss = (density_loss + vorticity_loss + tpe_loss)/3\n",
    "        \n",
    "        mse = nn.MSELoss()\n",
    "        \n",
    "        initial_n_loss = mse(n_initial_cond(t_initial, x_initial), n_initial)\n",
    "        initial_u_loss = mse(u_initial_cond(t_initial, x_initial), u_initial)\n",
    "        initial_ϵ_loss = mse(ϵ_initial_cond(t_initial, x_initial), ϵ_initial)\n",
    "        initial_loss = (initial_n_loss + initial_u_loss + initial_ϵ_loss)/3\n",
    "        \n",
    "        boundary_n_loss = mse(n_boundary_cond(t_boundary, x_boundary), n_boundary)\n",
    "        boundary_u_loss = mse(u_boundary_cond(t_boundary, x_boundary), u_boundary)\n",
    "        boundary_ϵ_loss = mse(ϵ_x_boundary_cond(t_boundary, x_boundary), ϵ_x_boundary)\n",
    "        boundary_loss = (boundary_n_loss + boundary_u_loss + boundary_ϵ_loss)/3\n",
    "        total_loss = interior_loss + initial_loss + boundary_loss\n",
    "        \n",
    "        return total_loss, density_loss, vorticity_loss, tpe_loss, initial_n_loss, initial_u_loss, initial_ϵ_loss, boundary_n_loss, boundary_u_loss, boundary_ϵ_loss\n",
    "    \n",
    "    def train(self):\n",
    "        cwd = os.getcwd()\n",
    "        plot_dirs = os.path.join(cwd, f'plots/{self.pars[\"experiment_name\"]}')\n",
    "\n",
    "        if not os.path.isdir(plot_dirs):\n",
    "            os.makedirs(plot_dirs)\n",
    "        \n",
    "        mlflow.set_experiment(self.pars['experiment_name'])\n",
    "        mlflow.start_run()\n",
    "        \n",
    "        mlflow.log_param(\"physical_params\", physical_params)\n",
    "        mlflow.log_param(\"model_params\", self.pars)\n",
    "        \n",
    "        for epoch in tqdm(range(self.pars['epochs']), position=0, leave=True, desc='Training...'): \n",
    "            self.epoch = epoch\n",
    "            \n",
    "            # eval\n",
    "            if epoch % self.pars['eval_interval'] == 0 or epoch == self.pars['epochs'] - 1:\n",
    "                \n",
    "                loss, density_loss, vorticity_loss, tpe_loss, initial_n_loss, initial_u_loss, initial_ϵ_loss, boundary_n_loss, boundary_u_loss, boundary_ϵ_loss \\\n",
    "                    = self.forward(self.eval_X_interior, self.eval_X_initial, self.eval_X_boundary)\n",
    "                \n",
    "                print()\n",
    "                print(f'Epoch: {self.epoch}, Loss: {loss.item():,.4e}')\n",
    "                print(f\"density_loss: {density_loss.item():.4e}, vorticity_loss: {vorticity_loss.item():.4e}, tpe_loss: {tpe_loss.item():.4e}\")\n",
    "                print(f\"initial_n_loss: {initial_n_loss.item():.4e}, initial_u_loss: {initial_u_loss.item():.4e}, initial_ϵ_loss: {initial_ϵ_loss.item():.4e}\")\n",
    "                print(f\"boundary_n_loss: {boundary_n_loss.item():.4e}, boundary_u_loss: {boundary_u_loss.item():.4e}, boundary_ϵ_loss: {boundary_ϵ_loss.item():.4e}\")\n",
    "                \n",
    "                mlflow.log_metric(\"total_loss\", loss.item(), step=self.epoch)\n",
    "                mlflow.log_metric(\"density_loss\", density_loss.item(), step=self.epoch)\n",
    "                mlflow.log_metric(\"vorticity_loss\", vorticity_loss.item(), step=self.epoch)\n",
    "                mlflow.log_metric(\"tpe_loss\", tpe_loss.item(), step=self.epoch)\n",
    "                mlflow.log_metric(\"initial_n_loss\", initial_n_loss.item(), step=self.epoch)\n",
    "                mlflow.log_metric(\"initial_u_loss\", initial_u_loss.item(), step=self.epoch)\n",
    "                mlflow.log_metric(\"initial_ϵ_loss\", initial_ϵ_loss.item(), step=self.epoch)\n",
    "                mlflow.log_metric(\"boundary_n_loss\", boundary_n_loss.item(), step=self.epoch)\n",
    "                mlflow.log_metric(\"boundary_u_loss\", boundary_u_loss.item(), step=self.epoch)\n",
    "                mlflow.log_metric(\"boundary_ϵ_loss\", boundary_ϵ_loss.item(), step=self.epoch)\n",
    "                \n",
    "                mlflow.pytorch.log_model(self.model_n, f\"{self.pars['experiment_name']}_model_n_epoch_{self.epoch}\")\n",
    "                mlflow.pytorch.log_model(self.model_u, f\"{self.pars['experiment_name']}_model_u_epoch_{self.epoch}\")\n",
    "                mlflow.pytorch.log_model(self.model_ϵ, f\"{self.pars['experiment_name']}_model_ϵ_epoch_{self.epoch}\")\n",
    "                \n",
    "                if self.pars['plot_training_outputs']:\n",
    "                    self.plot_outputs()\n",
    "            \n",
    "            # training step\n",
    "            self.optimizer_n.zero_grad()\n",
    "            self.optimizer_u.zero_grad()\n",
    "            self.optimizer_ϵ.zero_grad()\n",
    "            \n",
    "            X_interior = self.sample_interior_points()\n",
    "            X_initial = self.sample_initial_points()\n",
    "            X_boundary = self.sample_boundary_points()\n",
    "            \n",
    "            loss, density_loss, vorticity_loss, tpe_loss, initial_n_loss, initial_u_loss, initial_ϵ_loss, boundary_n_loss, boundary_u_loss, boundary_ϵ_loss = self.forward(X_interior, X_initial, X_boundary)\n",
    "            \n",
    "            loss.backward()\n",
    "            \n",
    "            self.optimizer_n.step()\n",
    "            self.optimizer_u.step()\n",
    "            self.optimizer_ϵ.step()\n",
    "                \n",
    "            if loss.isnan():\n",
    "                print(f'Epoch: {self.epoch}, Loss: {loss.item():,.4e}')\n",
    "                print(f\"density_loss: {density_loss.item():.4e}, vorticity_loss: {vorticity_loss.item():.4e}, tpe_loss: {tpe_loss.item():.4e}\")\n",
    "                print(f\"initial_n_loss: {initial_n_loss.item():.4e}, initial_u_loss: {initial_u_loss.item():.4e}, initial_ϵ_loss: {initial_ϵ_loss.item():.4e}\")\n",
    "                print(f\"boundary_n_loss: {boundary_n_loss.item():.4e}, boundary_u_loss: {boundary_u_loss.item():.4e}, boundary_ϵ_loss: {boundary_ϵ_loss.item():.4e}\")\n",
    "                print(\"loss is NaN, stopping training...\")\n",
    "                break\n",
    "            \n",
    "        mlflow.pytorch.log_model(self.model_n, f\"{self.pars['experiment_name']}_model_n_final\")\n",
    "        mlflow.pytorch.log_model(self.model_u, f\"{self.pars['experiment_name']}_model_u_final\")\n",
    "        mlflow.pytorch.log_model(self.model_ϵ, f\"{self.pars['experiment_name']}_model_ϵ_final\")\n",
    "        \n",
    "        self.save_gif()\n",
    "        \n",
    "        mlflow.end_run()\n",
    "    \n",
    "    def plot_outputs(self):\n",
    "        n = self.model_n(torch.hstack((self.eval_t, self.eval_x)))\n",
    "        u = self.model_u(torch.hstack((self.eval_t, self.eval_x)))\n",
    "        ϵ = self.model_ε(torch.hstack((self.eval_t, self.eval_x)))\n",
    "        \n",
    "        n_x = grad(n, self.eval_x, grad_outputs=torch.ones_like(n), retain_graph=True, create_graph=True)[0]\n",
    "        n_t = grad(n, self.eval_t, grad_outputs=torch.ones_like(n), retain_graph=True)[0]\n",
    "        \n",
    "        n_xx = grad(n_x, self.eval_x, grad_outputs=torch.ones_like(n_x), retain_graph=True)[0]\n",
    "        \n",
    "        u_x = grad(u, self.eval_x, grad_outputs=torch.ones_like(u), retain_graph=True, create_graph=True)[0]\n",
    "        u_t = grad(u, self.eval_t, grad_outputs=torch.ones_like(u), retain_graph=True)[0]\n",
    "        \n",
    "        u_xx = grad(u_x, self.eval_x, grad_outputs=torch.ones_like(u_x), retain_graph=True)[0]\n",
    "        \n",
    "        ϵ_x = grad(ϵ, self.eval_x, grad_outputs=torch.ones_like(ϵ), retain_graph=True)[0]\n",
    "        ϵ_t = grad(ϵ, self.eval_t, grad_outputs=torch.ones_like(ϵ), retain_graph=True)[0]\n",
    "        \n",
    "        n = n.view(100, 100).detach().cpu().numpy()\n",
    "        n_x = n_x.view(100, 100).detach().cpu().numpy()\n",
    "        n_t = n_t.view(100, 100).detach().cpu().numpy()\n",
    "        n_xx = n_xx.view(100, 100).detach().cpu().numpy()\n",
    "        \n",
    "        u = u.view(100, 100).detach().cpu().numpy()\n",
    "        u_x = u_x.view(100, 100).detach().cpu().numpy()\n",
    "        u_t = u_t.view(100, 100).detach().cpu().numpy()\n",
    "        u_xx = u_xx.view(100, 100).detach().cpu().numpy()\n",
    "        \n",
    "        ϵ = ϵ.view(100, 100).detach().cpu().numpy()\n",
    "        ϵ_x = ϵ_x.view(100, 100).detach().cpu().numpy()\n",
    "        ϵ_t = ϵ_t.view(100, 100).detach().cpu().numpy()\n",
    "        \n",
    "        if 'n' in self.pars['plot_vars_list']:\n",
    "            self.plot_var(n, 'n')\n",
    "        \n",
    "        if 'n_x' in self.pars['plot_vars_list']:\n",
    "            self.plot_var(n_x, 'n_x')\n",
    "        \n",
    "        if 'n_t' in self.pars['plot_vars_list']:\n",
    "            self.plot_var(n_t, 'n_t')\n",
    "        \n",
    "        if 'n_xx' in self.pars['plot_vars_list']:\n",
    "            self.plot_var(n_xx, 'n_xx')\n",
    "        \n",
    "        if 'u' in self.pars['plot_vars_list']:\n",
    "            self.plot_var(u, 'u')\n",
    "        \n",
    "        if 'u_x' in self.pars['plot_vars_list']:\n",
    "            self.plot_var(u_x, 'u_x')\n",
    "        \n",
    "        if 'u_t' in self.pars['plot_vars_list']:\n",
    "            self.plot_var(u_t, 'u_t')\n",
    "        \n",
    "        if 'u_xx' in self.pars['plot_vars_list']:\n",
    "            self.plot_var(u_xx, 'u_xx')\n",
    "        \n",
    "        if 'ϵ' in self.pars['plot_vars_list']:\n",
    "            self.plot_var(ϵ, 'ϵ')\n",
    "        \n",
    "        if 'ϵ_x' in self.pars['plot_vars_list']:\n",
    "            self.plot_var(ϵ_x, 'ϵ_x')\n",
    "        \n",
    "        if 'ϵ_t' in self.pars['plot_vars_list']:\n",
    "            self.plot_var(ϵ_t, 'ϵ_t')\n",
    "        \n",
    "    def plot_var(self, var, varname):\n",
    "        fig = plt.figure()\n",
    "        ax = fig.add_subplot(111, projection='3d')\n",
    "        ax.plot_surface(self.plot_t, self.plot_x, var, cmap='viridis')\n",
    "        ax.set_xlabel('t')\n",
    "        ax.set_ylabel('x')\n",
    "        ax.set_zlabel(varname)\n",
    "        plt.title(f'Model output {varname}, epoch {self.epoch}')\n",
    "        filename = f\"plots/{self.pars['experiment_name']}/plot_{varname}_epoch_{self.epoch}.png\"\n",
    "        self.plot_files[varname].append(filename)\n",
    "        fig.savefig(filename)\n",
    "        mlflow.log_artifact(filename)\n",
    "        plt.close()\n",
    "        \n",
    "    def save_gif(self):\n",
    "        for varname in self.pars['plot_vars_list']:\n",
    "            gif_filename = f\"plots/{self.pars['experiment_name']}/plot_{varname}.gif\"\n",
    "            with imageio.get_writer(gif_filename, mode='I') as writer:\n",
    "                for filename in self.plot_files[varname]:\n",
    "                    image = imageio.imread(filename)\n",
    "                    writer.append_data(image)\n",
    "                \n",
    "            mlflow.log_artifact(gif_filename)\n",
    "        "
   ]
  },
  {
   "cell_type": "markdown",
   "metadata": {},
   "source": [
    "## Experiments"
   ]
  },
  {
   "cell_type": "code",
   "execution_count": 13,
   "metadata": {},
   "outputs": [],
   "source": [
    "pars = {\n",
    "    'experiment_name': 'separated_pinn_v1',\n",
    "    'layers': 4,\n",
    "    'width': 32,\n",
    "    'lr': 1e-5,\n",
    "    'epochs': 100000,\n",
    "    'eval_interval': 2500,\n",
    "    'interior_batch_size': 2048,\n",
    "    'initial_batch_size': 2048,\n",
    "    'boundary_batch_size': 2048,\n",
    "    'x_min': 0.0,\n",
    "    'x_max': 1.0,\n",
    "    't_min': 0.0,\n",
    "    't_max': 10000,\n",
    "    'device': 'cuda',\n",
    "    'plot_training_outputs': True,\n",
    "    'plot_vars_list': ['n', 'n_t', 'n_x', 'n_xx', 'u', 'u_t', 'u_x', 'u_xx', 'ϵ', 'ϵ_t', 'ϵ_x']\n",
    "}\n",
    "pinn = PINN(pars)\n"
   ]
  },
  {
   "cell_type": "code",
   "execution_count": 14,
   "metadata": {},
   "outputs": [
    {
     "data": {
      "application/vnd.jupyter.widget-view+json": {
       "model_id": "c8e31ab7f32d4bc3bd30546cd56759f6",
       "version_major": 2,
       "version_minor": 0
      },
      "text/plain": [
       "Training...:   0%|          | 0/100000 [00:00<?, ?it/s]"
      ]
     },
     "metadata": {},
     "output_type": "display_data"
    },
    {
     "name": "stdout",
     "output_type": "stream",
     "text": [
      "\n",
      "Epoch: 0, Loss: 2.2455e+06\n",
      "density_loss: 1.6300e-04, vorticity_loss: 1.0832e-03, tpe_loss: 6.6950e+06\n",
      "initial_n_loss: 8.2846e+00, initial_u_loss: 5.3046e-03, initial_ϵ_loss: 2.5869e-02\n",
      "boundary_n_loss: 5.0860e+03, boundary_u_loss: 3.6257e+04, boundary_ϵ_loss: 8.8889e-04\n"
     ]
    },
    {
     "name": "stderr",
     "output_type": "stream",
     "text": [
      "2024/08/25 13:44:33 WARNING mlflow.models.model: Input example should be provided to infer model signature if the model signature is not provided when logging the model.\n",
      "2024/08/25 13:44:35 WARNING mlflow.models.model: Input example should be provided to infer model signature if the model signature is not provided when logging the model.\n",
      "2024/08/25 13:44:37 WARNING mlflow.models.model: Input example should be provided to infer model signature if the model signature is not provided when logging the model.\n"
     ]
    },
    {
     "name": "stdout",
     "output_type": "stream",
     "text": [
      "\n",
      "Epoch: 2500, Loss: 2.1241e+06\n",
      "density_loss: 3.1771e-07, vorticity_loss: 3.6272e-08, tpe_loss: 6.3723e+06\n",
      "initial_n_loss: 6.9498e+00, initial_u_loss: 1.6172e-03, initial_ϵ_loss: 7.2210e-02\n",
      "boundary_n_loss: 8.0012e+00, boundary_u_loss: 6.1242e-04, boundary_ϵ_loss: 6.0562e-04\n"
     ]
    },
    {
     "name": "stderr",
     "output_type": "stream",
     "text": [
      "2024/08/25 13:46:30 WARNING mlflow.models.model: Input example should be provided to infer model signature if the model signature is not provided when logging the model.\n",
      "2024/08/25 13:46:32 WARNING mlflow.models.model: Input example should be provided to infer model signature if the model signature is not provided when logging the model.\n",
      "2024/08/25 13:46:34 WARNING mlflow.models.model: Input example should be provided to infer model signature if the model signature is not provided when logging the model.\n"
     ]
    },
    {
     "name": "stdout",
     "output_type": "stream",
     "text": [
      "\n",
      "Epoch: 5000, Loss: 2.0802e+06\n",
      "density_loss: 3.4234e-07, vorticity_loss: 6.6967e-08, tpe_loss: 6.2405e+06\n",
      "initial_n_loss: 4.0610e+00, initial_u_loss: 1.3301e-03, initial_ϵ_loss: 1.2053e-01\n",
      "boundary_n_loss: 7.8747e+00, boundary_u_loss: 5.1038e-04, boundary_ϵ_loss: 3.8878e-04\n"
     ]
    },
    {
     "name": "stderr",
     "output_type": "stream",
     "text": [
      "2024/08/25 13:48:27 WARNING mlflow.models.model: Input example should be provided to infer model signature if the model signature is not provided when logging the model.\n",
      "2024/08/25 13:48:29 WARNING mlflow.models.model: Input example should be provided to infer model signature if the model signature is not provided when logging the model.\n",
      "2024/08/25 13:48:31 WARNING mlflow.models.model: Input example should be provided to infer model signature if the model signature is not provided when logging the model.\n"
     ]
    },
    {
     "name": "stdout",
     "output_type": "stream",
     "text": [
      "\n",
      "Epoch: 7500, Loss: 2.0386e+06\n",
      "density_loss: 3.6563e-07, vorticity_loss: 2.8919e-08, tpe_loss: 6.1157e+06\n",
      "initial_n_loss: 2.3699e+00, initial_u_loss: 1.4163e-03, initial_ϵ_loss: 1.5777e-01\n",
      "boundary_n_loss: 7.7373e+00, boundary_u_loss: 4.9840e-04, boundary_ϵ_loss: 2.4541e-04\n"
     ]
    },
    {
     "name": "stderr",
     "output_type": "stream",
     "text": [
      "2024/08/25 13:50:08 WARNING mlflow.models.model: Input example should be provided to infer model signature if the model signature is not provided when logging the model.\n",
      "2024/08/25 13:50:10 WARNING mlflow.models.model: Input example should be provided to infer model signature if the model signature is not provided when logging the model.\n",
      "2024/08/25 13:50:12 WARNING mlflow.models.model: Input example should be provided to infer model signature if the model signature is not provided when logging the model.\n"
     ]
    },
    {
     "name": "stdout",
     "output_type": "stream",
     "text": [
      "\n",
      "Epoch: 10000, Loss: 2.0040e+06\n",
      "density_loss: 2.7361e-07, vorticity_loss: 1.4933e-08, tpe_loss: 6.0120e+06\n",
      "initial_n_loss: 2.1235e+00, initial_u_loss: 1.4878e-03, initial_ϵ_loss: 1.6957e-01\n",
      "boundary_n_loss: 7.6315e+00, boundary_u_loss: 2.7765e-04, boundary_ϵ_loss: 1.8222e-04\n"
     ]
    },
    {
     "name": "stderr",
     "output_type": "stream",
     "text": [
      "2024/08/25 13:52:08 WARNING mlflow.models.model: Input example should be provided to infer model signature if the model signature is not provided when logging the model.\n",
      "2024/08/25 13:52:09 WARNING mlflow.models.model: Input example should be provided to infer model signature if the model signature is not provided when logging the model.\n",
      "2024/08/25 13:52:11 WARNING mlflow.models.model: Input example should be provided to infer model signature if the model signature is not provided when logging the model.\n"
     ]
    },
    {
     "name": "stdout",
     "output_type": "stream",
     "text": [
      "\n",
      "Epoch: 12500, Loss: 1.9605e+06\n",
      "density_loss: 3.2295e-07, vorticity_loss: 1.5327e-09, tpe_loss: 5.8816e+06\n",
      "initial_n_loss: 2.1158e+00, initial_u_loss: 1.1384e-03, initial_ϵ_loss: 1.6426e-01\n",
      "boundary_n_loss: 7.5145e+00, boundary_u_loss: 2.7699e-04, boundary_ϵ_loss: 2.0462e-04\n"
     ]
    },
    {
     "name": "stderr",
     "output_type": "stream",
     "text": [
      "2024/08/25 13:53:48 WARNING mlflow.models.model: Input example should be provided to infer model signature if the model signature is not provided when logging the model.\n",
      "2024/08/25 13:53:50 WARNING mlflow.models.model: Input example should be provided to infer model signature if the model signature is not provided when logging the model.\n",
      "2024/08/25 13:53:51 WARNING mlflow.models.model: Input example should be provided to infer model signature if the model signature is not provided when logging the model.\n"
     ]
    },
    {
     "name": "stdout",
     "output_type": "stream",
     "text": [
      "\n",
      "Epoch: 15000, Loss: 1.9224e+06\n",
      "density_loss: 2.7022e-07, vorticity_loss: 1.0560e-09, tpe_loss: 5.7672e+06\n",
      "initial_n_loss: 2.1114e+00, initial_u_loss: 6.5378e-04, initial_ϵ_loss: 1.5339e-01\n",
      "boundary_n_loss: 7.3941e+00, boundary_u_loss: 7.6472e-05, boundary_ϵ_loss: 3.2244e-04\n"
     ]
    },
    {
     "name": "stderr",
     "output_type": "stream",
     "text": [
      "2024/08/25 13:55:41 WARNING mlflow.models.model: Input example should be provided to infer model signature if the model signature is not provided when logging the model.\n",
      "2024/08/25 13:55:43 WARNING mlflow.models.model: Input example should be provided to infer model signature if the model signature is not provided when logging the model.\n",
      "2024/08/25 13:55:45 WARNING mlflow.models.model: Input example should be provided to infer model signature if the model signature is not provided when logging the model.\n"
     ]
    },
    {
     "name": "stdout",
     "output_type": "stream",
     "text": [
      "\n",
      "Epoch: 17500, Loss: 1.8887e+06\n",
      "density_loss: 2.3343e-07, vorticity_loss: 9.0944e-10, tpe_loss: 5.6661e+06\n",
      "initial_n_loss: 2.0935e+00, initial_u_loss: 9.0262e-04, initial_ϵ_loss: 1.4612e-01\n",
      "boundary_n_loss: 7.2793e+00, boundary_u_loss: 7.5418e-05, boundary_ϵ_loss: 5.4707e-04\n"
     ]
    },
    {
     "name": "stderr",
     "output_type": "stream",
     "text": [
      "2024/08/25 13:57:26 WARNING mlflow.models.model: Input example should be provided to infer model signature if the model signature is not provided when logging the model.\n",
      "2024/08/25 13:57:28 WARNING mlflow.models.model: Input example should be provided to infer model signature if the model signature is not provided when logging the model.\n",
      "2024/08/25 13:57:30 WARNING mlflow.models.model: Input example should be provided to infer model signature if the model signature is not provided when logging the model.\n"
     ]
    },
    {
     "name": "stdout",
     "output_type": "stream",
     "text": [
      "\n",
      "Epoch: 20000, Loss: 1.8525e+06\n",
      "density_loss: 2.4922e-07, vorticity_loss: 1.8395e-09, tpe_loss: 5.5574e+06\n",
      "initial_n_loss: 2.0643e+00, initial_u_loss: 1.5540e-03, initial_ϵ_loss: 1.3734e-01\n",
      "boundary_n_loss: 7.1694e+00, boundary_u_loss: 1.3920e-04, boundary_ϵ_loss: 8.7288e-04\n"
     ]
    },
    {
     "name": "stderr",
     "output_type": "stream",
     "text": [
      "2024/08/25 13:59:07 WARNING mlflow.models.model: Input example should be provided to infer model signature if the model signature is not provided when logging the model.\n",
      "2024/08/25 13:59:09 WARNING mlflow.models.model: Input example should be provided to infer model signature if the model signature is not provided when logging the model.\n",
      "2024/08/25 13:59:11 WARNING mlflow.models.model: Input example should be provided to infer model signature if the model signature is not provided when logging the model.\n"
     ]
    },
    {
     "name": "stdout",
     "output_type": "stream",
     "text": [
      "\n",
      "Epoch: 22500, Loss: 1.8156e+06\n",
      "density_loss: 3.0156e-07, vorticity_loss: 3.4905e-09, tpe_loss: 5.4468e+06\n",
      "initial_n_loss: 2.0287e+00, initial_u_loss: 2.6991e-03, initial_ϵ_loss: 1.2882e-01\n",
      "boundary_n_loss: 7.0725e+00, boundary_u_loss: 3.6987e-04, boundary_ϵ_loss: 1.2697e-03\n"
     ]
    },
    {
     "name": "stderr",
     "output_type": "stream",
     "text": [
      "2024/08/25 14:00:48 WARNING mlflow.models.model: Input example should be provided to infer model signature if the model signature is not provided when logging the model.\n",
      "2024/08/25 14:00:50 WARNING mlflow.models.model: Input example should be provided to infer model signature if the model signature is not provided when logging the model.\n",
      "2024/08/25 14:00:52 WARNING mlflow.models.model: Input example should be provided to infer model signature if the model signature is not provided when logging the model.\n"
     ]
    },
    {
     "name": "stdout",
     "output_type": "stream",
     "text": [
      "\n",
      "Epoch: 25000, Loss: 1.7817e+06\n",
      "density_loss: 6.4555e-07, vorticity_loss: 8.0275e-09, tpe_loss: 5.3450e+06\n",
      "initial_n_loss: 1.9859e+00, initial_u_loss: 4.3546e-03, initial_ϵ_loss: 1.1920e-01\n",
      "boundary_n_loss: 6.9747e+00, boundary_u_loss: 5.0132e-04, boundary_ϵ_loss: 1.7182e-03\n"
     ]
    },
    {
     "name": "stderr",
     "output_type": "stream",
     "text": [
      "2024/08/25 14:02:29 WARNING mlflow.models.model: Input example should be provided to infer model signature if the model signature is not provided when logging the model.\n",
      "2024/08/25 14:02:31 WARNING mlflow.models.model: Input example should be provided to infer model signature if the model signature is not provided when logging the model.\n",
      "2024/08/25 14:02:33 WARNING mlflow.models.model: Input example should be provided to infer model signature if the model signature is not provided when logging the model.\n"
     ]
    },
    {
     "name": "stdout",
     "output_type": "stream",
     "text": [
      "\n",
      "Epoch: 27500, Loss: 1.7514e+06\n",
      "density_loss: 8.6134e-07, vorticity_loss: 4.1630e-08, tpe_loss: 5.2542e+06\n",
      "initial_n_loss: 1.9414e+00, initial_u_loss: 6.8588e-03, initial_ϵ_loss: 1.1175e-01\n",
      "boundary_n_loss: 6.8841e+00, boundary_u_loss: 1.1325e-03, boundary_ϵ_loss: 2.2199e-03\n"
     ]
    },
    {
     "name": "stderr",
     "output_type": "stream",
     "text": [
      "2024/08/25 14:04:14 WARNING mlflow.models.model: Input example should be provided to infer model signature if the model signature is not provided when logging the model.\n",
      "2024/08/25 14:04:16 WARNING mlflow.models.model: Input example should be provided to infer model signature if the model signature is not provided when logging the model.\n",
      "2024/08/25 14:04:18 WARNING mlflow.models.model: Input example should be provided to infer model signature if the model signature is not provided when logging the model.\n"
     ]
    },
    {
     "name": "stdout",
     "output_type": "stream",
     "text": [
      "\n",
      "Epoch: 30000, Loss: 1.7167e+06\n",
      "density_loss: 9.7741e-07, vorticity_loss: 5.0543e-08, tpe_loss: 5.1501e+06\n",
      "initial_n_loss: 1.8941e+00, initial_u_loss: 1.0113e-02, initial_ϵ_loss: 1.0571e-01\n",
      "boundary_n_loss: 6.8099e+00, boundary_u_loss: 2.1924e-03, boundary_ϵ_loss: 2.7355e-03\n"
     ]
    },
    {
     "name": "stderr",
     "output_type": "stream",
     "text": [
      "2024/08/25 14:05:58 WARNING mlflow.models.model: Input example should be provided to infer model signature if the model signature is not provided when logging the model.\n",
      "2024/08/25 14:06:00 WARNING mlflow.models.model: Input example should be provided to infer model signature if the model signature is not provided when logging the model.\n",
      "2024/08/25 14:06:02 WARNING mlflow.models.model: Input example should be provided to infer model signature if the model signature is not provided when logging the model.\n"
     ]
    },
    {
     "name": "stdout",
     "output_type": "stream",
     "text": [
      "\n",
      "Epoch: 32500, Loss: 1.6894e+06\n",
      "density_loss: 1.1395e-06, vorticity_loss: 5.8693e-08, tpe_loss: 5.0683e+06\n",
      "initial_n_loss: 1.8415e+00, initial_u_loss: 1.4421e-02, initial_ϵ_loss: 1.0415e-01\n",
      "boundary_n_loss: 6.7433e+00, boundary_u_loss: 1.8177e-03, boundary_ϵ_loss: 3.3323e-03\n"
     ]
    },
    {
     "name": "stderr",
     "output_type": "stream",
     "text": [
      "2024/08/25 14:07:46 WARNING mlflow.models.model: Input example should be provided to infer model signature if the model signature is not provided when logging the model.\n",
      "2024/08/25 14:07:48 WARNING mlflow.models.model: Input example should be provided to infer model signature if the model signature is not provided when logging the model.\n",
      "2024/08/25 14:07:50 WARNING mlflow.models.model: Input example should be provided to infer model signature if the model signature is not provided when logging the model.\n"
     ]
    },
    {
     "name": "stdout",
     "output_type": "stream",
     "text": [
      "\n",
      "Epoch: 35000, Loss: 1.6751e+06\n",
      "density_loss: 1.2136e-06, vorticity_loss: 5.0933e-08, tpe_loss: 5.0252e+06\n",
      "initial_n_loss: 1.7839e+00, initial_u_loss: 1.9583e-02, initial_ϵ_loss: 1.0607e-01\n",
      "boundary_n_loss: 6.6973e+00, boundary_u_loss: 2.6576e-03, boundary_ϵ_loss: 4.0113e-03\n"
     ]
    },
    {
     "name": "stderr",
     "output_type": "stream",
     "text": [
      "2024/08/25 14:09:31 WARNING mlflow.models.model: Input example should be provided to infer model signature if the model signature is not provided when logging the model.\n",
      "2024/08/25 14:09:33 WARNING mlflow.models.model: Input example should be provided to infer model signature if the model signature is not provided when logging the model.\n",
      "2024/08/25 14:09:35 WARNING mlflow.models.model: Input example should be provided to infer model signature if the model signature is not provided when logging the model.\n"
     ]
    },
    {
     "name": "stdout",
     "output_type": "stream",
     "text": [
      "\n",
      "Epoch: 37500, Loss: 1.6266e+06\n",
      "density_loss: 1.5840e-06, vorticity_loss: 6.2205e-08, tpe_loss: 4.8798e+06\n",
      "initial_n_loss: 1.7312e+00, initial_u_loss: 2.6524e-02, initial_ϵ_loss: 1.1071e-01\n",
      "boundary_n_loss: 6.6393e+00, boundary_u_loss: 2.7451e-03, boundary_ϵ_loss: 4.8062e-03\n"
     ]
    },
    {
     "name": "stderr",
     "output_type": "stream",
     "text": [
      "2024/08/25 14:11:10 WARNING mlflow.models.model: Input example should be provided to infer model signature if the model signature is not provided when logging the model.\n",
      "2024/08/25 14:11:12 WARNING mlflow.models.model: Input example should be provided to infer model signature if the model signature is not provided when logging the model.\n",
      "2024/08/25 14:11:14 WARNING mlflow.models.model: Input example should be provided to infer model signature if the model signature is not provided when logging the model.\n"
     ]
    },
    {
     "name": "stdout",
     "output_type": "stream",
     "text": [
      "\n",
      "Epoch: 40000, Loss: 1.6006e+06\n",
      "density_loss: 1.5530e-06, vorticity_loss: 3.8315e-09, tpe_loss: 4.8018e+06\n",
      "initial_n_loss: 1.6745e+00, initial_u_loss: 3.3100e-02, initial_ϵ_loss: 1.1633e-01\n",
      "boundary_n_loss: 6.5959e+00, boundary_u_loss: 3.1670e-03, boundary_ϵ_loss: 5.7353e-03\n"
     ]
    },
    {
     "name": "stderr",
     "output_type": "stream",
     "text": [
      "2024/08/25 14:12:55 WARNING mlflow.models.model: Input example should be provided to infer model signature if the model signature is not provided when logging the model.\n",
      "2024/08/25 14:12:57 WARNING mlflow.models.model: Input example should be provided to infer model signature if the model signature is not provided when logging the model.\n",
      "2024/08/25 14:12:59 WARNING mlflow.models.model: Input example should be provided to infer model signature if the model signature is not provided when logging the model.\n"
     ]
    },
    {
     "name": "stdout",
     "output_type": "stream",
     "text": [
      "\n",
      "Epoch: 42500, Loss: 1.5695e+06\n",
      "density_loss: 1.5614e-06, vorticity_loss: 1.0274e-08, tpe_loss: 4.7085e+06\n",
      "initial_n_loss: 1.6233e+00, initial_u_loss: 4.0592e-02, initial_ϵ_loss: 1.2120e-01\n",
      "boundary_n_loss: 6.5681e+00, boundary_u_loss: 3.7018e-03, boundary_ϵ_loss: 6.7970e-03\n"
     ]
    },
    {
     "name": "stderr",
     "output_type": "stream",
     "text": [
      "2024/08/25 14:14:34 WARNING mlflow.models.model: Input example should be provided to infer model signature if the model signature is not provided when logging the model.\n",
      "2024/08/25 14:14:36 WARNING mlflow.models.model: Input example should be provided to infer model signature if the model signature is not provided when logging the model.\n",
      "2024/08/25 14:14:38 WARNING mlflow.models.model: Input example should be provided to infer model signature if the model signature is not provided when logging the model.\n"
     ]
    },
    {
     "name": "stdout",
     "output_type": "stream",
     "text": [
      "\n",
      "Epoch: 45000, Loss: 1.5447e+06\n",
      "density_loss: 1.6623e-06, vorticity_loss: 1.5632e-08, tpe_loss: 4.6340e+06\n",
      "initial_n_loss: 1.5737e+00, initial_u_loss: 5.0193e-02, initial_ϵ_loss: 1.2443e-01\n",
      "boundary_n_loss: 6.5453e+00, boundary_u_loss: 4.5335e-03, boundary_ϵ_loss: 8.0179e-03\n"
     ]
    },
    {
     "name": "stderr",
     "output_type": "stream",
     "text": [
      "2024/08/25 14:16:11 WARNING mlflow.models.model: Input example should be provided to infer model signature if the model signature is not provided when logging the model.\n",
      "2024/08/25 14:16:13 WARNING mlflow.models.model: Input example should be provided to infer model signature if the model signature is not provided when logging the model.\n",
      "2024/08/25 14:16:15 WARNING mlflow.models.model: Input example should be provided to infer model signature if the model signature is not provided when logging the model.\n"
     ]
    },
    {
     "name": "stdout",
     "output_type": "stream",
     "text": [
      "\n",
      "Epoch: 47500, Loss: 1.5172e+06\n",
      "density_loss: 1.5238e-06, vorticity_loss: 3.7815e-09, tpe_loss: 4.5516e+06\n",
      "initial_n_loss: 1.5218e+00, initial_u_loss: 6.0790e-02, initial_ϵ_loss: 1.2626e-01\n",
      "boundary_n_loss: 6.5227e+00, boundary_u_loss: 4.8302e-03, boundary_ϵ_loss: 9.3372e-03\n"
     ]
    },
    {
     "name": "stderr",
     "output_type": "stream",
     "text": [
      "2024/08/25 14:17:51 WARNING mlflow.models.model: Input example should be provided to infer model signature if the model signature is not provided when logging the model.\n",
      "2024/08/25 14:17:53 WARNING mlflow.models.model: Input example should be provided to infer model signature if the model signature is not provided when logging the model.\n",
      "2024/08/25 14:17:55 WARNING mlflow.models.model: Input example should be provided to infer model signature if the model signature is not provided when logging the model.\n"
     ]
    },
    {
     "name": "stdout",
     "output_type": "stream",
     "text": [
      "\n",
      "Epoch: 50000, Loss: 1.4956e+06\n",
      "density_loss: 1.5751e-06, vorticity_loss: 6.2019e-09, tpe_loss: 4.4869e+06\n",
      "initial_n_loss: 1.4589e+00, initial_u_loss: 7.1693e-02, initial_ϵ_loss: 1.3491e-01\n",
      "boundary_n_loss: 6.5090e+00, boundary_u_loss: 5.5125e-03, boundary_ϵ_loss: 1.0879e-02\n"
     ]
    },
    {
     "name": "stderr",
     "output_type": "stream",
     "text": [
      "2024/08/25 14:19:30 WARNING mlflow.models.model: Input example should be provided to infer model signature if the model signature is not provided when logging the model.\n",
      "2024/08/25 14:19:32 WARNING mlflow.models.model: Input example should be provided to infer model signature if the model signature is not provided when logging the model.\n",
      "2024/08/25 14:19:34 WARNING mlflow.models.model: Input example should be provided to infer model signature if the model signature is not provided when logging the model.\n"
     ]
    },
    {
     "name": "stdout",
     "output_type": "stream",
     "text": [
      "\n",
      "Epoch: 52500, Loss: 1.4685e+06\n",
      "density_loss: 1.6786e-06, vorticity_loss: 6.1545e-09, tpe_loss: 4.4055e+06\n",
      "initial_n_loss: 1.4079e+00, initial_u_loss: 8.4950e-02, initial_ϵ_loss: 1.3772e-01\n",
      "boundary_n_loss: 6.5042e+00, boundary_u_loss: 6.3433e-03, boundary_ϵ_loss: 1.2690e-02\n"
     ]
    },
    {
     "name": "stderr",
     "output_type": "stream",
     "text": [
      "2024/08/25 14:21:09 WARNING mlflow.models.model: Input example should be provided to infer model signature if the model signature is not provided when logging the model.\n",
      "2024/08/25 14:21:11 WARNING mlflow.models.model: Input example should be provided to infer model signature if the model signature is not provided when logging the model.\n",
      "2024/08/25 14:21:13 WARNING mlflow.models.model: Input example should be provided to infer model signature if the model signature is not provided when logging the model.\n"
     ]
    },
    {
     "name": "stdout",
     "output_type": "stream",
     "text": [
      "\n",
      "Epoch: 55000, Loss: 1.4499e+06\n",
      "density_loss: 1.5048e-06, vorticity_loss: 4.0496e-09, tpe_loss: 4.3497e+06\n",
      "initial_n_loss: 1.3447e+00, initial_u_loss: 9.9108e-02, initial_ϵ_loss: 1.3555e-01\n",
      "boundary_n_loss: 6.5001e+00, boundary_u_loss: 7.1609e-03, boundary_ϵ_loss: 1.4746e-02\n"
     ]
    },
    {
     "name": "stderr",
     "output_type": "stream",
     "text": [
      "2024/08/25 14:22:51 WARNING mlflow.models.model: Input example should be provided to infer model signature if the model signature is not provided when logging the model.\n",
      "2024/08/25 14:22:53 WARNING mlflow.models.model: Input example should be provided to infer model signature if the model signature is not provided when logging the model.\n",
      "2024/08/25 14:22:54 WARNING mlflow.models.model: Input example should be provided to infer model signature if the model signature is not provided when logging the model.\n"
     ]
    },
    {
     "name": "stdout",
     "output_type": "stream",
     "text": [
      "\n",
      "Epoch: 57500, Loss: 1.4208e+06\n",
      "density_loss: 1.4004e-06, vorticity_loss: 4.7944e-09, tpe_loss: 4.2623e+06\n",
      "initial_n_loss: 1.2909e+00, initial_u_loss: 1.1637e-01, initial_ϵ_loss: 1.2976e-01\n",
      "boundary_n_loss: 6.4820e+00, boundary_u_loss: 8.1736e-03, boundary_ϵ_loss: 1.6728e-02\n"
     ]
    },
    {
     "name": "stderr",
     "output_type": "stream",
     "text": [
      "2024/08/25 14:24:35 WARNING mlflow.models.model: Input example should be provided to infer model signature if the model signature is not provided when logging the model.\n",
      "2024/08/25 14:24:37 WARNING mlflow.models.model: Input example should be provided to infer model signature if the model signature is not provided when logging the model.\n",
      "2024/08/25 14:24:40 WARNING mlflow.models.model: Input example should be provided to infer model signature if the model signature is not provided when logging the model.\n"
     ]
    },
    {
     "name": "stdout",
     "output_type": "stream",
     "text": [
      "\n",
      "Epoch: 60000, Loss: 1.4012e+06\n",
      "density_loss: 1.3286e-06, vorticity_loss: 5.9939e-09, tpe_loss: 4.2037e+06\n",
      "initial_n_loss: 1.2307e+00, initial_u_loss: 1.3362e-01, initial_ϵ_loss: 1.2315e-01\n",
      "boundary_n_loss: 6.4983e+00, boundary_u_loss: 9.2275e-03, boundary_ϵ_loss: 1.9341e-02\n"
     ]
    },
    {
     "name": "stderr",
     "output_type": "stream",
     "text": [
      "2024/08/25 14:26:22 WARNING mlflow.models.model: Input example should be provided to infer model signature if the model signature is not provided when logging the model.\n",
      "2024/08/25 14:26:24 WARNING mlflow.models.model: Input example should be provided to infer model signature if the model signature is not provided when logging the model.\n",
      "2024/08/25 14:26:26 WARNING mlflow.models.model: Input example should be provided to infer model signature if the model signature is not provided when logging the model.\n"
     ]
    },
    {
     "name": "stdout",
     "output_type": "stream",
     "text": [
      "\n",
      "Epoch: 62500, Loss: 1.3766e+06\n",
      "density_loss: 1.3990e-06, vorticity_loss: 6.7642e-09, tpe_loss: 4.1297e+06\n",
      "initial_n_loss: 1.1720e+00, initial_u_loss: 1.5559e-01, initial_ϵ_loss: 1.1612e-01\n",
      "boundary_n_loss: 6.4686e+00, boundary_u_loss: 1.0655e-02, boundary_ϵ_loss: 2.1589e-02\n"
     ]
    },
    {
     "name": "stderr",
     "output_type": "stream",
     "text": [
      "2024/08/25 14:28:11 WARNING mlflow.models.model: Input example should be provided to infer model signature if the model signature is not provided when logging the model.\n",
      "2024/08/25 14:28:14 WARNING mlflow.models.model: Input example should be provided to infer model signature if the model signature is not provided when logging the model.\n",
      "2024/08/25 14:28:16 WARNING mlflow.models.model: Input example should be provided to infer model signature if the model signature is not provided when logging the model.\n"
     ]
    },
    {
     "name": "stdout",
     "output_type": "stream",
     "text": [
      "\n",
      "Epoch: 65000, Loss: 1.3621e+06\n",
      "density_loss: 1.3154e-06, vorticity_loss: 6.7589e-09, tpe_loss: 4.0863e+06\n",
      "initial_n_loss: 1.1088e+00, initial_u_loss: 1.7359e-01, initial_ϵ_loss: 1.0768e-01\n",
      "boundary_n_loss: 6.4633e+00, boundary_u_loss: 1.1349e-02, boundary_ϵ_loss: 2.4207e-02\n"
     ]
    },
    {
     "name": "stderr",
     "output_type": "stream",
     "text": [
      "2024/08/25 14:29:59 WARNING mlflow.models.model: Input example should be provided to infer model signature if the model signature is not provided when logging the model.\n",
      "2024/08/25 14:30:01 WARNING mlflow.models.model: Input example should be provided to infer model signature if the model signature is not provided when logging the model.\n",
      "2024/08/25 14:30:03 WARNING mlflow.models.model: Input example should be provided to infer model signature if the model signature is not provided when logging the model.\n"
     ]
    },
    {
     "name": "stdout",
     "output_type": "stream",
     "text": [
      "\n",
      "Epoch: 67500, Loss: 1.3465e+06\n",
      "density_loss: 1.2426e-06, vorticity_loss: 7.8107e-09, tpe_loss: 4.0395e+06\n",
      "initial_n_loss: 1.0536e+00, initial_u_loss: 1.9830e-01, initial_ϵ_loss: 9.9003e-02\n",
      "boundary_n_loss: 6.4587e+00, boundary_u_loss: 1.2284e-02, boundary_ϵ_loss: 2.7101e-02\n"
     ]
    },
    {
     "name": "stderr",
     "output_type": "stream",
     "text": [
      "2024/08/25 14:31:47 WARNING mlflow.models.model: Input example should be provided to infer model signature if the model signature is not provided when logging the model.\n",
      "2024/08/25 14:31:49 WARNING mlflow.models.model: Input example should be provided to infer model signature if the model signature is not provided when logging the model.\n",
      "2024/08/25 14:31:51 WARNING mlflow.models.model: Input example should be provided to infer model signature if the model signature is not provided when logging the model.\n"
     ]
    },
    {
     "name": "stdout",
     "output_type": "stream",
     "text": [
      "\n",
      "Epoch: 70000, Loss: 1.3157e+06\n",
      "density_loss: 7.0964e-07, vorticity_loss: 4.9630e-09, tpe_loss: 3.9470e+06\n",
      "initial_n_loss: 9.9594e-01, initial_u_loss: 2.2215e-01, initial_ϵ_loss: 9.0265e-02\n",
      "boundary_n_loss: 6.4564e+00, boundary_u_loss: 1.6533e-02, boundary_ϵ_loss: 3.0292e-02\n"
     ]
    },
    {
     "name": "stderr",
     "output_type": "stream",
     "text": [
      "2024/08/25 14:33:31 WARNING mlflow.models.model: Input example should be provided to infer model signature if the model signature is not provided when logging the model.\n",
      "2024/08/25 14:33:33 WARNING mlflow.models.model: Input example should be provided to infer model signature if the model signature is not provided when logging the model.\n",
      "2024/08/25 14:33:35 WARNING mlflow.models.model: Input example should be provided to infer model signature if the model signature is not provided when logging the model.\n"
     ]
    },
    {
     "name": "stdout",
     "output_type": "stream",
     "text": [
      "\n",
      "Epoch: 72500, Loss: 1.3006e+06\n",
      "density_loss: 8.4360e-07, vorticity_loss: 4.9149e-09, tpe_loss: 3.9018e+06\n",
      "initial_n_loss: 9.4736e-01, initial_u_loss: 2.4378e-01, initial_ϵ_loss: 8.1582e-02\n",
      "boundary_n_loss: 6.4513e+00, boundary_u_loss: 1.6695e-02, boundary_ϵ_loss: 3.3752e-02\n"
     ]
    },
    {
     "name": "stderr",
     "output_type": "stream",
     "text": [
      "2024/08/25 14:35:09 WARNING mlflow.models.model: Input example should be provided to infer model signature if the model signature is not provided when logging the model.\n",
      "2024/08/25 14:35:11 WARNING mlflow.models.model: Input example should be provided to infer model signature if the model signature is not provided when logging the model.\n",
      "2024/08/25 14:35:13 WARNING mlflow.models.model: Input example should be provided to infer model signature if the model signature is not provided when logging the model.\n"
     ]
    },
    {
     "name": "stdout",
     "output_type": "stream",
     "text": [
      "\n",
      "Epoch: 75000, Loss: 1.2803e+06\n",
      "density_loss: 1.0807e-06, vorticity_loss: 8.3171e-09, tpe_loss: 3.8409e+06\n",
      "initial_n_loss: 8.9607e-01, initial_u_loss: 2.6741e-01, initial_ϵ_loss: 7.2796e-02\n",
      "boundary_n_loss: 6.4448e+00, boundary_u_loss: 1.7049e-02, boundary_ϵ_loss: 3.7325e-02\n"
     ]
    },
    {
     "name": "stderr",
     "output_type": "stream",
     "text": [
      "2024/08/25 14:36:46 WARNING mlflow.models.model: Input example should be provided to infer model signature if the model signature is not provided when logging the model.\n",
      "2024/08/25 14:36:48 WARNING mlflow.models.model: Input example should be provided to infer model signature if the model signature is not provided when logging the model.\n",
      "2024/08/25 14:36:50 WARNING mlflow.models.model: Input example should be provided to infer model signature if the model signature is not provided when logging the model.\n"
     ]
    },
    {
     "name": "stdout",
     "output_type": "stream",
     "text": [
      "\n",
      "Epoch: 77500, Loss: 1.2602e+06\n",
      "density_loss: 1.0707e-06, vorticity_loss: 9.5435e-09, tpe_loss: 3.7805e+06\n",
      "initial_n_loss: 8.3975e-01, initial_u_loss: 2.8650e-01, initial_ϵ_loss: 6.5158e-02\n",
      "boundary_n_loss: 6.4614e+00, boundary_u_loss: 1.7230e-02, boundary_ϵ_loss: 4.0591e-02\n"
     ]
    },
    {
     "name": "stderr",
     "output_type": "stream",
     "text": [
      "2024/08/25 14:38:25 WARNING mlflow.models.model: Input example should be provided to infer model signature if the model signature is not provided when logging the model.\n",
      "2024/08/25 14:38:27 WARNING mlflow.models.model: Input example should be provided to infer model signature if the model signature is not provided when logging the model.\n",
      "2024/08/25 14:38:29 WARNING mlflow.models.model: Input example should be provided to infer model signature if the model signature is not provided when logging the model.\n"
     ]
    },
    {
     "name": "stdout",
     "output_type": "stream",
     "text": [
      "\n",
      "Epoch: 80000, Loss: 1.2379e+06\n",
      "density_loss: 1.1856e-06, vorticity_loss: 1.3103e-08, tpe_loss: 3.7137e+06\n",
      "initial_n_loss: 8.0000e-01, initial_u_loss: 3.1123e-01, initial_ϵ_loss: 5.6600e-02\n",
      "boundary_n_loss: 6.4395e+00, boundary_u_loss: 1.7837e-02, boundary_ϵ_loss: 4.4462e-02\n"
     ]
    },
    {
     "name": "stderr",
     "output_type": "stream",
     "text": [
      "2024/08/25 14:40:01 WARNING mlflow.models.model: Input example should be provided to infer model signature if the model signature is not provided when logging the model.\n",
      "2024/08/25 14:40:03 WARNING mlflow.models.model: Input example should be provided to infer model signature if the model signature is not provided when logging the model.\n",
      "2024/08/25 14:40:05 WARNING mlflow.models.model: Input example should be provided to infer model signature if the model signature is not provided when logging the model.\n"
     ]
    },
    {
     "name": "stdout",
     "output_type": "stream",
     "text": [
      "\n",
      "Epoch: 82500, Loss: 1.2189e+06\n",
      "density_loss: 1.5113e-06, vorticity_loss: 1.5642e-08, tpe_loss: 3.6567e+06\n",
      "initial_n_loss: 7.6591e-01, initial_u_loss: 3.3577e-01, initial_ϵ_loss: 4.8686e-02\n",
      "boundary_n_loss: 6.4314e+00, boundary_u_loss: 1.7909e-02, boundary_ϵ_loss: 4.8835e-02\n"
     ]
    },
    {
     "name": "stderr",
     "output_type": "stream",
     "text": [
      "2024/08/25 14:41:41 WARNING mlflow.models.model: Input example should be provided to infer model signature if the model signature is not provided when logging the model.\n",
      "2024/08/25 14:41:43 WARNING mlflow.models.model: Input example should be provided to infer model signature if the model signature is not provided when logging the model.\n",
      "2024/08/25 14:41:45 WARNING mlflow.models.model: Input example should be provided to infer model signature if the model signature is not provided when logging the model.\n"
     ]
    },
    {
     "name": "stdout",
     "output_type": "stream",
     "text": [
      "\n",
      "Epoch: 85000, Loss: 1.2016e+06\n",
      "density_loss: 1.4093e-06, vorticity_loss: 1.8183e-08, tpe_loss: 3.6048e+06\n",
      "initial_n_loss: 7.1689e-01, initial_u_loss: 3.4225e-01, initial_ϵ_loss: 4.2490e-02\n",
      "boundary_n_loss: 6.4323e+00, boundary_u_loss: 1.7618e-02, boundary_ϵ_loss: 5.3583e-02\n"
     ]
    },
    {
     "name": "stderr",
     "output_type": "stream",
     "text": [
      "2024/08/25 14:43:19 WARNING mlflow.models.model: Input example should be provided to infer model signature if the model signature is not provided when logging the model.\n",
      "2024/08/25 14:43:21 WARNING mlflow.models.model: Input example should be provided to infer model signature if the model signature is not provided when logging the model.\n",
      "2024/08/25 14:43:23 WARNING mlflow.models.model: Input example should be provided to infer model signature if the model signature is not provided when logging the model.\n"
     ]
    },
    {
     "name": "stdout",
     "output_type": "stream",
     "text": [
      "\n",
      "Epoch: 87500, Loss: 1.1873e+06\n",
      "density_loss: 1.4264e-06, vorticity_loss: 2.3558e-08, tpe_loss: 3.5618e+06\n",
      "initial_n_loss: 6.8648e-01, initial_u_loss: 3.5945e-01, initial_ϵ_loss: 3.5946e-02\n",
      "boundary_n_loss: 6.4406e+00, boundary_u_loss: 1.7067e-02, boundary_ϵ_loss: 5.9223e-02\n"
     ]
    },
    {
     "name": "stderr",
     "output_type": "stream",
     "text": [
      "2024/08/25 14:44:59 WARNING mlflow.models.model: Input example should be provided to infer model signature if the model signature is not provided when logging the model.\n",
      "2024/08/25 14:45:02 WARNING mlflow.models.model: Input example should be provided to infer model signature if the model signature is not provided when logging the model.\n",
      "2024/08/25 14:45:04 WARNING mlflow.models.model: Input example should be provided to infer model signature if the model signature is not provided when logging the model.\n"
     ]
    },
    {
     "name": "stdout",
     "output_type": "stream",
     "text": [
      "\n",
      "Epoch: 90000, Loss: 1.1799e+06\n",
      "density_loss: 1.2610e-06, vorticity_loss: 2.3935e-08, tpe_loss: 3.5397e+06\n",
      "initial_n_loss: 6.5410e-01, initial_u_loss: 3.7200e-01, initial_ϵ_loss: 3.0590e-02\n",
      "boundary_n_loss: 6.4214e+00, boundary_u_loss: 1.6516e-02, boundary_ϵ_loss: 6.4610e-02\n"
     ]
    },
    {
     "name": "stderr",
     "output_type": "stream",
     "text": [
      "2024/08/25 14:46:41 WARNING mlflow.models.model: Input example should be provided to infer model signature if the model signature is not provided when logging the model.\n",
      "2024/08/25 14:46:43 WARNING mlflow.models.model: Input example should be provided to infer model signature if the model signature is not provided when logging the model.\n",
      "2024/08/25 14:46:45 WARNING mlflow.models.model: Input example should be provided to infer model signature if the model signature is not provided when logging the model.\n"
     ]
    },
    {
     "name": "stdout",
     "output_type": "stream",
     "text": [
      "\n",
      "Epoch: 92500, Loss: 1.1616e+06\n",
      "density_loss: 1.0593e-06, vorticity_loss: 2.8785e-08, tpe_loss: 3.4847e+06\n",
      "initial_n_loss: 6.2408e-01, initial_u_loss: 3.8067e-01, initial_ϵ_loss: 2.5774e-02\n",
      "boundary_n_loss: 6.4194e+00, boundary_u_loss: 1.5667e-02, boundary_ϵ_loss: 7.0413e-02\n"
     ]
    },
    {
     "name": "stderr",
     "output_type": "stream",
     "text": [
      "2024/08/25 14:48:24 WARNING mlflow.models.model: Input example should be provided to infer model signature if the model signature is not provided when logging the model.\n",
      "2024/08/25 14:48:26 WARNING mlflow.models.model: Input example should be provided to infer model signature if the model signature is not provided when logging the model.\n",
      "2024/08/25 14:48:28 WARNING mlflow.models.model: Input example should be provided to infer model signature if the model signature is not provided when logging the model.\n"
     ]
    },
    {
     "name": "stdout",
     "output_type": "stream",
     "text": [
      "\n",
      "Epoch: 95000, Loss: 1.1416e+06\n",
      "density_loss: 1.0911e-06, vorticity_loss: 3.0474e-08, tpe_loss: 3.4247e+06\n",
      "initial_n_loss: 5.8414e-01, initial_u_loss: 3.7714e-01, initial_ϵ_loss: 2.1886e-02\n",
      "boundary_n_loss: 6.4527e+00, boundary_u_loss: 1.4936e-02, boundary_ϵ_loss: 7.5030e-02\n"
     ]
    },
    {
     "name": "stderr",
     "output_type": "stream",
     "text": [
      "2024/08/25 14:50:13 WARNING mlflow.models.model: Input example should be provided to infer model signature if the model signature is not provided when logging the model.\n",
      "2024/08/25 14:50:15 WARNING mlflow.models.model: Input example should be provided to infer model signature if the model signature is not provided when logging the model.\n",
      "2024/08/25 14:50:17 WARNING mlflow.models.model: Input example should be provided to infer model signature if the model signature is not provided when logging the model.\n"
     ]
    },
    {
     "name": "stdout",
     "output_type": "stream",
     "text": [
      "\n",
      "Epoch: 97500, Loss: 1.1250e+06\n",
      "density_loss: 1.1683e-06, vorticity_loss: 3.3920e-08, tpe_loss: 3.3751e+06\n",
      "initial_n_loss: 5.5348e-01, initial_u_loss: 3.7846e-01, initial_ϵ_loss: 1.8161e-02\n",
      "boundary_n_loss: 6.4157e+00, boundary_u_loss: 1.4738e-02, boundary_ϵ_loss: 8.3066e-02\n"
     ]
    },
    {
     "name": "stderr",
     "output_type": "stream",
     "text": [
      "2024/08/25 14:51:53 WARNING mlflow.models.model: Input example should be provided to infer model signature if the model signature is not provided when logging the model.\n",
      "2024/08/25 14:51:55 WARNING mlflow.models.model: Input example should be provided to infer model signature if the model signature is not provided when logging the model.\n",
      "2024/08/25 14:51:57 WARNING mlflow.models.model: Input example should be provided to infer model signature if the model signature is not provided when logging the model.\n"
     ]
    },
    {
     "name": "stdout",
     "output_type": "stream",
     "text": [
      "\n",
      "Epoch: 99999, Loss: 1.1119e+06\n",
      "density_loss: 1.2786e-06, vorticity_loss: 3.2981e-08, tpe_loss: 3.3357e+06\n",
      "initial_n_loss: 5.1859e-01, initial_u_loss: 3.7473e-01, initial_ϵ_loss: 1.4475e-02\n",
      "boundary_n_loss: 6.4070e+00, boundary_u_loss: 1.4278e-02, boundary_ϵ_loss: 8.9572e-02\n"
     ]
    },
    {
     "name": "stderr",
     "output_type": "stream",
     "text": [
      "2024/08/25 14:53:33 WARNING mlflow.models.model: Input example should be provided to infer model signature if the model signature is not provided when logging the model.\n",
      "2024/08/25 14:53:35 WARNING mlflow.models.model: Input example should be provided to infer model signature if the model signature is not provided when logging the model.\n",
      "2024/08/25 14:53:37 WARNING mlflow.models.model: Input example should be provided to infer model signature if the model signature is not provided when logging the model.\n",
      "2024/08/25 14:53:41 WARNING mlflow.models.model: Input example should be provided to infer model signature if the model signature is not provided when logging the model.\n",
      "2024/08/25 14:53:43 WARNING mlflow.models.model: Input example should be provided to infer model signature if the model signature is not provided when logging the model.\n",
      "2024/08/25 14:53:45 WARNING mlflow.models.model: Input example should be provided to infer model signature if the model signature is not provided when logging the model.\n"
     ]
    }
   ],
   "source": [
    "pinn.train()"
   ]
  },
  {
   "cell_type": "code",
   "execution_count": null,
   "metadata": {},
   "outputs": [],
   "source": []
  },
  {
   "cell_type": "markdown",
   "metadata": {},
   "source": [
    "## Debug"
   ]
  }
 ],
 "metadata": {
  "kernelspec": {
   "display_name": "pdenn",
   "language": "python",
   "name": "python3"
  },
  "language_info": {
   "codemirror_mode": {
    "name": "ipython",
    "version": 3
   },
   "file_extension": ".py",
   "mimetype": "text/x-python",
   "name": "python",
   "nbconvert_exporter": "python",
   "pygments_lexer": "ipython3",
   "version": "3.12.5"
  }
 },
 "nbformat": 4,
 "nbformat_minor": 2
}
