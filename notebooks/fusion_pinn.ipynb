{
 "cells": [
  {
   "cell_type": "markdown",
   "metadata": {},
   "source": [
    "# PINN Implementation of Ashourvan & Diamond Paper"
   ]
  },
  {
   "cell_type": "code",
   "execution_count": 1,
   "metadata": {},
   "outputs": [],
   "source": [
    "import numpy as np\n",
    "import torch\n",
    "import torch.nn as nn\n",
    "from torch.autograd import grad\n",
    "\n",
    "import mlflow\n",
    "import mlflow.pytorch\n",
    "\n",
    "from tqdm.notebook import tqdm\n",
    "\n",
    "import imageio.v2 as imageio\n",
    "import matplotlib.pyplot as plt\n",
    "from mpl_toolkits.mplot3d import Axes3D\n",
    "\n",
    "import os"
   ]
  },
  {
   "cell_type": "markdown",
   "metadata": {},
   "source": [
    "## Define Parameters"
   ]
  },
  {
   "cell_type": "code",
   "execution_count": 2,
   "metadata": {},
   "outputs": [],
   "source": [
    "l = 1.0     # not provided by paper, need to check relation with Λ \n",
    "α = 6.0\n",
    "D_c = 0.78\n",
    "C_χ = 0.95\n",
    "a_u = 1.0\n",
    "μ_c = 0.78\n",
    "β = 0.1\n",
    "Λ = 4000.0\n",
    "ϵ_c = 6.25"
   ]
  },
  {
   "cell_type": "code",
   "execution_count": 3,
   "metadata": {},
   "outputs": [],
   "source": [
    "g_i = 5.1\n",
    "ϵ_i = 0.002"
   ]
  },
  {
   "cell_type": "code",
   "execution_count": 4,
   "metadata": {},
   "outputs": [],
   "source": [
    "physical_params = {\n",
    "    'l': l,\n",
    "    'α': α,\n",
    "    'D_c': D_c,\n",
    "    'C_χ': C_χ,\n",
    "    'a_u': a_u,\n",
    "    'μ_c': μ_c,\n",
    "    'β': β,\n",
    "    'Λ': Λ,\n",
    "    'ϵ_c': ϵ_c,\n",
    "    'g_i': g_i,\n",
    "    'ϵ_i': ϵ_i\n",
    "}"
   ]
  },
  {
   "cell_type": "markdown",
   "metadata": {},
   "source": [
    "## Define PDEs"
   ]
  },
  {
   "cell_type": "markdown",
   "metadata": {},
   "source": [
    "### Define repeated calculations"
   ]
  },
  {
   "cell_type": "code",
   "execution_count": 5,
   "metadata": {},
   "outputs": [],
   "source": [
    "def compute_w(C_χ, l, ϵ, α, a_u, u):\n",
    "    return C_χ * l**2 * ϵ / torch.sqrt(α**2 + a_u * u**2)"
   ]
  },
  {
   "cell_type": "markdown",
   "metadata": {},
   "source": [
    "### Dynamic equation for mean density\n"
   ]
  },
  {
   "cell_type": "code",
   "execution_count": 6,
   "metadata": {},
   "outputs": [],
   "source": [
    "def pde_mean_density(x, n_t, n_x, n_xx, ϵ, l, α, D_c):    \n",
    "    intermediate = l**2 * ϵ * n_x / α\n",
    "    intermediate_x = grad(intermediate, x, grad_outputs=torch.ones_like(intermediate), retain_graph=True, create_graph=True)[0]\n",
    "    \n",
    "    return (n_t - intermediate_x - D_c * n_xx)**2"
   ]
  },
  {
   "cell_type": "markdown",
   "metadata": {},
   "source": [
    "### Dynamic equation for mean vorticity"
   ]
  },
  {
   "cell_type": "code",
   "execution_count": 7,
   "metadata": {},
   "outputs": [],
   "source": [
    "def pde_mean_vorticity(x, ϵ, n_x, u_t, u_xx, l, α, μ_c, w):    \n",
    "    intermediate = (l**2 * ϵ / α - w) * n_x\n",
    "    intermediate_x = grad(intermediate, x, grad_outputs=torch.ones_like(intermediate), retain_graph=True, create_graph=True)[0]\n",
    "    \n",
    "    return (u_t - intermediate_x - w * u_xx - μ_c * u_xx)**2"
   ]
  },
  {
   "cell_type": "markdown",
   "metadata": {},
   "source": [
    "### Dynamic equation for turbulent potential entrosphy"
   ]
  },
  {
   "cell_type": "code",
   "execution_count": 8,
   "metadata": {},
   "outputs": [],
   "source": [
    "def pde_tpe(x, ϵ, n_x, u_x, ϵ_t, ϵ_x, l, β, Λ, ϵ_c, w):\n",
    "    intermediate = l**2 * torch.sqrt(ϵ) * ϵ_x\n",
    "    intermediate_x = grad(intermediate, x, grad_outputs=torch.ones_like(intermediate), retain_graph=True, create_graph=True)[0]\n",
    "    \n",
    "    return (ϵ_t - β * intermediate_x - Λ * (w * (n_x - u_x)**2 - ϵ**(3/2) / ϵ_c**0.5 + ϵ))**2"
   ]
  },
  {
   "cell_type": "markdown",
   "metadata": {},
   "source": [
    "## Define Initial Conditions"
   ]
  },
  {
   "cell_type": "code",
   "execution_count": 9,
   "metadata": {},
   "outputs": [],
   "source": [
    "def n_initial_cond(t, x):\n",
    "    return -g_i * x\n",
    "\n",
    "def u_initial_cond(t, x):\n",
    "    return torch.zeros(x.shape, device=x.device.type)\n",
    "\n",
    "def ϵ_initial_cond(t, x):\n",
    "    return torch.full(x.shape, ϵ_i, device=x.device.type)"
   ]
  },
  {
   "cell_type": "markdown",
   "metadata": {},
   "source": [
    "## Define Boundary Conditions"
   ]
  },
  {
   "cell_type": "code",
   "execution_count": 10,
   "metadata": {},
   "outputs": [],
   "source": [
    "def n_boundary_cond(t, x):\n",
    "    out = torch.full(x.shape, -g_i, device=x.device.type)\n",
    "    out = out * x\n",
    "    \n",
    "    return out\n",
    "\n",
    "def u_boundary_cond(t, x):\n",
    "    return torch.zeros(x.shape, device=x.device.type)\n",
    "\n",
    "\n",
    "def ϵ_x_boundary_cond(t, x):\n",
    "    return torch.zeros(x.shape, device=x.device.type)"
   ]
  },
  {
   "cell_type": "markdown",
   "metadata": {},
   "source": [
    "## PINN Implementation"
   ]
  },
  {
   "cell_type": "code",
   "execution_count": 11,
   "metadata": {},
   "outputs": [],
   "source": [
    "class CustomOutputLayer(nn.Module):\n",
    "    def __init__(self, pars):\n",
    "        super(CustomOutputLayer, self).__init__()\n",
    "        self.n = nn.Sequential(nn.Linear(pars['width'], 1))\n",
    "        self.u = nn.Sequential(nn.Linear(pars['width'], 1))\n",
    "        self.ϵ = nn.Sequential(nn.Linear(pars['width'], 1))\n",
    "        \n",
    "    def forward(self, x):\n",
    "        return torch.hstack((self.n(x), self.u(x), (self.ϵ(x) + 1e-2)**2))"
   ]
  },
  {
   "cell_type": "code",
   "execution_count": 12,
   "metadata": {},
   "outputs": [],
   "source": [
    "class PINN(nn.Module):\n",
    "    def __init__(self, pars: dict):\n",
    "        super().__init__()\n",
    "        self.pars = pars\n",
    "        \n",
    "        self.modules = [nn.Linear(2, self.pars['width'])] # nn.LayerNorm(2)\n",
    "        for i in range(self.pars['layers'] - 1):\n",
    "            # self.modules.append(nn.LayerNorm(self.pars['width']))\n",
    "            self.modules.append(nn.GELU())\n",
    "            self.modules.append(nn.Linear(self.pars['width'], self.pars['width']))\n",
    "        \n",
    "        # self.modules.append(nn.LayerNorm(self.pars['width']))\n",
    "        self.modules.append(CustomOutputLayer(pars))\n",
    "        \n",
    "        self.model = nn.Sequential(*self.modules)\n",
    "        self.model.to(self.pars['device'])\n",
    "        \n",
    "        self.optimizer = torch.optim.Adam(params=self.model.parameters(), lr=self.pars['lr'])\n",
    "        self.num_params = sum([len(params) for params in [p for p in self.model.parameters()]])\n",
    "        \n",
    "        self.epoch = 0\n",
    "        \n",
    "        t = np.linspace(self.pars['t_min'], self.pars['t_max'], 100)\n",
    "        x = np.linspace(self.pars['x_min'], self.pars['x_max'], 100)\n",
    "\n",
    "        self.eval_t, self.eval_x = np.meshgrid(t, x)\n",
    "        self.eval_t = torch.Tensor(self.eval_t).reshape(-1, 1).to(self.pars['device'])\n",
    "        self.eval_x = torch.Tensor(self.eval_x).reshape(-1, 1).to(self.pars['device'])\n",
    "        \n",
    "        eval_t_interior, eval_x_interior = np.meshgrid(t[1:-1], x[1:-1])\n",
    "        eval_t_interior = torch.Tensor(eval_t_interior).reshape(-1, 1).to(self.pars['device'])\n",
    "        eval_x_interior = torch.Tensor(eval_x_interior).reshape(-1, 1).to(self.pars['device'])\n",
    "        \n",
    "        self.eval_X_interior = torch.hstack((eval_t_interior, eval_x_interior))\n",
    "        self.eval_X_interior.requires_grad_()\n",
    "        \n",
    "        eval_t_initial = torch.zeros_like(self.eval_x)\n",
    "        self.eval_X_initial = torch.hstack((eval_t_initial, self.eval_x))\n",
    "        self.eval_X_initial.requires_grad_()\n",
    "        \n",
    "        eval_t_boundary = torch.Tensor(np.vstack([t, t])).reshape(-1, 1).to(self.pars['device'])\n",
    "        eval_x_boundary = torch.Tensor(np.vstack([x[0] * np.ones_like(t), x[-1] * np.ones_like(t)])).reshape(-1, 1).to(self.pars['device'])\n",
    "        \n",
    "        self.eval_X_boundary = torch.hstack((eval_t_boundary, eval_x_boundary))\n",
    "        self.eval_X_boundary.requires_grad_()\n",
    "        \n",
    "        self.plot_t = self.eval_t.view(100, 100).detach().cpu().numpy()\n",
    "        self.plot_x = self.eval_x.view(100, 100).detach().cpu().numpy()\n",
    "        \n",
    "        self.plot_n_files = []\n",
    "        self.plot_u_files = []\n",
    "        self.plot_ϵ_files = []\n",
    "        \n",
    "    def __call__(self, X):\n",
    "        return self.model(X)\n",
    "        \n",
    "    def sample_interior_points(self):\n",
    "        t = torch.empty((self.pars['interior_batch_size'], 1), device=self.pars['device']).uniform_(self.pars['t_min'], self.pars['t_max'])\n",
    "        x = torch.empty((self.pars['interior_batch_size'], 1), device=self.pars['device']).uniform_(self.pars['x_min'], self.pars['x_max'])\n",
    "        X_interior = torch.cat((t, x), 1)\n",
    "        X_interior.requires_grad_()\n",
    "        \n",
    "        return X_interior\n",
    "    \n",
    "    def sample_initial_points(self):\n",
    "        t = torch.zeros(self.pars['initial_batch_size'], 1, device=self.pars['device'])\n",
    "        x = torch.empty((self.pars['initial_batch_size'], 1), device=self.pars['device']).uniform_(self.pars['x_min'], self.pars['x_max'])\n",
    "        X_initial = torch.cat((t, x), 1)\n",
    "        X_initial.requires_grad_()\n",
    "        \n",
    "        return X_initial\n",
    "    \n",
    "    def sample_boundary_points(self):\n",
    "        options = torch.tensor([self.pars['x_min'], self.pars['x_max']], device=self.pars['device'])\n",
    "        \n",
    "        t = torch.empty((self.pars['boundary_batch_size'], 1), device=self.pars['device']).uniform_(self.pars['t_min'], self.pars['t_max'])\n",
    "        x = options[torch.randint(0, 2, (self.pars['boundary_batch_size'], 1), device=self.pars['device'])]\n",
    "        X_boundary = torch.cat((t, x), 1)\n",
    "        X_boundary.requires_grad_()\n",
    "        \n",
    "        return X_boundary\n",
    "    \n",
    "    def forward(self, X_interior, X_initial, X_boundary):\n",
    "        # X shape: (batch_size, 2), where 2nd dimension is [t, x]\n",
    "        # Y shape: (batch_size, 3), where 2nd dimension is [n, u, ϵ]\n",
    "        \n",
    "        t_interior = X_interior[:, 0].reshape(-1, 1)\n",
    "        x_interior = X_interior[:, 1].reshape(-1, 1)\n",
    "        t_initial = X_initial[:, 0].reshape(-1, 1)\n",
    "        x_initial = X_initial[:, 1].reshape(-1, 1)\n",
    "        t_boundary = X_boundary[:, 0].reshape(-1, 1)\n",
    "        x_boundary = X_boundary[:, 1].reshape(-1, 1)\n",
    "        \n",
    "        # forward pass\n",
    "        Y_interior = self.model(torch.hstack((t_interior, x_interior)))\n",
    "        Y_initial = self.model(torch.hstack((t_initial, x_initial)))\n",
    "        Y_boundary = self.model(torch.hstack((t_boundary, x_boundary)))\n",
    "        \n",
    "        n_interior = Y_interior[:, 0].reshape(-1, 1)\n",
    "        u_interior = Y_interior[:, 1].reshape(-1, 1)\n",
    "        ϵ_interior = Y_interior[:, 2].reshape(-1, 1)\n",
    "        \n",
    "        n_initial = Y_initial[:, 0].reshape(-1, 1)\n",
    "        u_initial = Y_initial[:, 1].reshape(-1, 1)\n",
    "        ϵ_initial = Y_initial[:, 2].reshape(-1, 1)\n",
    "        \n",
    "        n_boundary = Y_boundary[:, 0].reshape(-1, 1)\n",
    "        u_boundary = Y_boundary[:, 1].reshape(-1, 1)\n",
    "        ϵ_boundary = Y_boundary[:, 2].reshape(-1, 1)\n",
    "        \n",
    "        n_x_interior = grad(n_interior, x_interior, grad_outputs=torch.ones_like(n_interior), retain_graph=True, create_graph=True)[0]\n",
    "        n_t_interior = grad(n_interior, t_interior, grad_outputs=torch.ones_like(n_interior), retain_graph=True, create_graph=True)[0]\n",
    "        \n",
    "        n_xx_interior = grad(n_x_interior, x_interior, grad_outputs=torch.ones_like(n_x_interior), retain_graph=True, create_graph=True)[0]\n",
    "        \n",
    "        u_x_interior = grad(u_interior, x_interior, grad_outputs=torch.ones_like(u_interior), retain_graph=True, create_graph=True)[0]\n",
    "        u_t_interior = grad(u_interior, t_interior, grad_outputs=torch.ones_like(u_interior), retain_graph=True, create_graph=True)[0]\n",
    "        \n",
    "        u_xx_interior = grad(u_x_interior, x_interior, grad_outputs=torch.ones_like(u_x_interior), retain_graph=True, create_graph=True)[0]\n",
    "        \n",
    "        ϵ_x_interior = grad(ϵ_interior, x_interior, grad_outputs=torch.ones_like(ϵ_interior), retain_graph=True, create_graph=True)[0]\n",
    "        ϵ_t_interior = grad(ϵ_interior, t_interior, grad_outputs=torch.ones_like(ϵ_interior), retain_graph=True, create_graph=True)[0]\n",
    "        \n",
    "        ϵ_x_boundary = grad(ϵ_boundary, x_boundary, grad_outputs=torch.ones_like(ϵ_boundary), retain_graph=True, create_graph=True)[0]\n",
    "        \n",
    "        w = compute_w(C_χ, l, ϵ_interior, α, a_u, u_interior)\n",
    "        \n",
    "        density_loss = pde_mean_density(x_interior, n_t_interior, n_x_interior, n_xx_interior, ϵ_interior, l, α, D_c).mean()\n",
    "        vorticity_loss = pde_mean_vorticity(x_interior, ϵ_interior, n_x_interior, u_t_interior, u_xx_interior, l, α, μ_c, w).mean()\n",
    "        tpe_loss = pde_tpe(x_interior, ϵ_interior, n_x_interior, u_x_interior, ϵ_t_interior, ϵ_x_interior, l, β, Λ, ϵ_c, w).mean()\n",
    "        interior_loss = (density_loss + vorticity_loss + tpe_loss)/3\n",
    "        \n",
    "        mse = nn.MSELoss()\n",
    "        \n",
    "        initial_n_loss = mse(n_initial_cond(t_initial, x_initial), n_initial)\n",
    "        initial_u_loss = mse(u_initial_cond(t_initial, x_initial), u_initial)\n",
    "        initial_ϵ_loss = mse(ϵ_initial_cond(t_initial, x_initial), ϵ_initial)\n",
    "        initial_loss = (initial_n_loss + initial_u_loss + initial_ϵ_loss)/3\n",
    "        \n",
    "        boundary_n_loss = mse(n_boundary_cond(t_boundary, x_boundary), n_boundary)\n",
    "        boundary_u_loss = mse(u_boundary_cond(t_boundary, x_boundary), u_boundary)\n",
    "        boundary_ϵ_loss = mse(ϵ_x_boundary_cond(t_boundary, x_boundary), ϵ_x_boundary)\n",
    "        boundary_loss = (boundary_n_loss + boundary_u_loss + boundary_ϵ_loss)/3\n",
    "        total_loss = interior_loss + initial_loss + boundary_loss\n",
    "        \n",
    "        return total_loss, density_loss, vorticity_loss, tpe_loss, initial_n_loss, initial_u_loss, initial_ϵ_loss, boundary_n_loss, boundary_u_loss, boundary_ϵ_loss\n",
    "    \n",
    "    def train(self):\n",
    "        cwd = os.getcwd()\n",
    "        plot_dirs = os.path.join(cwd, f'plots/{self.pars[\"experiment_name\"]}')\n",
    "\n",
    "        if not os.path.isdir(plot_dirs):\n",
    "            os.makedirs(plot_dirs)\n",
    "        \n",
    "        mlflow.set_experiment(self.pars['experiment_name'])\n",
    "        mlflow.start_run()\n",
    "        \n",
    "        mlflow.log_param(\"physical_params\", physical_params)\n",
    "        mlflow.log_param(\"model_params\", self.pars)\n",
    "        \n",
    "        for epoch in tqdm(range(self.pars['epochs']), position=0, leave=True, desc='Training...'): \n",
    "            self.epoch = epoch\n",
    "            \n",
    "            # eval\n",
    "            if epoch % self.pars['eval_interval'] == 0 or epoch == self.pars['epochs'] - 1:\n",
    "                \n",
    "                loss, density_loss, vorticity_loss, tpe_loss, initial_n_loss, initial_u_loss, initial_ϵ_loss, boundary_n_loss, boundary_u_loss, boundary_ϵ_loss \\\n",
    "                    = self.forward(self.eval_X_interior, self.eval_X_initial, self.eval_X_boundary)\n",
    "                \n",
    "                print()\n",
    "                print(f'Epoch: {self.epoch}, Loss: {loss.item():,.4e}')\n",
    "                print(f\"density_loss: {density_loss.item():.4e}, vorticity_loss: {vorticity_loss.item():.4e}, tpe_loss: {tpe_loss.item():.4e}\")\n",
    "                print(f\"initial_n_loss: {initial_n_loss.item():.4e}, initial_u_loss: {initial_u_loss.item():.4e}, initial_ϵ_loss: {initial_ϵ_loss.item():.4e}\")\n",
    "                print(f\"boundary_n_loss: {boundary_n_loss.item():.4e}, boundary_u_loss: {boundary_u_loss.item():.4e}, boundary_ϵ_loss: {boundary_ϵ_loss.item():.4e}\")\n",
    "                \n",
    "                mlflow.log_metric(\"total_loss\", loss.item(), step=self.epoch)\n",
    "                mlflow.log_metric(\"density_loss\", density_loss.item(), step=self.epoch)\n",
    "                mlflow.log_metric(\"vorticity_loss\", vorticity_loss.item(), step=self.epoch)\n",
    "                mlflow.log_metric(\"tpe_loss\", tpe_loss.item(), step=self.epoch)\n",
    "                mlflow.log_metric(\"initial_n_loss\", initial_n_loss.item(), step=self.epoch)\n",
    "                mlflow.log_metric(\"initial_u_loss\", initial_u_loss.item(), step=self.epoch)\n",
    "                mlflow.log_metric(\"initial_ϵ_loss\", initial_ϵ_loss.item(), step=self.epoch)\n",
    "                mlflow.log_metric(\"boundary_n_loss\", boundary_n_loss.item(), step=self.epoch)\n",
    "                mlflow.log_metric(\"boundary_u_loss\", boundary_u_loss.item(), step=self.epoch)\n",
    "                mlflow.log_metric(\"boundary_ϵ_loss\", boundary_ϵ_loss.item(), step=self.epoch)\n",
    "                \n",
    "                mlflow.pytorch.log_model(self.model, f\"{self.pars['experiment_name']}_model_epoch_{self.epoch}\")\n",
    "                \n",
    "                if self.pars['plot_training_outputs']:\n",
    "                    self.plot_outputs()\n",
    "            \n",
    "            # training step\n",
    "            self.optimizer.zero_grad()\n",
    "            X_interior = self.sample_interior_points()\n",
    "            X_initial = self.sample_initial_points()\n",
    "            X_boundary = self.sample_boundary_points()\n",
    "            loss, density_loss, vorticity_loss, tpe_loss, initial_n_loss, initial_u_loss, initial_ϵ_loss, boundary_n_loss, boundary_u_loss, boundary_ϵ_loss = self.forward(X_interior, X_initial, X_boundary)\n",
    "            loss.backward()\n",
    "            self.optimizer.step()\n",
    "            \n",
    "                \n",
    "            if loss.isnan():\n",
    "                print(f'Epoch: {self.epoch}, Loss: {loss.item():,.4e}')\n",
    "                print(f\"density_loss: {density_loss.item():.4e}, vorticity_loss: {vorticity_loss.item():.4e}, tpe_loss: {tpe_loss.item():.4e}\")\n",
    "                print(f\"initial_n_loss: {initial_n_loss.item():.4e}, initial_u_loss: {initial_u_loss.item():.4e}, initial_ϵ_loss: {initial_ϵ_loss.item():.4e}\")\n",
    "                print(f\"boundary_n_loss: {boundary_n_loss.item():.4e}, boundary_u_loss: {boundary_u_loss.item():.4e}, boundary_ϵ_loss: {boundary_ϵ_loss.item():.4e}\")\n",
    "                print(\"loss is NaN, stopping training...\")\n",
    "                break\n",
    "            \n",
    "        mlflow.pytorch.log_model(self.model, f\"{self.pars['experiment_name']}_model_final\")\n",
    "        \n",
    "        self.save_gif()\n",
    "        \n",
    "        mlflow.end_run()\n",
    "    \n",
    "    def plot_outputs(self):\n",
    "        with torch.no_grad():\n",
    "            Y = self(torch.hstack((self.eval_t, self.eval_x)))\n",
    "\n",
    "        n = Y[:, 0].view(100, 100).detach().cpu().numpy()\n",
    "        u = Y[:, 1].view(100, 100).detach().cpu().numpy()\n",
    "        ϵ = Y[:, 2].view(100, 100).detach().cpu().numpy()\n",
    "        \n",
    "        self.plot_n(n)\n",
    "        self.plot_u(u)\n",
    "        self.plot_ϵ(ϵ)\n",
    "        \n",
    "    def plot_n(self, n):\n",
    "        fig = plt.figure()\n",
    "        ax = fig.add_subplot(111, projection='3d')\n",
    "        ax.plot_surface(self.plot_t, self.plot_x, n, cmap='viridis')\n",
    "        ax.set_xlabel('t')\n",
    "        ax.set_ylabel('x')\n",
    "        ax.set_zlabel('n')\n",
    "        # ax.set_zlim(-g_i-1, 1)\n",
    "        plt.title(f'Model output n, epoch {self.epoch}')\n",
    "        filename = f\"plots/{self.pars['experiment_name']}/plot_n_epoch_{self.epoch}.png\"\n",
    "        self.plot_n_files.append(filename)\n",
    "        fig.savefig(filename)\n",
    "        mlflow.log_artifact(filename)\n",
    "        plt.close()\n",
    "        \n",
    "    def plot_u(self, u):\n",
    "        fig = plt.figure()\n",
    "        ax = fig.add_subplot(111, projection='3d')\n",
    "        ax.plot_surface(self.plot_t, self.plot_x, u, cmap='viridis')\n",
    "        ax.set_xlabel('t')\n",
    "        ax.set_ylabel('x')\n",
    "        ax.set_zlabel('u')\n",
    "        # ax.set_zlim(-0.02, 0.02)\n",
    "        plt.title(f'Model output u, epoch {self.epoch}')\n",
    "        filename = f\"plots/{self.pars['experiment_name']}/plot_u_epoch_{self.epoch}.png\"\n",
    "        self.plot_u_files.append(filename)\n",
    "        fig.savefig(filename)\n",
    "        mlflow.log_artifact(filename)\n",
    "        plt.close()\n",
    "        \n",
    "    def plot_ϵ(self, ϵ):\n",
    "        fig = plt.figure()\n",
    "        ax = fig.add_subplot(111, projection='3d')\n",
    "        ax.plot_surface(self.plot_t, self.plot_x, ϵ, cmap='viridis')\n",
    "        ax.set_xlabel('t')\n",
    "        ax.set_ylabel('x')\n",
    "        ax.set_zlabel('ϵ')\n",
    "        plt.title(f'Model output ϵ, epoch {self.epoch}')\n",
    "        filename = f\"plots/{self.pars['experiment_name']}/plot_ϵ_epoch_{self.epoch}.png\"\n",
    "        self.plot_ϵ_files.append(filename)\n",
    "        fig.savefig(filename)\n",
    "        mlflow.log_artifact(filename)\n",
    "        plt.close()\n",
    "        \n",
    "    def save_gif(self):\n",
    "        gif_filename = f\"plots/{self.pars['experiment_name']}/plot_n.gif\"\n",
    "        with imageio.get_writer(gif_filename, mode='I') as writer:\n",
    "            for filename in self.plot_n_files:\n",
    "                image = imageio.imread(filename)\n",
    "                writer.append_data(image)\n",
    "                \n",
    "        mlflow.log_artifact(gif_filename)\n",
    "                \n",
    "        gif_filename = f\"plots/{self.pars['experiment_name']}/plot_u.gif\"\n",
    "        with imageio.get_writer(gif_filename, mode='I') as writer:\n",
    "            for filename in self.plot_u_files:\n",
    "                image = imageio.imread(filename)\n",
    "                writer.append_data(image)\n",
    "                \n",
    "        mlflow.log_artifact(gif_filename)\n",
    "                \n",
    "        gif_filename = f\"plots/{self.pars['experiment_name']}/plot_ϵ.gif\"\n",
    "        with imageio.get_writer(gif_filename, mode='I') as writer:\n",
    "            for filename in self.plot_ϵ_files:\n",
    "                image = imageio.imread(filename)\n",
    "                writer.append_data(image)\n",
    "        \n",
    "        mlflow.log_artifact(gif_filename)\n",
    "        "
   ]
  },
  {
   "cell_type": "markdown",
   "metadata": {},
   "source": [
    "## Experiments"
   ]
  },
  {
   "cell_type": "code",
   "execution_count": 13,
   "metadata": {},
   "outputs": [],
   "source": [
    "pars = {\n",
    "    'experiment_name': 'simple_pinn_v1',\n",
    "    'layers': 4,\n",
    "    'width': 32,\n",
    "    'lr': 1e-3,\n",
    "    'epochs': 100000,\n",
    "    'eval_interval': 1000,\n",
    "    'interior_batch_size': 2048,\n",
    "    'initial_batch_size': 2048,\n",
    "    'boundary_batch_size': 2048,\n",
    "    'x_min': 0.0,\n",
    "    'x_max': 1.0,\n",
    "    't_min': 0.0,\n",
    "    't_max': 1,\n",
    "    'device': 'cuda',\n",
    "    'plot_training_outputs': True\n",
    "}\n",
    "pinn = PINN(pars)\n"
   ]
  },
  {
   "cell_type": "code",
   "execution_count": 14,
   "metadata": {},
   "outputs": [
    {
     "name": "stderr",
     "output_type": "stream",
     "text": [
      "2024/08/16 16:29:07 INFO mlflow.tracking.fluent: Experiment with name 'simple_pinn_v1' does not exist. Creating a new experiment.\n"
     ]
    },
    {
     "data": {
      "application/vnd.jupyter.widget-view+json": {
       "model_id": "77a728de51114763a9499807be45227c",
       "version_major": 2,
       "version_minor": 0
      },
      "text/plain": [
       "Training...:   0%|          | 0/10000 [00:00<?, ?it/s]"
      ]
     },
     "metadata": {},
     "output_type": "display_data"
    },
    {
     "name": "stdout",
     "output_type": "stream",
     "text": [
      "\n",
      "Epoch: 0, Loss: 1.2349e+04\n",
      "density_loss: 1.3670e-05, vorticity_loss: 5.4540e-05, tpe_loss: 3.7024e+04\n",
      "initial_n_loss: 9.4595e+00, initial_u_loss: 8.4701e-03, initial_ϵ_loss: 2.5487e-03\n",
      "boundary_n_loss: 1.3749e+01, boundary_u_loss: 7.8853e-03, boundary_ϵ_loss: 1.0405e-05\n"
     ]
    },
    {
     "name": "stderr",
     "output_type": "stream",
     "text": [
      "2024/08/16 16:29:10 WARNING mlflow.models.model: Input example should be provided to infer model signature if the model signature is not provided when logging the model.\n"
     ]
    },
    {
     "name": "stdout",
     "output_type": "stream",
     "text": [
      "\n",
      "Epoch: 500, Loss: 3.5416e+00\n",
      "density_loss: 2.4428e-03, vorticity_loss: 7.4801e-05, tpe_loss: 6.9820e-02\n",
      "initial_n_loss: 3.1881e+00, initial_u_loss: 2.4363e-06, initial_ϵ_loss: 3.7844e-06\n",
      "boundary_n_loss: 7.3642e+00, boundary_u_loss: 4.9974e-06, boundary_ϵ_loss: 3.2073e-07\n"
     ]
    },
    {
     "name": "stderr",
     "output_type": "stream",
     "text": [
      "2024/08/16 16:29:31 WARNING mlflow.models.model: Input example should be provided to infer model signature if the model signature is not provided when logging the model.\n"
     ]
    },
    {
     "name": "stdout",
     "output_type": "stream",
     "text": [
      "\n",
      "Epoch: 1000, Loss: 2.7934e+00\n",
      "density_loss: 4.1053e-03, vorticity_loss: 5.1396e-05, tpe_loss: 6.2333e-02\n",
      "initial_n_loss: 2.1244e+00, initial_u_loss: 1.8178e-06, initial_ϵ_loss: 3.7912e-06\n",
      "boundary_n_loss: 6.1892e+00, boundary_u_loss: 3.3306e-06, boundary_ϵ_loss: 3.1054e-07\n"
     ]
    },
    {
     "name": "stderr",
     "output_type": "stream",
     "text": [
      "2024/08/16 16:29:51 WARNING mlflow.models.model: Input example should be provided to infer model signature if the model signature is not provided when logging the model.\n"
     ]
    },
    {
     "name": "stdout",
     "output_type": "stream",
     "text": [
      "\n",
      "Epoch: 1500, Loss: 2.6526e+00\n",
      "density_loss: 2.8314e-03, vorticity_loss: 2.6823e-05, tpe_loss: 6.2686e-02\n",
      "initial_n_loss: 2.0005e+00, initial_u_loss: 1.1586e-06, initial_ϵ_loss: 3.7893e-06\n",
      "boundary_n_loss: 5.8916e+00, boundary_u_loss: 1.7607e-06, boundary_ϵ_loss: 3.1225e-07\n"
     ]
    },
    {
     "name": "stderr",
     "output_type": "stream",
     "text": [
      "2024/08/16 16:30:13 WARNING mlflow.models.model: Input example should be provided to infer model signature if the model signature is not provided when logging the model.\n"
     ]
    },
    {
     "name": "stdout",
     "output_type": "stream",
     "text": [
      "\n",
      "Epoch: 2000, Loss: 2.3631e+00\n",
      "density_loss: 1.0419e-02, vorticity_loss: 1.1232e-05, tpe_loss: 7.5458e-02\n",
      "initial_n_loss: 1.7797e+00, initial_u_loss: 1.0347e-06, initial_ϵ_loss: 3.7820e-06\n",
      "boundary_n_loss: 5.2237e+00, boundary_u_loss: 1.6377e-06, boundary_ϵ_loss: 3.4498e-07\n"
     ]
    },
    {
     "name": "stderr",
     "output_type": "stream",
     "text": [
      "2024/08/16 16:30:34 WARNING mlflow.models.model: Input example should be provided to infer model signature if the model signature is not provided when logging the model.\n"
     ]
    },
    {
     "name": "stdout",
     "output_type": "stream",
     "text": [
      "\n",
      "Epoch: 2500, Loss: 9.6967e-01\n",
      "density_loss: 3.2950e-01, vorticity_loss: 1.6361e-05, tpe_loss: 1.1865e-02\n",
      "initial_n_loss: 6.1763e-01, initial_u_loss: 1.7069e-05, initial_ϵ_loss: 3.9420e-06\n",
      "boundary_n_loss: 1.9499e+00, boundary_u_loss: 3.6692e-05, boundary_ϵ_loss: 1.1074e-07\n"
     ]
    },
    {
     "name": "stderr",
     "output_type": "stream",
     "text": [
      "2024/08/16 16:30:56 WARNING mlflow.models.model: Input example should be provided to infer model signature if the model signature is not provided when logging the model.\n"
     ]
    },
    {
     "name": "stdout",
     "output_type": "stream",
     "text": [
      "\n",
      "Epoch: 3000, Loss: 3.3325e-01\n",
      "density_loss: 2.0993e-01, vorticity_loss: 2.0167e-05, tpe_loss: 4.7889e-03\n",
      "initial_n_loss: 1.3974e-01, initial_u_loss: 1.0446e-05, initial_ϵ_loss: 3.9750e-06\n",
      "boundary_n_loss: 6.4522e-01, boundary_u_loss: 2.0233e-05, boundary_ϵ_loss: 4.3962e-08\n"
     ]
    },
    {
     "name": "stderr",
     "output_type": "stream",
     "text": [
      "2024/08/16 16:31:18 WARNING mlflow.models.model: Input example should be provided to infer model signature if the model signature is not provided when logging the model.\n"
     ]
    },
    {
     "name": "stdout",
     "output_type": "stream",
     "text": [
      "\n",
      "Epoch: 3500, Loss: 9.1436e-02\n",
      "density_loss: 7.0219e-02, vorticity_loss: 8.7444e-06, tpe_loss: 3.0141e-03\n",
      "initial_n_loss: 2.7950e-02, initial_u_loss: 5.0441e-06, initial_ϵ_loss: 3.9847e-06\n",
      "boundary_n_loss: 1.7310e-01, boundary_u_loss: 7.4374e-06, boundary_ϵ_loss: 2.3450e-08\n"
     ]
    },
    {
     "name": "stderr",
     "output_type": "stream",
     "text": [
      "2024/08/16 16:31:39 WARNING mlflow.models.model: Input example should be provided to infer model signature if the model signature is not provided when logging the model.\n"
     ]
    },
    {
     "name": "stdout",
     "output_type": "stream",
     "text": [
      "\n",
      "Epoch: 4000, Loss: 2.5346e-02\n",
      "density_loss: 3.3825e-02, vorticity_loss: 1.7941e-06, tpe_loss: 3.1755e-03\n",
      "initial_n_loss: 3.8351e-03, initial_u_loss: 2.3686e-06, initial_ϵ_loss: 3.9877e-06\n",
      "boundary_n_loss: 3.5189e-02, boundary_u_loss: 4.3905e-06, boundary_ϵ_loss: 1.6200e-08\n"
     ]
    },
    {
     "name": "stderr",
     "output_type": "stream",
     "text": [
      "2024/08/16 16:32:01 WARNING mlflow.models.model: Input example should be provided to infer model signature if the model signature is not provided when logging the model.\n"
     ]
    },
    {
     "name": "stdout",
     "output_type": "stream",
     "text": [
      "\n",
      "Epoch: 4500, Loss: 8.4234e-03\n",
      "density_loss: 1.7916e-02, vorticity_loss: 3.7840e-07, tpe_loss: 1.1844e-03\n",
      "initial_n_loss: 1.0764e-04, initial_u_loss: 7.0196e-07, initial_ϵ_loss: 3.9929e-06\n",
      "boundary_n_loss: 6.0561e-03, boundary_u_loss: 1.1043e-06, boundary_ϵ_loss: 6.4822e-09\n"
     ]
    },
    {
     "name": "stderr",
     "output_type": "stream",
     "text": [
      "2024/08/16 16:32:20 WARNING mlflow.models.model: Input example should be provided to infer model signature if the model signature is not provided when logging the model.\n"
     ]
    },
    {
     "name": "stdout",
     "output_type": "stream",
     "text": [
      "\n",
      "Epoch: 5000, Loss: 3.9592e-03\n",
      "density_loss: 9.2034e-03, vorticity_loss: 1.7781e-07, tpe_loss: 3.2168e-04\n",
      "initial_n_loss: 2.6018e-04, initial_u_loss: 4.5513e-07, initial_ϵ_loss: 3.9964e-06\n",
      "boundary_n_loss: 2.0869e-03, boundary_u_loss: 6.1324e-07, boundary_ϵ_loss: 2.0954e-09\n"
     ]
    },
    {
     "name": "stderr",
     "output_type": "stream",
     "text": [
      "2024/08/16 16:32:43 WARNING mlflow.models.model: Input example should be provided to infer model signature if the model signature is not provided when logging the model.\n"
     ]
    },
    {
     "name": "stdout",
     "output_type": "stream",
     "text": [
      "\n",
      "Epoch: 5500, Loss: 1.9462e-03\n",
      "density_loss: 4.2476e-03, vorticity_loss: 1.5725e-07, tpe_loss: 1.0335e-04\n",
      "initial_n_loss: 2.9738e-04, initial_u_loss: 3.7273e-07, initial_ϵ_loss: 3.9980e-06\n",
      "boundary_n_loss: 1.1851e-03, boundary_u_loss: 5.3961e-07, boundary_ϵ_loss: 7.3538e-10\n"
     ]
    },
    {
     "name": "stderr",
     "output_type": "stream",
     "text": [
      "2024/08/16 16:33:06 WARNING mlflow.models.model: Input example should be provided to infer model signature if the model signature is not provided when logging the model.\n"
     ]
    },
    {
     "name": "stdout",
     "output_type": "stream",
     "text": [
      "\n",
      "Epoch: 6000, Loss: 1.1627e-03\n",
      "density_loss: 2.5130e-03, vorticity_loss: 1.8177e-07, tpe_loss: 4.5011e-05\n",
      "initial_n_loss: 1.8856e-04, initial_u_loss: 2.5483e-07, initial_ϵ_loss: 3.9987e-06\n",
      "boundary_n_loss: 7.3673e-04, boundary_u_loss: 4.7316e-07, boundary_ϵ_loss: 3.5178e-10\n"
     ]
    },
    {
     "name": "stderr",
     "output_type": "stream",
     "text": [
      "2024/08/16 16:33:28 WARNING mlflow.models.model: Input example should be provided to infer model signature if the model signature is not provided when logging the model.\n"
     ]
    },
    {
     "name": "stdout",
     "output_type": "stream",
     "text": [
      "\n",
      "Epoch: 6500, Loss: 8.1893e-04\n",
      "density_loss: 1.9011e-03, vorticity_loss: 1.7659e-07, tpe_loss: 2.5551e-05\n",
      "initial_n_loss: 1.0214e-04, initial_u_loss: 1.8563e-07, initial_ϵ_loss: 3.9991e-06\n",
      "boundary_n_loss: 4.2325e-04, boundary_u_loss: 3.4782e-07, boundary_ϵ_loss: 2.2473e-10\n"
     ]
    },
    {
     "name": "stderr",
     "output_type": "stream",
     "text": [
      "2024/08/16 16:33:51 WARNING mlflow.models.model: Input example should be provided to infer model signature if the model signature is not provided when logging the model.\n"
     ]
    },
    {
     "name": "stdout",
     "output_type": "stream",
     "text": [
      "\n",
      "Epoch: 7000, Loss: 5.9663e-04\n",
      "density_loss: 1.5110e-03, vorticity_loss: 1.5468e-07, tpe_loss: 1.6185e-05\n",
      "initial_n_loss: 4.4607e-05, initial_u_loss: 1.8058e-07, initial_ϵ_loss: 3.9993e-06\n",
      "boundary_n_loss: 2.1351e-04, boundary_u_loss: 2.1762e-07, boundary_ϵ_loss: 1.6239e-10\n"
     ]
    },
    {
     "name": "stderr",
     "output_type": "stream",
     "text": [
      "2024/08/16 16:34:13 WARNING mlflow.models.model: Input example should be provided to infer model signature if the model signature is not provided when logging the model.\n"
     ]
    },
    {
     "name": "stdout",
     "output_type": "stream",
     "text": [
      "\n",
      "Epoch: 7500, Loss: 4.3216e-04\n",
      "density_loss: 1.1737e-03, vorticity_loss: 1.2225e-07, tpe_loss: 1.0770e-05\n",
      "initial_n_loss: 1.1794e-05, initial_u_loss: 1.3740e-07, initial_ϵ_loss: 3.9994e-06\n",
      "boundary_n_loss: 9.5754e-05, boundary_u_loss: 1.7041e-07, boundary_ϵ_loss: 1.1775e-10\n"
     ]
    },
    {
     "name": "stderr",
     "output_type": "stream",
     "text": [
      "2024/08/16 16:34:35 WARNING mlflow.models.model: Input example should be provided to infer model signature if the model signature is not provided when logging the model.\n"
     ]
    },
    {
     "name": "stdout",
     "output_type": "stream",
     "text": [
      "\n",
      "Epoch: 8000, Loss: 3.0575e-04\n",
      "density_loss: 8.6483e-04, vorticity_loss: 9.2306e-08, tpe_loss: 7.3542e-06\n",
      "initial_n_loss: 1.1648e-06, initial_u_loss: 2.8638e-07, initial_ϵ_loss: 3.9996e-06\n",
      "boundary_n_loss: 3.9373e-05, boundary_u_loss: 1.5602e-07, boundary_ϵ_loss: 8.4975e-11\n"
     ]
    },
    {
     "name": "stderr",
     "output_type": "stream",
     "text": [
      "2024/08/16 16:34:57 WARNING mlflow.models.model: Input example should be provided to infer model signature if the model signature is not provided when logging the model.\n"
     ]
    },
    {
     "name": "stdout",
     "output_type": "stream",
     "text": [
      "\n",
      "Epoch: 8500, Loss: 2.0360e-04\n",
      "density_loss: 5.8354e-04, vorticity_loss: 6.5971e-08, tpe_loss: 5.2918e-06\n",
      "initial_n_loss: 1.0298e-06, initial_u_loss: 5.5176e-08, initial_ϵ_loss: 3.9996e-06\n",
      "boundary_n_loss: 1.6630e-05, boundary_u_loss: 1.8025e-07, boundary_ϵ_loss: 6.5741e-11\n"
     ]
    },
    {
     "name": "stderr",
     "output_type": "stream",
     "text": [
      "2024/08/16 16:35:19 WARNING mlflow.models.model: Input example should be provided to infer model signature if the model signature is not provided when logging the model.\n"
     ]
    },
    {
     "name": "stdout",
     "output_type": "stream",
     "text": [
      "\n",
      "Epoch: 9000, Loss: 1.2225e-04\n",
      "density_loss: 3.4604e-04, vorticity_loss: 4.6585e-08, tpe_loss: 4.6820e-06\n",
      "initial_n_loss: 2.6266e-06, initial_u_loss: 8.6393e-08, initial_ϵ_loss: 3.9996e-06\n",
      "boundary_n_loss: 9.1822e-06, boundary_u_loss: 9.7730e-08, boundary_ϵ_loss: 5.5896e-11\n"
     ]
    },
    {
     "name": "stderr",
     "output_type": "stream",
     "text": [
      "2024/08/16 16:35:41 WARNING mlflow.models.model: Input example should be provided to infer model signature if the model signature is not provided when logging the model.\n"
     ]
    },
    {
     "name": "stdout",
     "output_type": "stream",
     "text": [
      "\n",
      "Epoch: 9500, Loss: 6.8040e-05\n",
      "density_loss: 1.8581e-04, vorticity_loss: 3.0058e-08, tpe_loss: 4.9289e-06\n",
      "initial_n_loss: 3.0438e-06, initial_u_loss: 1.0673e-07, initial_ϵ_loss: 3.9996e-06\n",
      "boundary_n_loss: 6.1228e-06, boundary_u_loss: 8.1326e-08, boundary_ϵ_loss: 6.0667e-11\n"
     ]
    },
    {
     "name": "stderr",
     "output_type": "stream",
     "text": [
      "2024/08/16 16:36:02 WARNING mlflow.models.model: Input example should be provided to infer model signature if the model signature is not provided when logging the model.\n"
     ]
    },
    {
     "name": "stdout",
     "output_type": "stream",
     "text": [
      "\n",
      "Epoch: 9999, Loss: 4.0586e-05\n",
      "density_loss: 1.0489e-04, vorticity_loss: 1.8208e-08, tpe_loss: 5.0819e-06\n",
      "initial_n_loss: 2.2640e-06, initial_u_loss: 1.7921e-07, initial_ϵ_loss: 3.9996e-06\n",
      "boundary_n_loss: 4.9170e-06, boundary_u_loss: 4.0632e-07, boundary_ϵ_loss: 7.1617e-11\n"
     ]
    },
    {
     "name": "stderr",
     "output_type": "stream",
     "text": [
      "2024/08/16 16:36:28 WARNING mlflow.models.model: Input example should be provided to infer model signature if the model signature is not provided when logging the model.\n",
      "2024/08/16 16:36:30 WARNING mlflow.models.model: Input example should be provided to infer model signature if the model signature is not provided when logging the model.\n",
      "/tmp/ipykernel_383568/3563034069.py:276: DeprecationWarning: Starting with ImageIO v3 the behavior of this function will switch to that of iio.v3.imread. To keep the current behavior (and make this warning disappear) use `import imageio.v2 as imageio` or call `imageio.v2.imread` directly.\n",
      "  image = imageio.imread(filename)\n",
      "/tmp/ipykernel_383568/3563034069.py:284: DeprecationWarning: Starting with ImageIO v3 the behavior of this function will switch to that of iio.v3.imread. To keep the current behavior (and make this warning disappear) use `import imageio.v2 as imageio` or call `imageio.v2.imread` directly.\n",
      "  image = imageio.imread(filename)\n",
      "/tmp/ipykernel_383568/3563034069.py:292: DeprecationWarning: Starting with ImageIO v3 the behavior of this function will switch to that of iio.v3.imread. To keep the current behavior (and make this warning disappear) use `import imageio.v2 as imageio` or call `imageio.v2.imread` directly.\n",
      "  image = imageio.imread(filename)\n"
     ]
    }
   ],
   "source": [
    "pinn.train()"
   ]
  },
  {
   "cell_type": "markdown",
   "metadata": {},
   "source": [
    "## Debug"
   ]
  },
  {
   "cell_type": "code",
   "execution_count": null,
   "metadata": {},
   "outputs": [],
   "source": [
    "for epoch in tqdm(range(pinn.pars['epochs']), position=0, leave=True, desc='Training...'): \n",
    "    pinn.epoch = epoch\n",
    "    \n",
    "    # eval\n",
    "    if epoch % pinn.pars['eval_interval'] == 0 or epoch == pinn.pars['epochs'] - 1:\n",
    "        \n",
    "        loss, density_loss, vorticity_loss, tpe_loss, initial_n_loss, initial_u_loss, initial_ϵ_loss, boundary_n_loss, boundary_u_loss, boundary_ϵ_loss \\\n",
    "            = pinn.forward(pinn.eval_X_interior, pinn.eval_X_initial, pinn.eval_X_boundary)\n",
    "        \n",
    "        print()\n",
    "        print(f'Epoch: {pinn.epoch}, Loss: {loss.item():,.4f}')\n",
    "        print(f\"density_loss: {density_loss.item():.4f}, vorticity_loss: {vorticity_loss.item():.4f}, tpe_loss: {tpe_loss.item():.4f}\")\n",
    "        print(f\"initial_n_loss: {initial_n_loss.item():.4f}, initial_u_loss: {initial_u_loss.item():.4f}, initial_ϵ_loss: {initial_ϵ_loss.item():.4f}\")\n",
    "        print(f\"boundary_n_loss: {boundary_n_loss.item():.4f}, boundary_u_loss: {boundary_u_loss.item():.4f}, boundary_ϵ_loss: {boundary_ϵ_loss.item():.4f}\")\n",
    "        \n",
    "        # if pinn.pars['plot_training_outputs']:\n",
    "        #     pinn.plot_outputs()\n",
    "    \n",
    "    # training step\n",
    "    pinn.optimizer.zero_grad()\n",
    "    X_interior = pinn.sample_interior_points()\n",
    "    X_initial = pinn.sample_initial_points()\n",
    "    X_boundary = pinn.sample_boundary_points()\n",
    "    loss, density_loss, vorticity_loss, tpe_loss, initial_n_loss, initial_u_loss, initial_ϵ_loss, boundary_n_loss, boundary_u_loss, boundary_ϵ_loss = pinn.forward(X_interior, X_initial, X_boundary)\n",
    "    \n",
    "        \n",
    "    if loss.isnan():\n",
    "        print(f'Epoch: {pinn.epoch}, Loss: {loss.item():,.4f}')\n",
    "        print(f\"density_loss: {density_loss.item():.4f}, vorticity_loss: {vorticity_loss.item():.4f}, tpe_loss: {tpe_loss.item():.4f}\")\n",
    "        print(f\"initial_n_loss: {initial_n_loss.item():.4f}, initial_u_loss: {initial_u_loss.item():.4f}, initial_ϵ_loss: {initial_ϵ_loss.item():.4f}\")\n",
    "        print(f\"boundary_n_loss: {boundary_n_loss.item():.4f}, boundary_u_loss: {boundary_u_loss.item():.4f}, boundary_ϵ_loss: {boundary_ϵ_loss.item():.4f}\")\n",
    "        print(\"loss is NaN, stopping training...\")\n",
    "        break\n",
    "    \n",
    "    else:\n",
    "        loss.backward()\n",
    "        pinn.optimizer.step()"
   ]
  },
  {
   "cell_type": "code",
   "execution_count": null,
   "metadata": {},
   "outputs": [],
   "source": [
    "x_interior = X_interior[:, 1].reshape(-1, 1)\n",
    "t_interior = X_interior[:, 0].reshape(-1, 1)\n",
    "\n",
    "Y_interior = pinn(torch.hstack((t_interior, x_interior)))"
   ]
  },
  {
   "cell_type": "code",
   "execution_count": null,
   "metadata": {},
   "outputs": [],
   "source": [
    "\n",
    "\n",
    "n_interior = Y_interior[:, 0].reshape(-1, 1)\n",
    "u_interior = Y_interior[:, 1].reshape(-1, 1)\n",
    "ϵ_interior = Y_interior[:, 2].reshape(-1, 1)\n",
    "\n",
    "w = compute_w(C_χ, l, ϵ_interior, α, a_u, u_interior)\n",
    "\n",
    "n_x_interior = grad(n_interior, x_interior, grad_outputs=torch.ones_like(n_interior), retain_graph=True, create_graph=True)[0]\n",
    "u_x_interior = grad(u_interior, x_interior, grad_outputs=torch.ones_like(u_interior), retain_graph=True, create_graph=True)[0]\n",
    "ϵ_x_interior = grad(ϵ_interior, x_interior, grad_outputs=torch.ones_like(ϵ_interior), retain_graph=True, create_graph=True)[0]\n",
    "ϵ_t_interior = grad(ϵ_interior, t_interior, grad_outputs=torch.ones_like(ϵ_interior), retain_graph=True, create_graph=True)[0]"
   ]
  },
  {
   "cell_type": "code",
   "execution_count": null,
   "metadata": {},
   "outputs": [],
   "source": [
    "tpe = pde_tpe(x_interior, ϵ_interior, n_x_interior, u_x_interior, ϵ_t_interior, ϵ_x_interior, l, β, Λ, ϵ_c, w)"
   ]
  },
  {
   "cell_type": "code",
   "execution_count": null,
   "metadata": {},
   "outputs": [],
   "source": [
    "x_interior[336], ϵ_interior[336], n_x_interior[336], u_x_interior[336], ϵ_x_interior[336], ϵ_t_interior[336], tpe[336]"
   ]
  },
  {
   "cell_type": "code",
   "execution_count": null,
   "metadata": {},
   "outputs": [],
   "source": [
    "intermediate = l**2 * torch.sqrt(ϵ_interior) * ϵ_x_interior\n",
    "intermediate.isnan().sum()"
   ]
  },
  {
   "cell_type": "code",
   "execution_count": null,
   "metadata": {},
   "outputs": [],
   "source": [
    "ϵ_interior[336]"
   ]
  },
  {
   "cell_type": "code",
   "execution_count": null,
   "metadata": {},
   "outputs": [],
   "source": [
    "(ϵ_interior**(-0.5))[336]"
   ]
  },
  {
   "cell_type": "code",
   "execution_count": null,
   "metadata": {},
   "outputs": [],
   "source": [
    "(ϵ_interior**(-0.5)*ϵ_x_interior).isnan().sum()"
   ]
  },
  {
   "cell_type": "code",
   "execution_count": null,
   "metadata": {},
   "outputs": [],
   "source": [
    "test = grad(ϵ_x_interior, x_interior, grad_outputs=torch.ones_like(ϵ_x_interior), retain_graph=True, create_graph=True)[0]"
   ]
  },
  {
   "cell_type": "code",
   "execution_count": null,
   "metadata": {},
   "outputs": [],
   "source": [
    "test.isnan().sum()"
   ]
  },
  {
   "cell_type": "code",
   "execution_count": null,
   "metadata": {},
   "outputs": [],
   "source": [
    "intermediate_x = grad(intermediate, x_interior, grad_outputs=torch.ones_like(intermediate), retain_graph=True, create_graph=True)[0]\n",
    "intermediate_x.isnan().sum()"
   ]
  },
  {
   "cell_type": "code",
   "execution_count": null,
   "metadata": {},
   "outputs": [],
   "source": [
    "torch.autograd.detect_anomaly(check_nan=True)"
   ]
  },
  {
   "cell_type": "code",
   "execution_count": null,
   "metadata": {},
   "outputs": [],
   "source": [
    "for i in range(tpe.shape[0]):\n",
    "    if tpe[i].isnan():\n",
    "        print(i)\n",
    "        break"
   ]
  },
  {
   "cell_type": "code",
   "execution_count": null,
   "metadata": {},
   "outputs": [],
   "source": [
    "for p in pinn.parameters():\n",
    "    print(p)"
   ]
  },
  {
   "cell_type": "code",
   "execution_count": null,
   "metadata": {},
   "outputs": [],
   "source": []
  },
  {
   "cell_type": "code",
   "execution_count": 16,
   "metadata": {},
   "outputs": [],
   "source": [
    "X_interior = pinn.sample_interior_points()\n",
    "X_initial = pinn.sample_initial_points()\n",
    "X_boundary = pinn.sample_boundary_points()\n",
    "\n",
    "t_interior = X_interior[:, 0].reshape(-1, 1)\n",
    "x_interior = X_interior[:, 1].reshape(-1, 1)\n",
    "t_initial = X_initial[:, 0].reshape(-1, 1)\n",
    "x_initial = X_initial[:, 1].reshape(-1, 1)\n",
    "t_boundary = X_boundary[:, 0].reshape(-1, 1)\n",
    "x_boundary = X_boundary[:, 1].reshape(-1, 1)\n",
    "\n",
    "# forward pass\n",
    "Y_interior = pinn.model(torch.hstack((t_interior, x_interior)))\n",
    "Y_initial = pinn.model(torch.hstack((t_initial, x_initial)))\n",
    "Y_boundary = pinn.model(torch.hstack((t_boundary, x_boundary)))"
   ]
  },
  {
   "cell_type": "code",
   "execution_count": 17,
   "metadata": {},
   "outputs": [
    {
     "name": "stdout",
     "output_type": "stream",
     "text": [
      "X_interior: tensor([[0.3982, 0.4681],\n",
      "        [0.9412, 0.4704],\n",
      "        [0.1411, 0.3022],\n",
      "        ...,\n",
      "        [0.2676, 0.2029],\n",
      "        [0.2089, 0.4961],\n",
      "        [0.6565, 0.8489]], device='cuda:0', requires_grad=True)\n",
      "X_initial: tensor([[0.0000, 0.0455],\n",
      "        [0.0000, 0.5064],\n",
      "        [0.0000, 0.7834],\n",
      "        ...,\n",
      "        [0.0000, 0.9536],\n",
      "        [0.0000, 0.7343],\n",
      "        [0.0000, 0.8111]], device='cuda:0', requires_grad=True)\n",
      "X_boundary: tensor([[0.8714, 0.0000],\n",
      "        [0.4738, 0.0000],\n",
      "        [0.7147, 1.0000],\n",
      "        ...,\n",
      "        [0.9609, 0.0000],\n",
      "        [0.4535, 0.0000],\n",
      "        [0.5562, 1.0000]], device='cuda:0', requires_grad=True)\n",
      "t_interior: tensor([[0.3982],\n",
      "        [0.9412],\n",
      "        [0.1411],\n",
      "        ...,\n",
      "        [0.2676],\n",
      "        [0.2089],\n",
      "        [0.6565]], device='cuda:0', grad_fn=<ReshapeAliasBackward0>)\n",
      "x_interior: tensor([[0.4681],\n",
      "        [0.4704],\n",
      "        [0.3022],\n",
      "        ...,\n",
      "        [0.2029],\n",
      "        [0.4961],\n",
      "        [0.8489]], device='cuda:0', grad_fn=<ReshapeAliasBackward0>)\n",
      "t_initial: tensor([[0.],\n",
      "        [0.],\n",
      "        [0.],\n",
      "        ...,\n",
      "        [0.],\n",
      "        [0.],\n",
      "        [0.]], device='cuda:0', grad_fn=<ReshapeAliasBackward0>)\n",
      "x_initial: tensor([[0.0455],\n",
      "        [0.5064],\n",
      "        [0.7834],\n",
      "        ...,\n",
      "        [0.9536],\n",
      "        [0.7343],\n",
      "        [0.8111]], device='cuda:0', grad_fn=<ReshapeAliasBackward0>)\n",
      "t_boundary: tensor([[0.8714],\n",
      "        [0.4738],\n",
      "        [0.7147],\n",
      "        ...,\n",
      "        [0.9609],\n",
      "        [0.4535],\n",
      "        [0.5562]], device='cuda:0', grad_fn=<ReshapeAliasBackward0>)\n",
      "x_boundary: tensor([[0.],\n",
      "        [0.],\n",
      "        [1.],\n",
      "        ...,\n",
      "        [0.],\n",
      "        [0.],\n",
      "        [1.]], device='cuda:0', grad_fn=<ReshapeAliasBackward0>)\n",
      "Y_interior: tensor([[-2.3859e+00, -4.7773e-04,  8.1106e-11],\n",
      "        [-2.4002e+00, -4.6462e-04,  3.4494e-10],\n",
      "        [-1.5409e+00, -3.6208e-04,  5.9049e-09],\n",
      "        ...,\n",
      "        [-1.0332e+00, -2.9955e-04,  4.9879e-08],\n",
      "        [-2.5295e+00, -5.3597e-04,  2.8602e-08],\n",
      "        [-4.3297e+00, -4.5800e-04,  2.3885e-08]], device='cuda:0',\n",
      "       grad_fn=<CatBackward0>)\n",
      "Y_initial: tensor([[-2.3405e-01, -2.3770e-05,  6.0323e-08],\n",
      "        [-2.5828e+00, -6.1229e-04,  1.1210e-07],\n",
      "        [-3.9937e+00, -8.9815e-04,  1.8792e-07],\n",
      "        ...,\n",
      "        [-4.8614e+00, -1.0225e-03,  1.3617e-07],\n",
      "        [-3.7437e+00, -8.5467e-04,  2.6056e-07],\n",
      "        [-4.1352e+00, -9.2126e-04,  1.3163e-07]], device='cuda:0',\n",
      "       grad_fn=<CatBackward0>)\n",
      "Y_boundary: tensor([[-3.5127e-03, -6.4601e-04,  5.8161e-08],\n",
      "        [ 3.2525e-03, -3.2351e-04,  1.2913e-07],\n",
      "        [-5.1008e+00, -3.9613e-04,  3.5099e-07],\n",
      "        ...,\n",
      "        [-6.4341e-03, -7.1828e-04,  4.1879e-08],\n",
      "        [ 3.3190e-03, -3.0744e-04,  1.3089e-07],\n",
      "        [-5.1012e+00, -5.1530e-04,  5.4021e-07]], device='cuda:0',\n",
      "       grad_fn=<CatBackward0>)\n"
     ]
    }
   ],
   "source": [
    "print(f\"X_interior: {X_interior}\")\n",
    "print(f\"X_initial: {X_initial}\")\n",
    "print(f\"X_boundary: {X_boundary}\")\n",
    "print(f\"t_interior: {t_interior}\")\n",
    "print(f\"x_interior: {x_interior}\")\n",
    "print(f\"t_initial: {t_initial}\")\n",
    "print(f\"x_initial: {x_initial}\")\n",
    "print(f\"t_boundary: {t_boundary}\")\n",
    "print(f\"x_boundary: {x_boundary}\")\n",
    "print(f\"Y_interior: {Y_interior}\")\n",
    "print(f\"Y_initial: {Y_initial}\")\n",
    "print(f\"Y_boundary: {Y_boundary}\")"
   ]
  },
  {
   "cell_type": "code",
   "execution_count": 18,
   "metadata": {},
   "outputs": [],
   "source": [
    "n_interior = Y_interior[:, 0].reshape(-1, 1)\n",
    "u_interior = Y_interior[:, 1].reshape(-1, 1)\n",
    "ϵ_interior = Y_interior[:, 2].reshape(-1, 1)\n",
    "\n",
    "n_initial = Y_initial[:, 0].reshape(-1, 1)\n",
    "u_initial = Y_initial[:, 1].reshape(-1, 1)\n",
    "ϵ_initial = Y_initial[:, 2].reshape(-1, 1)\n",
    "\n",
    "n_boundary = Y_boundary[:, 0].reshape(-1, 1)\n",
    "u_boundary = Y_boundary[:, 1].reshape(-1, 1)\n",
    "ϵ_boundary = Y_boundary[:, 2].reshape(-1, 1)"
   ]
  },
  {
   "cell_type": "code",
   "execution_count": 19,
   "metadata": {},
   "outputs": [
    {
     "name": "stdout",
     "output_type": "stream",
     "text": [
      "n_interior: tensor([[-2.3859],\n",
      "        [-2.4002],\n",
      "        [-1.5409],\n",
      "        ...,\n",
      "        [-1.0332],\n",
      "        [-2.5295],\n",
      "        [-4.3297]], device='cuda:0', grad_fn=<ReshapeAliasBackward0>)\n",
      "u_interior: tensor([[-0.0005],\n",
      "        [-0.0005],\n",
      "        [-0.0004],\n",
      "        ...,\n",
      "        [-0.0003],\n",
      "        [-0.0005],\n",
      "        [-0.0005]], device='cuda:0', grad_fn=<ReshapeAliasBackward0>)\n",
      "ϵ_interior: tensor([[8.1106e-11],\n",
      "        [3.4494e-10],\n",
      "        [5.9049e-09],\n",
      "        ...,\n",
      "        [4.9879e-08],\n",
      "        [2.8602e-08],\n",
      "        [2.3885e-08]], device='cuda:0', grad_fn=<ReshapeAliasBackward0>)\n",
      "n_initial: tensor([[-0.2341],\n",
      "        [-2.5828],\n",
      "        [-3.9937],\n",
      "        ...,\n",
      "        [-4.8614],\n",
      "        [-3.7437],\n",
      "        [-4.1352]], device='cuda:0', grad_fn=<ReshapeAliasBackward0>)\n",
      "u_initial: tensor([[-2.3770e-05],\n",
      "        [-6.1229e-04],\n",
      "        [-8.9815e-04],\n",
      "        ...,\n",
      "        [-1.0225e-03],\n",
      "        [-8.5467e-04],\n",
      "        [-9.2126e-04]], device='cuda:0', grad_fn=<ReshapeAliasBackward0>)\n",
      "ϵ_initial: tensor([[6.0323e-08],\n",
      "        [1.1210e-07],\n",
      "        [1.8792e-07],\n",
      "        ...,\n",
      "        [1.3617e-07],\n",
      "        [2.6056e-07],\n",
      "        [1.3163e-07]], device='cuda:0', grad_fn=<ReshapeAliasBackward0>)\n",
      "n_boundary: tensor([[-3.5127e-03],\n",
      "        [ 3.2525e-03],\n",
      "        [-5.1008e+00],\n",
      "        ...,\n",
      "        [-6.4341e-03],\n",
      "        [ 3.3190e-03],\n",
      "        [-5.1012e+00]], device='cuda:0', grad_fn=<ReshapeAliasBackward0>)\n",
      "u_boundary: tensor([[-0.0006],\n",
      "        [-0.0003],\n",
      "        [-0.0004],\n",
      "        ...,\n",
      "        [-0.0007],\n",
      "        [-0.0003],\n",
      "        [-0.0005]], device='cuda:0', grad_fn=<ReshapeAliasBackward0>)\n",
      "ϵ_boundary: tensor([[5.8161e-08],\n",
      "        [1.2913e-07],\n",
      "        [3.5099e-07],\n",
      "        ...,\n",
      "        [4.1879e-08],\n",
      "        [1.3089e-07],\n",
      "        [5.4021e-07]], device='cuda:0', grad_fn=<ReshapeAliasBackward0>)\n"
     ]
    }
   ],
   "source": [
    "print(f\"n_interior: {n_interior}\")\n",
    "print(f\"u_interior: {u_interior}\")\n",
    "print(f\"ϵ_interior: {ϵ_interior}\")\n",
    "print(f\"n_initial: {n_initial}\")\n",
    "print(f\"u_initial: {u_initial}\")\n",
    "print(f\"ϵ_initial: {ϵ_initial}\")\n",
    "print(f\"n_boundary: {n_boundary}\")\n",
    "print(f\"u_boundary: {u_boundary}\")\n",
    "print(f\"ϵ_boundary: {ϵ_boundary}\")"
   ]
  },
  {
   "cell_type": "code",
   "execution_count": 20,
   "metadata": {},
   "outputs": [],
   "source": [
    "n_x_interior = grad(n_interior, x_interior, grad_outputs=torch.ones_like(n_interior), retain_graph=True, create_graph=True)[0]\n",
    "n_t_interior = grad(n_interior, t_interior, grad_outputs=torch.ones_like(n_interior), retain_graph=True, create_graph=True)[0]\n",
    "\n",
    "n_xx_interior = grad(n_x_interior, x_interior, grad_outputs=torch.ones_like(n_x_interior), retain_graph=True, create_graph=True)[0]\n",
    "\n",
    "u_x_interior = grad(u_interior, x_interior, grad_outputs=torch.ones_like(u_interior), retain_graph=True, create_graph=True)[0]\n",
    "u_t_interior = grad(u_interior, t_interior, grad_outputs=torch.ones_like(u_interior), retain_graph=True, create_graph=True)[0]\n",
    "\n",
    "u_xx_interior = grad(u_x_interior, x_interior, grad_outputs=torch.ones_like(u_x_interior), retain_graph=True, create_graph=True)[0]\n",
    "\n",
    "ϵ_x_interior = grad(ϵ_interior, x_interior, grad_outputs=torch.ones_like(ϵ_interior), retain_graph=True, create_graph=True)[0]\n",
    "ϵ_t_interior = grad(ϵ_interior, t_interior, grad_outputs=torch.ones_like(ϵ_interior), retain_graph=True, create_graph=True)[0]\n",
    "\n",
    "ϵ_x_boundary = grad(ϵ_boundary, x_boundary, grad_outputs=torch.ones_like(ϵ_boundary), retain_graph=True, create_graph=True)[0]"
   ]
  },
  {
   "cell_type": "code",
   "execution_count": 21,
   "metadata": {},
   "outputs": [
    {
     "name": "stdout",
     "output_type": "stream",
     "text": [
      "n_x_interior: tensor([[-5.1053],\n",
      "        [-5.0974],\n",
      "        [-5.1003],\n",
      "        ...,\n",
      "        [-5.1029],\n",
      "        [-5.1014],\n",
      "        [-5.1033]], device='cuda:0', grad_fn=<SliceBackward0>)\n",
      "n_t_interior: tensor([[ 0.0019],\n",
      "        [-0.0118],\n",
      "        [ 0.0110],\n",
      "        ...,\n",
      "        [ 0.0089],\n",
      "        [ 0.0041],\n",
      "        [ 0.0008]], device='cuda:0', grad_fn=<SliceBackward0>)\n",
      "n_xx_interior: tensor([[ 0.0075],\n",
      "        [-0.0003],\n",
      "        [ 0.0011],\n",
      "        ...,\n",
      "        [ 0.0053],\n",
      "        [ 0.0095],\n",
      "        [-0.0059]], device='cuda:0', grad_fn=<SliceBackward0>)\n",
      "u_x_interior: tensor([[-5.0228e-04],\n",
      "        [ 3.8102e-04],\n",
      "        [-1.0184e-03],\n",
      "        ...,\n",
      "        [-7.3032e-04],\n",
      "        [-8.2854e-04],\n",
      "        [ 8.1598e-05]], device='cuda:0', grad_fn=<SliceBackward0>)\n",
      "u_t_interior: tensor([[ 1.4177e-04],\n",
      "        [-7.5041e-05],\n",
      "        [-7.3105e-05],\n",
      "        ...,\n",
      "        [-3.1812e-04],\n",
      "        [ 2.7365e-04],\n",
      "        [ 5.6969e-04]], device='cuda:0', grad_fn=<SliceBackward0>)\n",
      "u_xx_interior: tensor([[ 3.2101e-04],\n",
      "        [-1.6180e-04],\n",
      "        [-4.7071e-05],\n",
      "        ...,\n",
      "        [-4.9752e-04],\n",
      "        [ 6.2739e-04],\n",
      "        [ 6.0921e-04]], device='cuda:0', grad_fn=<SliceBackward0>)\n",
      "ϵ_x_interior: tensor([[-3.4439e-08],\n",
      "        [-9.0711e-08],\n",
      "        [-1.5051e-07],\n",
      "        ...,\n",
      "        [-1.2315e-07],\n",
      "        [ 6.2770e-07],\n",
      "        [-9.1212e-07]], device='cuda:0', grad_fn=<SliceBackward0>)\n",
      "ϵ_t_interior: tensor([[ 9.8398e-09],\n",
      "        [-1.6989e-08],\n",
      "        [ 1.1160e-07],\n",
      "        ...,\n",
      "        [ 2.6621e-07],\n",
      "        [-2.4963e-07],\n",
      "        [ 1.7760e-07]], device='cuda:0', grad_fn=<SliceBackward0>)\n",
      "ϵ_x_boundary: tensor([[-7.9146e-08],\n",
      "        [-1.0876e-06],\n",
      "        [ 9.1969e-06],\n",
      "        ...,\n",
      "        [ 2.2242e-08],\n",
      "        [-1.1558e-06],\n",
      "        [ 1.2061e-05]], device='cuda:0', grad_fn=<SliceBackward0>)\n"
     ]
    }
   ],
   "source": [
    "print(f\"n_x_interior: {n_x_interior}\")\n",
    "print(f\"n_t_interior: {n_t_interior}\")\n",
    "print(f\"n_xx_interior: {n_xx_interior}\")\n",
    "print(f\"u_x_interior: {u_x_interior}\")\n",
    "print(f\"u_t_interior: {u_t_interior}\")\n",
    "print(f\"u_xx_interior: {u_xx_interior}\")\n",
    "print(f\"ϵ_x_interior: {ϵ_x_interior}\")\n",
    "print(f\"ϵ_t_interior: {ϵ_t_interior}\")\n",
    "print(f\"ϵ_x_boundary: {ϵ_x_boundary}\")"
   ]
  },
  {
   "cell_type": "code",
   "execution_count": null,
   "metadata": {},
   "outputs": [],
   "source": [
    "w = compute_w(C_χ, l, ϵ_interior, α, a_u, u_interior)\n",
    "\n",
    "density_loss = pde_mean_density(x_interior, n_t_interior, n_x_interior, n_xx_interior, ϵ_interior, l, α, D_c)\n",
    "vorticity_loss = pde_mean_vorticity(x_interior, ϵ_interior, n_x_interior, u_t_interior, u_xx_interior, l, α, μ_c, w)\n",
    "tpe_loss = pde_tpe(x_interior, ϵ_interior, n_x_interior, u_x_interior, ϵ_t_interior, ϵ_x_interior, l, β, Λ, ϵ_c, w)\n",
    "interior_loss = (density_loss + vorticity_loss + tpe_loss).mean()\n",
    "\n",
    "mse = nn.MSELoss()\n",
    "\n",
    "initial_n_loss = mse(n_initial_cond(t_initial), n_initial)\n",
    "initial_u_loss = mse(u_initial_cond(t_initial), u_initial)\n",
    "initial_ϵ_loss = mse(ϵ_initial_cond(t_initial), ϵ_initial)\n",
    "initial_loss = (initial_n_loss + initial_u_loss + initial_ϵ_loss)\n",
    "\n",
    "boundary_n_loss = mse(n_boundary_cond(t_boundary, x_boundary), n_boundary)\n",
    "boundary_u_loss = mse(u_boundary_cond(t_boundary, x_boundary), u_boundary)\n",
    "boundary_ϵ_loss = mse(ϵ_x_boundary_cond(t_boundary, x_boundary), ϵ_x_boundary)\n",
    "boundary_loss = (boundary_n_loss + boundary_u_loss + boundary_ϵ_loss)\n",
    "total_loss = interior_loss + initial_loss + boundary_loss"
   ]
  },
  {
   "cell_type": "code",
   "execution_count": null,
   "metadata": {},
   "outputs": [],
   "source": [
    "print(f\"w: {w}\")\n",
    "print(f\"density_loss: {density_loss.mean().item()}, vorticity_loss: {vorticity_loss.mean().item()}, tpe_loss: {tpe_loss.mean().item()}\")\n",
    "print(f\"initial_n_loss: {initial_n_loss.item()}, initial_u_loss: {initial_u_loss.item()}, initial_ϵ_loss: {initial_ϵ_loss.item()}\")\n",
    "print(f\"boundary_n_loss: {boundary_n_loss.item()}, boundary_u_loss: {boundary_u_loss.item()}, boundary_ϵ_loss: {boundary_ϵ_loss.item()}\")\n",
    "print(f\"total_loss: {total_loss.item()}\")\n",
    "print(f\"interior_loss: {interior_loss.item()}\")\n",
    "print(f\"initial_loss: {initial_loss.item()}\")\n",
    "print(f\"boundary_loss: {boundary_loss.item()}\")"
   ]
  },
  {
   "cell_type": "code",
   "execution_count": null,
   "metadata": {},
   "outputs": [],
   "source": [
    "n_boundary, n_boundary_cond(t_boundary, x_boundary)"
   ]
  },
  {
   "cell_type": "code",
   "execution_count": null,
   "metadata": {},
   "outputs": [],
   "source": [
    "mse(n_boundary_cond(t_boundary, x_boundary), n_boundary)"
   ]
  },
  {
   "cell_type": "code",
   "execution_count": null,
   "metadata": {},
   "outputs": [],
   "source": [
    "intermediate = l**2 * torch.sqrt(ϵ_interior) * ϵ_x_interior\n",
    "intermediate_x = grad(intermediate, x_interior, grad_outputs=torch.ones_like(intermediate), retain_graph=True, create_graph=True)[0]\n",
    "\n",
    "tpe_loss = torch.abs(ϵ_t_interior - β * intermediate_x - Λ * (w * (n_x_interior - u_x_interior)**2 - ϵ_interior**(3/2) / ϵ_c**0.5 + ϵ_interior))"
   ]
  },
  {
   "cell_type": "code",
   "execution_count": null,
   "metadata": {},
   "outputs": [],
   "source": [
    "(w * (n_x_interior - u_x_interior)**2 - ϵ_interior**(3/2) / ϵ_c**0.5 + ϵ_interior)*4000"
   ]
  },
  {
   "cell_type": "code",
   "execution_count": null,
   "metadata": {},
   "outputs": [],
   "source": [
    "ϵ_interior"
   ]
  },
  {
   "cell_type": "code",
   "execution_count": null,
   "metadata": {},
   "outputs": [],
   "source": [
    "ϵ_interior**1.5"
   ]
  },
  {
   "cell_type": "code",
   "execution_count": null,
   "metadata": {},
   "outputs": [],
   "source": [
    "(-0.4184)**1.5"
   ]
  }
 ],
 "metadata": {
  "kernelspec": {
   "display_name": "pdenn",
   "language": "python",
   "name": "python3"
  },
  "language_info": {
   "codemirror_mode": {
    "name": "ipython",
    "version": 3
   },
   "file_extension": ".py",
   "mimetype": "text/x-python",
   "name": "python",
   "nbconvert_exporter": "python",
   "pygments_lexer": "ipython3",
   "version": "3.12.5"
  }
 },
 "nbformat": 4,
 "nbformat_minor": 2
}
